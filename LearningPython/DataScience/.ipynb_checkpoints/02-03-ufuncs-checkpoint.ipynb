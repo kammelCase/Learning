{
 "cells": [
  {
   "cell_type": "code",
   "execution_count": 2,
   "id": "1c9264e2-70b1-48b7-ad8c-360c93fd2246",
   "metadata": {
    "tags": []
   },
   "outputs": [
    {
     "data": {
      "text/plain": [
       "array([0.        , 0.5       , 0.66666667, 0.75      , 0.8       ])"
      ]
     },
     "execution_count": 2,
     "metadata": {},
     "output_type": "execute_result"
    }
   ],
   "source": [
    "# UFuncs are vectorized operations, which is a fancy why of saying that\n",
    "# numpy provides a way to interface and process data that achieves speeds\n",
    "# that mimic that of statically typed languages (c, fortran, etc)\n",
    "\n",
    "import numpy as np\n",
    "\n",
    "np.arange(5) / np.arange(1, 6)"
   ]
  },
  {
   "cell_type": "code",
   "execution_count": 9,
   "id": "09fec0b6-92f4-4591-aa6c-96d835819659",
   "metadata": {
    "tags": []
   },
   "outputs": [
    {
     "data": {
      "text/plain": [
       "array([[0, 1, 2],\n",
       "       [3, 4, 5],\n",
       "       [6, 7, 8]])"
      ]
     },
     "execution_count": 9,
     "metadata": {},
     "output_type": "execute_result"
    }
   ],
   "source": [
    "# using np.arange(9) to create an array 1-9\n",
    "# then using method .reshape((3,3)) to reshape the\n",
    "# array into a 3x3\n",
    "\n",
    "x = np.arange(9).reshape((3,3))\n",
    "x"
   ]
  },
  {
   "cell_type": "code",
   "execution_count": 8,
   "id": "bb78c6ea-0063-4ea2-8ddb-b1bf92e4527d",
   "metadata": {
    "tags": []
   },
   "outputs": [
    {
     "data": {
      "text/plain": [
       "array([[  0,   1,   8],\n",
       "       [ 27,  64, 125],\n",
       "       [216, 343, 512]])"
      ]
     },
     "execution_count": 8,
     "metadata": {},
     "output_type": "execute_result"
    }
   ],
   "source": [
    "# using ufuncs like this are almost always faster\n",
    "# than a pythonic implementation\n",
    "\n",
    "x ** 3"
   ]
  },
  {
   "cell_type": "code",
   "execution_count": 12,
   "id": "60b2c1e9-49fe-49f4-9216-31a2b17a28ad",
   "metadata": {
    "tags": []
   },
   "outputs": [
    {
     "name": "stdout",
     "output_type": "stream",
     "text": [
      "x    = [0 1 2 3]\n",
      "x + 5= [5 6 7 8]\n",
      "x - 5= [-5 -4 -3 -2]\n",
      "x * 5= [ 0  5 10 15]\n",
      "x / 5= [0.  0.2 0.4 0.6]\n",
      "x // 5= [0 0 0 0]\n"
     ]
    }
   ],
   "source": [
    "# examples of some ufuncs\n",
    "\n",
    "x = np.arange(4)\n",
    "\n",
    "print(\"x    =\", x)\n",
    "print(\"x + 5=\", x + 5)\n",
    "print(\"x - 5=\", x - 5)\n",
    "print(\"x * 5=\", x * 5)\n",
    "print(\"x / 5=\", x / 5)\n",
    "print(\"x // 5=\", x // 5)"
   ]
  },
  {
   "cell_type": "code",
   "execution_count": 13,
   "id": "82b8b142-a69d-4892-b06d-0af74c4160f0",
   "metadata": {
    "tags": []
   },
   "outputs": [
    {
     "name": "stdout",
     "output_type": "stream",
     "text": [
      "-x   = [ 0 -1 -2 -3]\n",
      "x ** 2= [0 1 4 9]\n",
      "x % 2= [0 1 0 1]\n"
     ]
    }
   ],
   "source": [
    "# also\n",
    "\n",
    "print(\"-x   =\", -x)\n",
    "print(\"x ** 2=\", x**2)\n",
    "print(\"x % 2=\", x%2)"
   ]
  },
  {
   "cell_type": "code",
   "execution_count": 15,
   "id": "20715b19-8803-46ee-a5b1-968adb74e034",
   "metadata": {
    "tags": []
   },
   "outputs": [
    {
     "data": {
      "text/plain": [
       "array([2, 3, 4, 5])"
      ]
     },
     "execution_count": 15,
     "metadata": {},
     "output_type": "execute_result"
    }
   ],
   "source": [
    "# all these operations are just wrappers around these ufuncs in np\n",
    "\n",
    "x+2 #is also\n",
    "np.add(x, 2)"
   ]
  },
  {
   "cell_type": "code",
   "execution_count": 19,
   "id": "6e3c9a9e-20cc-46c9-921d-63279fe0ced1",
   "metadata": {
    "tags": []
   },
   "outputs": [
    {
     "data": {
      "text/plain": [
       "array([10,  9,  8,  7])"
      ]
     },
     "execution_count": 19,
     "metadata": {},
     "output_type": "execute_result"
    }
   ],
   "source": [
    "# also\n",
    "\n",
    "x = x-10\n",
    "\n",
    "np.abs(x) # yay absolute() ufunc"
   ]
  },
  {
   "cell_type": "code",
   "execution_count": 24,
   "id": "7ed02df3-f95c-423f-a3e6-8c8ac899de15",
   "metadata": {
    "tags": []
   },
   "outputs": [
    {
     "data": {
      "text/plain": [
       "array([10,  9,  8,  7])"
      ]
     },
     "execution_count": 24,
     "metadata": {},
     "output_type": "execute_result"
    }
   ],
   "source": [
    "# very cool, we can specify output in any ufunc with the out= argument\n",
    "# this can save on compute time as the memory is stored directly to y\n",
    "# instead of there and also temporary memory\n",
    "\n",
    "y = np.arange(4)\n",
    "\n",
    "np.abs(x, out=y)\n",
    "\n",
    "y"
   ]
  },
  {
   "cell_type": "code",
   "execution_count": 45,
   "id": "e52029e6-7614-4d4a-ad98-4608eb1d21cf",
   "metadata": {
    "tags": []
   },
   "outputs": [
    {
     "data": {
      "text/plain": [
       "array([[0., 0., 0.],\n",
       "       [1., 1., 1.],\n",
       "       [2., 2., 2.]])"
      ]
     },
     "execution_count": 45,
     "metadata": {},
     "output_type": "execute_result"
    }
   ],
   "source": [
    "# trying this out again\n",
    "\n",
    "i = np.arange(9).reshape((3,3))\n",
    "j = np.zeros(9).reshape((3,3))\n",
    "\n",
    "np.floor_divide(i, 3, out=j)\n",
    "\n",
    "j"
   ]
  },
  {
   "cell_type": "code",
   "execution_count": 48,
   "id": "8b837fcf-6d60-4f54-922c-f6d2934570ed",
   "metadata": {
    "tags": []
   },
   "outputs": [
    {
     "data": {
      "text/plain": [
       "9.0"
      ]
     },
     "execution_count": 48,
     "metadata": {},
     "output_type": "execute_result"
    }
   ],
   "source": [
    "# we can also use .reduce() ufunc to reduce an array\n",
    "# using the given method like .add or .multiply\n",
    "\n",
    "k = np.add.reduce(j)\n",
    "np.add.reduce(k)"
   ]
  },
  {
   "cell_type": "code",
   "execution_count": 82,
   "id": "3b1917d7-b85e-460b-9886-f153ea5d6ca3",
   "metadata": {
    "tags": []
   },
   "outputs": [
    {
     "data": {
      "text/plain": [
       "9.0"
      ]
     },
     "execution_count": 82,
     "metadata": {},
     "output_type": "execute_result"
    }
   ],
   "source": [
    "# this should be the same as\n",
    "\n",
    "np.sum(j)"
   ]
  },
  {
   "cell_type": "code",
   "execution_count": 133,
   "id": "c27b1378-b0ed-4831-9e1a-97569be851d2",
   "metadata": {
    "tags": []
   },
   "outputs": [
    {
     "data": {
      "text/plain": [
       "array([-10, -19, -27, -34])"
      ]
     },
     "execution_count": 133,
     "metadata": {},
     "output_type": "execute_result"
    }
   ],
   "source": [
    "# can also store the intermediate results in another array with .accumulate(x)\n",
    "\n",
    "np.add.accumulate(x)"
   ]
  },
  {
   "cell_type": "code",
   "execution_count": 136,
   "id": "df220567-be9c-4006-a673-44ba2107d1c1",
   "metadata": {
    "tags": []
   },
   "outputs": [
    {
     "data": {
      "text/plain": [
       "array([[ 1.,  2.,  3.,  4.,  5.],\n",
       "       [ 2.,  4.,  6.,  8., 10.],\n",
       "       [ 3.,  6.,  9., 12., 15.],\n",
       "       [ 4.,  8., 12., 16., 20.],\n",
       "       [ 5., 10., 15., 20., 25.]])"
      ]
     },
     "execution_count": 136,
     "metadata": {},
     "output_type": "execute_result"
    }
   ],
   "source": [
    "# can use any ufunc to compute results using outer method\n",
    "# which applies results to the outer values in the array\n",
    "\n",
    "o = np.arange(1, 6)\n",
    "p = np.zeros((5, 5))\n",
    "np.multiply.outer(o, o, out=p)"
   ]
  },
  {
   "cell_type": "code",
   "execution_count": 140,
   "id": "a1d78de7-45ee-4ed2-8cf9-47503577e065",
   "metadata": {
    "tags": []
   },
   "outputs": [
    {
     "data": {
      "text/plain": [
       "225.0"
      ]
     },
     "execution_count": 140,
     "metadata": {},
     "output_type": "execute_result"
    }
   ],
   "source": [
    "# using a for loop to collapse the entire\n",
    "# array into one number, nice!\n",
    "# ps: figured this one out on my own :DD\n",
    "# realized that to do this, the reduce ufunc\n",
    "# had to be run the by the number of dimentions in the array!\n",
    "\n",
    "for i in range(np.ndim(p)):\n",
    "    p = np.add.reduce(p)\n",
    "    \n",
    "p"
   ]
  }
 ],
 "metadata": {
  "kernelspec": {
   "display_name": "Python 3 (ipykernel)",
   "language": "python",
   "name": "python3"
  },
  "language_info": {
   "codemirror_mode": {
    "name": "ipython",
    "version": 3
   },
   "file_extension": ".py",
   "mimetype": "text/x-python",
   "name": "python",
   "nbconvert_exporter": "python",
   "pygments_lexer": "ipython3",
   "version": "3.11.5"
  }
 },
 "nbformat": 4,
 "nbformat_minor": 5
}
