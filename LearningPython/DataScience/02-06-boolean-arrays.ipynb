{
 "cells": [
  {
   "cell_type": "code",
   "execution_count": 22,
   "id": "56c93380-4101-4f5f-aa53-4281345167f5",
   "metadata": {
    "tags": []
   },
   "outputs": [
    {
     "data": {
      "text/plain": [
       "(365,)"
      ]
     },
     "execution_count": 22,
     "metadata": {},
     "output_type": "execute_result"
    }
   ],
   "source": [
    "# booleans and masks in numpy\n",
    "# very useful for filtering and modifying data based on certain criteria!\n",
    "\n",
    "import numpy as np\n",
    "import pandas as pd\n",
    "\n",
    "seattle = pd.read_csv('data/Seattle2014.csv')\n",
    "rainfall = np.array(seattle['PRCP'])\n",
    "inches = rainfall/254.0   #1/10mm -> inches\n",
    "inches.shape\n",
    "\n",
    "#.shape looks extremely useful for determining the shape of data, as u said jon!\n",
    "#alternatively, i can just add ['PRCP'].values to the end of the first line"
   ]
  },
  {
   "cell_type": "code",
   "execution_count": 23,
   "id": "b70b9e9c-e971-4738-9938-cf4ca4a9a7b7",
   "metadata": {
    "tags": []
   },
   "outputs": [],
   "source": [
    "# the shape here looks like a list that's 365 entries with 0 columns.\n",
    "# so a 1d array\n",
    "\n",
    "%matplotlib inline\n",
    "import matplotlib.pyplot as plt\n",
    "import seaborn; seaborn.set()  # set plot styles"
   ]
  },
  {
   "cell_type": "code",
   "execution_count": 24,
   "id": "aecd0da3-101b-4580-9298-c372cb2c176a",
   "metadata": {
    "tags": []
   },
   "outputs": [
    {
     "data": {
      "image/png": "[encoded data removed]",
      "text/plain": [
       "<Figure size 640x480 with 1 Axes>"
      ]
     },
     "metadata": {},
     "output_type": "display_data"
    }
   ],
   "source": [
    "# not as much precipitation in seattle as you'd think\n",
    "\n",
    "plt.hist(inches, 10);"
   ]
  },
  {
   "cell_type": "code",
   "execution_count": 45,
   "id": "2d273c71-de58-4465-984c-fa7c86bcadb5",
   "metadata": {
    "tags": []
   },
   "outputs": [
    {
     "data": {
      "text/plain": [
       "150"
      ]
     },
     "execution_count": 45,
     "metadata": {},
     "output_type": "execute_result"
    }
   ],
   "source": [
    "# producing a boolean array to display True if inches<0.25\n",
    "\n",
    "inches > 0\n",
    "rainyDays = inches > 0\n",
    "np.sum(rainyDays)"
   ]
  },
  {
   "cell_type": "code",
   "execution_count": 26,
   "id": "d022a504-f4a5-483b-a42b-a9a0f1957806",
   "metadata": {
    "tags": []
   },
   "outputs": [
    {
     "data": {
      "text/plain": [
       "299"
      ]
     },
     "execution_count": 26,
     "metadata": {},
     "output_type": "execute_result"
    }
   ],
   "source": [
    "# how do we count these? using ufuncs! np.count_nonzero\n",
    "\n",
    "notRainy = np.count_nonzero(inches < 0.25)\n",
    "notRainy"
   ]
  },
  {
   "cell_type": "code",
   "execution_count": 27,
   "id": "993a8bfd-2c93-4f8e-8f7a-798a3ed00a6e",
   "metadata": {
    "tags": []
   },
   "outputs": [
    {
     "data": {
      "text/plain": [
       "7"
      ]
     },
     "execution_count": 27,
     "metadata": {},
     "output_type": "execute_result"
    }
   ],
   "source": [
    "# what if we want to calculate the number of days where\n",
    "# inches is < 4 and > 1?\n",
    "# use np.sum() and create a bool statement\n",
    "# np.sum() will tally the number of true results and return a value\n",
    "\n",
    "rainy = np.sum((inches > 1) & (inches < 4))\n",
    "rainy"
   ]
  },
  {
   "cell_type": "code",
   "execution_count": 28,
   "id": "9231649d-1d3a-471f-9ec3-15f1c03a10f1",
   "metadata": {
    "tags": []
   },
   "outputs": [
    {
     "data": {
      "text/plain": [
       "84"
      ]
     },
     "execution_count": 28,
     "metadata": {},
     "output_type": "execute_result"
    }
   ],
   "source": [
    "# big takeaway. np.sum() and similar ufuncs are super useful\n",
    "# when used with boolean statements to tally results!\n",
    "\n",
    "lightRain = np.sum((inches>0) & (inches<0.25))\n",
    "lightRain"
   ]
  },
  {
   "cell_type": "code",
   "execution_count": 29,
   "id": "66ddb213-08c6-4096-b4d2-67a8c3a465f0",
   "metadata": {
    "tags": []
   },
   "outputs": [],
   "source": [
    "###"
   ]
  },
  {
   "cell_type": "code",
   "execution_count": 30,
   "id": "ab4759ed-f27d-4634-abaf-e6c8b9024f62",
   "metadata": {
    "tags": []
   },
   "outputs": [
    {
     "data": {
      "text/plain": [
       "array([[5, 0, 3, 3],\n",
       "       [7, 9, 3, 5],\n",
       "       [2, 4, 7, 6]])"
      ]
     },
     "execution_count": 30,
     "metadata": {},
     "output_type": "execute_result"
    }
   ],
   "source": [
    "# creating this random array from the example journal\n",
    "\n",
    "rng = np.random.RandomState(0)\n",
    "x = rng.randint(10, size=(3, 4))\n",
    "x"
   ]
  },
  {
   "cell_type": "code",
   "execution_count": 31,
   "id": "19b469a0-373c-4e92-8801-7bcce4c624be",
   "metadata": {
    "tags": []
   },
   "outputs": [
    {
     "data": {
      "text/plain": [
       "11"
      ]
     },
     "execution_count": 31,
     "metadata": {},
     "output_type": "execute_result"
    }
   ],
   "source": [
    "# we can use a boolean to figure out how many are not 0\n",
    "# as bool 0=False and 1+=True\n",
    "\n",
    "np.count_nonzero(x)"
   ]
  },
  {
   "cell_type": "code",
   "execution_count": 32,
   "id": "80bd79b9-885e-4e26-a59f-1adbe31fde93",
   "metadata": {
    "tags": []
   },
   "outputs": [
    {
     "data": {
      "text/plain": [
       "8"
      ]
     },
     "execution_count": 32,
     "metadata": {},
     "output_type": "execute_result"
    }
   ],
   "source": [
    "# or how many are <6\n",
    "\n",
    "np.count_nonzero(x < 6)"
   ]
  },
  {
   "cell_type": "code",
   "execution_count": 33,
   "id": "a8fafe9b-1e49-488d-9470-5b8fff3e0540",
   "metadata": {
    "tags": []
   },
   "outputs": [
    {
     "name": "stdout",
     "output_type": "stream",
     "text": [
      "[4 2 2]\n",
      "[2 2 2 2]\n"
     ]
    }
   ],
   "source": [
    "# we can also use np.sum() along with the extra functions\n",
    "# to operate along rows and columns only\n",
    "\n",
    "print(np.sum(x<6, axis=1)) #operates along rows, totalling number of values<6\n",
    "print(np.sum(x<6, axis=0)) #same but with columns"
   ]
  },
  {
   "cell_type": "code",
   "execution_count": 34,
   "id": "c73b8926-5fce-4e25-b28f-378b36b96791",
   "metadata": {
    "tags": []
   },
   "outputs": [
    {
     "name": "stdout",
     "output_type": "stream",
     "text": [
      "True\n",
      "False\n"
     ]
    }
   ],
   "source": [
    "# we can also use np.any and np.all to quickly prod the entire array\n",
    "\n",
    "print(np.any(x==0))\n",
    "print(np.all(x==0))"
   ]
  },
  {
   "cell_type": "code",
   "execution_count": 35,
   "id": "16fe6755-f6b4-4bea-956c-fb45ef56f37c",
   "metadata": {
    "tags": []
   },
   "outputs": [
    {
     "name": "stdout",
     "output_type": "stream",
     "text": [
      "[ True False False]\n",
      "[False  True False False]\n"
     ]
    }
   ],
   "source": [
    "# as always, we can do this along rows and columns only\n",
    "\n",
    "print(np.any(x==0, axis=1)) # checks if there are any 0s in each row\n",
    "print(np.any(x==0, axis=0)) # same but columns"
   ]
  },
  {
   "cell_type": "code",
   "execution_count": 36,
   "id": "fe61a18b-bfa5-4459-b43f-f6d6530e8c1e",
   "metadata": {
    "tags": []
   },
   "outputs": [
    {
     "name": "stdout",
     "output_type": "stream",
     "text": [
      "[[ True]\n",
      " [False]\n",
      " [False]]\n",
      "\n",
      "\n",
      "[False  True False False]\n"
     ]
    }
   ],
   "source": [
    "# curious if i can add these and broadcast this to figure out\n",
    "# where the zero is without using the original array\n",
    "\n",
    "rows = np.any(x==0, axis=1).reshape((3,1)) #reshape to be 3 rows\n",
    "columns = np.any(x==0, axis=0) #this already looks correct\n",
    "\n",
    "print(rows)\n",
    "print(\"\\n\")\n",
    "print(columns)"
   ]
  },
  {
   "cell_type": "code",
   "execution_count": 37,
   "id": "6acb9791-e25f-433e-a917-103327c431d9",
   "metadata": {
    "tags": []
   },
   "outputs": [
    {
     "data": {
      "text/plain": [
       "array([[False,  True, False, False],\n",
       "       [False, False, False, False],\n",
       "       [False, False, False, False]])"
      ]
     },
     "execution_count": 37,
     "metadata": {},
     "output_type": "execute_result"
    }
   ],
   "source": [
    "array = rows&columns\n",
    "array"
   ]
  },
  {
   "cell_type": "code",
   "execution_count": 38,
   "id": "069f7ac4-293f-4b30-9570-04d70c5efd9f",
   "metadata": {},
   "outputs": [],
   "source": [
    "# works!\n",
    "# jon, i wonder if there is a ufunc that can return the location\n",
    "# of all true results?"
   ]
  },
  {
   "cell_type": "code",
   "execution_count": 39,
   "id": "48e0af5b-5fb3-4810-b73e-72dfd2c00731",
   "metadata": {
    "tags": []
   },
   "outputs": [
    {
     "data": {
      "text/plain": [
       "array([0, 3, 3, 3, 2, 4])"
      ]
     },
     "execution_count": 39,
     "metadata": {},
     "output_type": "execute_result"
    }
   ],
   "source": [
    "# can use this syntax to return all values where the bool is true\n",
    "# note: this returns them all in a list on one row!\n",
    "\n",
    "x[x < 5]"
   ]
  },
  {
   "cell_type": "code",
   "execution_count": 40,
   "id": "c9738d2f-fca9-4011-889c-3342dcc8f3a8",
   "metadata": {
    "tags": []
   },
   "outputs": [
    {
     "data": {
      "text/plain": [
       "array([ True,  True,  True,  True,  True,  True,  True,  True,  True,\n",
       "        True,  True,  True,  True,  True,  True,  True,  True,  True,\n",
       "        True,  True,  True,  True,  True,  True,  True,  True,  True,\n",
       "        True,  True,  True,  True,  True,  True,  True,  True,  True,\n",
       "        True,  True,  True,  True,  True,  True,  True,  True,  True,\n",
       "        True,  True,  True,  True,  True,  True,  True,  True,  True,\n",
       "        True,  True,  True,  True,  True,  True,  True,  True,  True,\n",
       "        True,  True,  True,  True,  True,  True,  True,  True,  True,\n",
       "        True,  True,  True,  True,  True,  True,  True,  True,  True,\n",
       "        True,  True,  True,  True,  True,  True,  True,  True, False,\n",
       "       False, False, False, False, False, False, False, False, False,\n",
       "       False, False, False, False, False, False, False, False, False,\n",
       "       False, False, False, False, False, False, False, False, False,\n",
       "       False, False, False, False, False, False, False, False, False,\n",
       "       False, False, False, False, False, False, False, False, False,\n",
       "       False, False, False, False, False, False, False, False, False,\n",
       "       False, False, False, False, False, False, False, False, False,\n",
       "       False, False, False, False, False, False, False, False, False,\n",
       "       False, False, False, False, False, False, False, False, False,\n",
       "       False, False, False, False, False, False, False, False, False,\n",
       "       False, False, False, False, False, False, False, False, False,\n",
       "       False, False, False, False, False, False, False, False, False,\n",
       "       False, False, False, False, False, False, False, False, False,\n",
       "       False, False, False, False, False, False, False, False, False,\n",
       "       False, False, False, False, False, False, False, False, False,\n",
       "       False, False, False, False, False, False, False, False, False,\n",
       "       False, False, False, False, False, False, False, False, False,\n",
       "       False, False, False, False, False, False, False, False, False,\n",
       "       False, False, False, False, False, False, False, False, False,\n",
       "       False, False, False, False, False, False, False, False, False,\n",
       "       False, False, False, False, False, False, False, False, False,\n",
       "       False, False, False, False, False, False, False, False, False,\n",
       "       False, False, False, False, False, False, False, False, False,\n",
       "       False, False, False, False, False, False, False, False, False,\n",
       "       False, False, False, False, False, False, False, False, False,\n",
       "       False, False, False, False, False, False, False, False, False,\n",
       "       False, False, False, False, False, False, False, False, False,\n",
       "       False, False, False, False, False, False, False, False, False,\n",
       "       False, False, False, False,  True,  True,  True,  True,  True,\n",
       "        True,  True,  True,  True,  True,  True,  True,  True,  True,\n",
       "        True,  True,  True,  True,  True])"
      ]
     },
     "execution_count": 40,
     "metadata": {},
     "output_type": "execute_result"
    }
   ],
   "source": [
    "# since the index of inches is basically 'days' where Jan1=0\n",
    "# lets create a corresponding list called days\n",
    "\n",
    "days = np.arange(365)\n",
    "\n",
    "# now lets use this list to create a boolean mask\n",
    "\n",
    "winter = (days < 89) ^ (days > 345)\n",
    "winter"
   ]
  },
  {
   "cell_type": "code",
   "execution_count": 41,
   "id": "903f484e-6f54-46d1-b623-76c655edf566",
   "metadata": {
    "tags": []
   },
   "outputs": [
    {
     "data": {
      "text/plain": [
       "0.01968503937007874"
      ]
     },
     "execution_count": 41,
     "metadata": {},
     "output_type": "execute_result"
    }
   ],
   "source": [
    "# now this will only return the results where the boolean mask is true (in the winter)\n",
    "\n",
    "winterMedian = np.median(inches[winter])\n",
    "winterMedian"
   ]
  },
  {
   "cell_type": "code",
   "execution_count": 54,
   "id": "0b4e37fc-1765-4cc8-8188-d632006eb37a",
   "metadata": {},
   "outputs": [
    {
     "name": "stdout",
     "output_type": "stream",
     "text": [
      "the average rainfall on ur birthday week will be 0.16141732283464566\n",
      "the rainfall on ur birthday week will be [0.01968504 1.         0.66929134 0.         0.07086614 0.42913386\n",
      " 0.16141732]\n"
     ]
    }
   ],
   "source": [
    "# doing this again on my own again\n",
    "\n",
    "dayz = np.arange(365)\n",
    "\n",
    "birthdayWeek = (dayz < 308) & (days > 300)\n",
    "birthdayWeek\n",
    "\n",
    "\n",
    "birthdayWeekValues = inches[birthdayWeek]\n",
    "birhtdayWeekAverage = np.median(inches[birthdayWeek])\n",
    "\n",
    "print('the average rainfall on ur birthday week will be', birhtdayWeekAverage)\n",
    "print('the rainfall on ur birthday week will be', birthdayWeekValues)"
   ]
  },
  {
   "cell_type": "code",
   "execution_count": null,
   "id": "b92c8037",
   "metadata": {},
   "outputs": [],
   "source": []
  }
 ],
 "metadata": {
  "kernelspec": {
   "display_name": "Python 3 (ipykernel)",
   "language": "python",
   "name": "python3"
  },
  "language_info": {
   "codemirror_mode": {
    "name": "ipython",
    "version": 3
   },
   "file_extension": ".py",
   "mimetype": "text/x-python",
   "name": "python",
   "nbconvert_exporter": "python",
   "pygments_lexer": "ipython3",
   "version": "3.11.5"
  }
 },
 "nbformat": 4,
 "nbformat_minor": 5
}
