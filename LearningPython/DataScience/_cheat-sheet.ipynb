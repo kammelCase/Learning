{
 "cells": [
  {
   "cell_type": "code",
   "execution_count": 179,
   "id": "0eef08ed",
   "metadata": {},
   "outputs": [],
   "source": [
    "# jon, probably disregard this!\n",
    "\n",
    "# making this cheat sheet for myself\n",
    "# contains info that i want to retain better\n",
    "# but not really info that i already know very well"
   ]
  },
  {
   "cell_type": "code",
   "execution_count": 180,
   "id": "7acb1a17",
   "metadata": {},
   "outputs": [],
   "source": [
    "import numpy as np\n",
    "\n",
    "x1 = np.random.randint(10, size=(3,3,3))\n"
   ]
  },
  {
   "cell_type": "code",
   "execution_count": 181,
   "id": "ae3beca5",
   "metadata": {},
   "outputs": [
    {
     "name": "stdout",
     "output_type": "stream",
     "text": [
      "x1 shape is (3, 3, 3)\n",
      "x1 number of dimentions is 3\n",
      "x1 number of values is 27\n",
      "x1 size of each value in bytes is 8\n",
      "x1 total size is 216\n"
     ]
    }
   ],
   "source": [
    "# array info\n",
    "\n",
    "print('x1 shape is', x1.shape)\n",
    "print('x1 number of dimentions is', x1.ndim)\n",
    "\n",
    "print('x1 number of values is', x1.size)\n",
    "print('x1 size of each value in bytes is', x1.itemsize)\n",
    "print('x1 total size is', x1.size*x1.itemsize)"
   ]
  },
  {
   "cell_type": "code",
   "execution_count": 182,
   "id": "74f63686",
   "metadata": {},
   "outputs": [
    {
     "name": "stdout",
     "output_type": "stream",
     "text": [
      "reduce by adding [[13  7 16]\n",
      " [12 12 12]\n",
      " [ 7 19 21]]\n",
      "reduce by subtracting [[-11  -3   2]\n",
      " [  2  -6   4]\n",
      " [ -7  -1  -5]]\n"
     ]
    }
   ],
   "source": [
    "# reduce\n",
    "\n",
    "print('reduce by adding', np.add.reduce(x1))\n",
    "print('reduce by subtracting', np.subtract.reduce(x1))"
   ]
  },
  {
   "cell_type": "code",
   "execution_count": 183,
   "id": "a2c4e6d9",
   "metadata": {},
   "outputs": [
    {
     "data": {
      "text/plain": [
       "array([[[ 1,  2,  9],\n",
       "        [ 7,  3,  8],\n",
       "        [ 0,  9,  8]],\n",
       "\n",
       "       [[ 8,  6, 13],\n",
       "        [ 9,  9, 12],\n",
       "        [ 2, 13, 15]],\n",
       "\n",
       "       [[13,  7, 16],\n",
       "        [12, 12, 12],\n",
       "        [ 7, 19, 21]]])"
      ]
     },
     "execution_count": 183,
     "metadata": {},
     "output_type": "execute_result"
    }
   ],
   "source": [
    "# accumulate: shows the steps that go into reduction\n",
    "\n",
    "np.add.accumulate(x1)"
   ]
  },
  {
   "cell_type": "code",
   "execution_count": 184,
   "id": "2384e91b",
   "metadata": {},
   "outputs": [],
   "source": [
    "# outer: in this case, multiplies the two dimentions specified (there doesn't appear to be an inner version of this)\n",
    "\n",
    "x2 = np.arange(1,6)\n",
    "\n",
    "x2 = np.multiply.outer(x2, x2)"
   ]
  },
  {
   "cell_type": "code",
   "execution_count": 185,
   "id": "529d0fd8",
   "metadata": {},
   "outputs": [
    {
     "data": {
      "text/plain": [
       "array([[ -2.,  -4.,  -6.,  -8., -10.],\n",
       "       [ -1.,  -2.,  -3.,  -4.,  -5.],\n",
       "       [  0.,   0.,   0.,   0.,   0.],\n",
       "       [  1.,   2.,   3.,   4.,   5.],\n",
       "       [  2.,   4.,   6.,   8.,  10.]])"
      ]
     },
     "execution_count": 185,
     "metadata": {},
     "output_type": "execute_result"
    }
   ],
   "source": [
    "# centering data\n",
    "\n",
    "x2_mean = np.mean(x2, axis=0)\n",
    "\n",
    "x2_centered = x2 - x2_mean\n",
    "\n",
    "x2_centered"
   ]
  },
  {
   "cell_type": "code",
   "execution_count": 186,
   "id": "1132cb67",
   "metadata": {},
   "outputs": [
    {
     "data": {
      "text/plain": [
       "0.0"
      ]
     },
     "execution_count": 186,
     "metadata": {},
     "output_type": "execute_result"
    }
   ],
   "source": [
    "# can double check the centering works: mean should be 0\n",
    "\n",
    "np.mean(x2_centered)"
   ]
  },
  {
   "cell_type": "code",
   "execution_count": 187,
   "id": "00146a9b",
   "metadata": {},
   "outputs": [
    {
     "data": {
      "text/plain": [
       "(365,)"
      ]
     },
     "execution_count": 187,
     "metadata": {},
     "output_type": "execute_result"
    }
   ],
   "source": [
    "# boolean masks and arrays\n",
    "\n",
    "import pandas as pd\n",
    "\n",
    "seattle = pd.read_csv('data/Seattle2014.csv')\n",
    "rainfall = np.array(seattle['PRCP'])\n",
    "\n",
    "inches = rainfall/254.0   #1/10mm -> inches\n",
    "inches.shape # shape of inches data (a list of 365 values)"
   ]
  },
  {
   "cell_type": "code",
   "execution_count": 188,
   "id": "7b54fe82",
   "metadata": {},
   "outputs": [
    {
     "data": {
      "text/plain": [
       "array([ True,  True,  True,  True,  True,  True, False, False,  True,\n",
       "        True, False,  True,  True,  True,  True,  True,  True,  True,\n",
       "        True,  True,  True,  True,  True,  True,  True,  True,  True,\n",
       "       False, False,  True,  True,  True,  True,  True,  True,  True,\n",
       "        True,  True,  True,  True, False, False,  True,  True, False,\n",
       "       False, False, False, False,  True,  True,  True,  True,  True,\n",
       "       False,  True,  True,  True,  True,  True, False, False, False,\n",
       "       False,  True,  True, False,  True, False,  True,  True,  True,\n",
       "       False, False, False,  True,  True,  True,  True,  True,  True,\n",
       "        True,  True,  True,  True,  True, False, False,  True,  True,\n",
       "        True,  True,  True,  True,  True,  True,  True,  True,  True,\n",
       "        True,  True,  True,  True,  True,  True, False, False,  True,\n",
       "       False,  True,  True, False, False, False,  True,  True, False,\n",
       "        True,  True,  True,  True,  True, False, False,  True,  True,\n",
       "        True, False,  True,  True,  True,  True,  True,  True,  True,\n",
       "        True,  True,  True,  True,  True,  True,  True,  True,  True,\n",
       "        True,  True,  True,  True,  True,  True,  True,  True,  True,\n",
       "        True,  True,  True,  True,  True,  True,  True,  True,  True,\n",
       "        True, False,  True,  True,  True,  True,  True,  True,  True,\n",
       "        True,  True,  True,  True,  True,  True,  True,  True,  True,\n",
       "        True,  True,  True,  True,  True,  True,  True,  True,  True,\n",
       "        True,  True,  True,  True,  True,  True,  True,  True,  True,\n",
       "        True,  True,  True,  True,  True, False,  True,  True,  True,\n",
       "        True,  True,  True,  True,  True,  True,  True,  True,  True,\n",
       "        True,  True,  True,  True,  True,  True,  True, False, False,\n",
       "        True,  True,  True,  True,  True,  True,  True,  True,  True,\n",
       "        True,  True,  True,  True,  True,  True,  True, False,  True,\n",
       "        True,  True,  True,  True,  True,  True,  True,  True,  True,\n",
       "        True,  True,  True,  True,  True,  True,  True,  True,  True,\n",
       "        True,  True,  True,  True, False, False,  True, False,  True,\n",
       "        True,  True,  True,  True,  True,  True,  True,  True,  True,\n",
       "        True,  True,  True,  True, False,  True, False, False, False,\n",
       "        True,  True, False,  True, False,  True, False, False,  True,\n",
       "        True,  True,  True, False,  True, False, False,  True,  True,\n",
       "       False,  True,  True,  True,  True,  True,  True,  True,  True,\n",
       "        True,  True,  True,  True,  True,  True,  True,  True,  True,\n",
       "       False,  True, False,  True, False,  True,  True, False,  True,\n",
       "        True,  True,  True,  True,  True,  True, False,  True, False,\n",
       "       False, False, False,  True,  True,  True,  True,  True,  True,\n",
       "       False,  True, False,  True,  True, False,  True,  True,  True,\n",
       "        True,  True,  True,  True,  True])"
      ]
     },
     "execution_count": 188,
     "metadata": {},
     "output_type": "execute_result"
    }
   ],
   "source": [
    "# boolean array\n",
    "# bitwise operator produces boolean array\n",
    "\n",
    "inches < 0.25"
   ]
  },
  {
   "cell_type": "code",
   "execution_count": 189,
   "id": "75034d25",
   "metadata": {},
   "outputs": [
    {
     "data": {
      "text/plain": [
       "299"
      ]
     },
     "execution_count": 189,
     "metadata": {},
     "output_type": "execute_result"
    }
   ],
   "source": [
    "# boolean counting + sum\n",
    "\n",
    "np.count_nonzero(inches < 0.25) #same as\n",
    "np.sum(inches < 0.25)"
   ]
  },
  {
   "cell_type": "code",
   "execution_count": 190,
   "id": "6b359a96",
   "metadata": {},
   "outputs": [
    {
     "data": {
      "text/plain": [
       "58"
      ]
     },
     "execution_count": 190,
     "metadata": {},
     "output_type": "execute_result"
    }
   ],
   "source": [
    "# boolean range\n",
    "\n",
    "np.sum((inches > 0.25) & (inches < 1))"
   ]
  },
  {
   "cell_type": "code",
   "execution_count": 191,
   "id": "a1c3ae7d",
   "metadata": {},
   "outputs": [
    {
     "data": {
      "text/plain": [
       "array([1.03937008, 1.83858268, 1.27165354, 1.09055118, 1.31102362,\n",
       "       1.25984252, 1.3503937 ])"
      ]
     },
     "execution_count": 191,
     "metadata": {},
     "output_type": "execute_result"
    }
   ],
   "source": [
    "# boolean + values\n",
    "# syntax that will return the values where the boolean is true\n",
    "\n",
    "inches[inches>1]"
   ]
  },
  {
   "cell_type": "code",
   "execution_count": 192,
   "id": "4169d17e",
   "metadata": {},
   "outputs": [
    {
     "data": {
      "text/plain": [
       "array([[4, 4, 9, 9, 3, 9],\n",
       "       [6, 8, 1, 7, 9, 7],\n",
       "       [8, 8, 0, 3, 7, 4],\n",
       "       [1, 5, 1, 4, 2, 1],\n",
       "       [6, 2, 8, 1, 4, 3],\n",
       "       [9, 9, 9, 0, 7, 6]])"
      ]
     },
     "execution_count": 192,
     "metadata": {},
     "output_type": "execute_result"
    }
   ],
   "source": [
    "x3 = np.random.randint(10, size=(6,6))\n",
    "x3"
   ]
  },
  {
   "cell_type": "code",
   "execution_count": 193,
   "id": "5ed0ddbc",
   "metadata": {},
   "outputs": [
    {
     "data": {
      "text/plain": [
       "array([[3, 4, 4, 9, 9, 9],\n",
       "       [1, 6, 7, 7, 8, 9],\n",
       "       [0, 3, 4, 7, 8, 8],\n",
       "       [1, 1, 1, 2, 4, 5],\n",
       "       [1, 2, 3, 4, 6, 8],\n",
       "       [0, 6, 7, 9, 9, 9]])"
      ]
     },
     "execution_count": 193,
     "metadata": {},
     "output_type": "execute_result"
    }
   ],
   "source": [
    "# sorting\n",
    "\n",
    "# x2.sort() # sort in place, but i don't wanna exexute this rn\n",
    "np.sort(x3) # sort function"
   ]
  },
  {
   "cell_type": "code",
   "execution_count": 194,
   "id": "6fd89b3b",
   "metadata": {},
   "outputs": [
    {
     "data": {
      "text/plain": [
       "array([[1, 2, 0, 0, 2, 1],\n",
       "       [4, 4, 1, 1, 3, 3],\n",
       "       [6, 5, 1, 3, 4, 4],\n",
       "       [6, 8, 8, 4, 7, 6],\n",
       "       [8, 8, 9, 7, 7, 7],\n",
       "       [9, 9, 9, 9, 9, 9]])"
      ]
     },
     "execution_count": 194,
     "metadata": {},
     "output_type": "execute_result"
    }
   ],
   "source": [
    "# sort on axis\n",
    "\n",
    "np.sort(x3, axis=0) # column sort"
   ]
  },
  {
   "cell_type": "code",
   "execution_count": 196,
   "id": "b47cfbeb",
   "metadata": {},
   "outputs": [
    {
     "data": {
      "text/plain": [
       "array([[1, 2, 0, 0, 2, 1],\n",
       "       [4, 4, 1, 1, 3, 3],\n",
       "       [6, 5, 1, 3, 4, 4],\n",
       "       [8, 8, 9, 4, 9, 9],\n",
       "       [6, 8, 8, 7, 7, 7],\n",
       "       [9, 9, 9, 9, 7, 6]])"
      ]
     },
     "execution_count": 196,
     "metadata": {},
     "output_type": "execute_result"
    }
   ],
   "source": [
    "# partitioning\n",
    "\n",
    "np.partition(x3, 2, axis=0) #target, amount, axis"
   ]
  }
 ],
 "metadata": {
  "kernelspec": {
   "display_name": "Python 3 (ipykernel)",
   "language": "python",
   "name": "python3"
  },
  "language_info": {
   "codemirror_mode": {
    "name": "ipython",
    "version": 3
   },
   "file_extension": ".py",
   "mimetype": "text/x-python",
   "name": "python",
   "nbconvert_exporter": "python",
   "pygments_lexer": "ipython3",
   "version": "3.11.5"
  }
 },
 "nbformat": 4,
 "nbformat_minor": 5
}
