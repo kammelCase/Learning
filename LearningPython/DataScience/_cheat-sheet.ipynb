{
 "cells": [
  {
   "cell_type": "code",
   "execution_count": 100,
   "id": "0eef08ed",
   "metadata": {},
   "outputs": [],
   "source": [
    "# jon, probably disregard this!\n",
    "\n",
    "# making this cheat sheet for myself\n",
    "# contains info that i want to retain better\n",
    "# but not really info that i already know very well"
   ]
  },
  {
   "cell_type": "code",
   "execution_count": 101,
   "id": "7acb1a17",
   "metadata": {},
   "outputs": [],
   "source": [
    "import numpy as np\n",
    "\n",
    "x1 = np.random.randint(10, size=(3,3,3))\n"
   ]
  },
  {
   "cell_type": "code",
   "execution_count": 102,
   "id": "ae3beca5",
   "metadata": {},
   "outputs": [
    {
     "name": "stdout",
     "output_type": "stream",
     "text": [
      "x1 shape is (3, 3, 3)\n",
      "x1 number of dimentions is 3\n",
      "x1 number of values is 27\n",
      "x1 size of each value in bytes is 8\n",
      "x1 total size is 216\n"
     ]
    }
   ],
   "source": [
    "# array info\n",
    "\n",
    "print('x1 shape is', x1.shape)\n",
    "print('x1 number of dimentions is', x1.ndim)\n",
    "\n",
    "print('x1 number of values is', x1.size)\n",
    "print('x1 size of each value in bytes is', x1.itemsize)\n",
    "print('x1 total size is', x1.size*x1.itemsize)"
   ]
  },
  {
   "cell_type": "code",
   "execution_count": 103,
   "id": "74f63686",
   "metadata": {},
   "outputs": [
    {
     "name": "stdout",
     "output_type": "stream",
     "text": [
      "reduce by adding [[14 26  4]\n",
      " [11 18 13]\n",
      " [11 18  9]]\n",
      "reduce by subtracting [[-6 -8 -4]\n",
      " [-7 -6 -1]\n",
      " [ 5  0  1]]\n"
     ]
    }
   ],
   "source": [
    "# reduce\n",
    "\n",
    "print('reduce by adding', np.add.reduce(x1))\n",
    "print('reduce by subtracting', np.subtract.reduce(x1))"
   ]
  },
  {
   "cell_type": "code",
   "execution_count": 104,
   "id": "a2c4e6d9",
   "metadata": {},
   "outputs": [
    {
     "data": {
      "text/plain": [
       "array([[[ 4,  9,  0],\n",
       "        [ 2,  6,  6],\n",
       "        [ 8,  9,  5]],\n",
       "\n",
       "       [[ 8, 17,  3],\n",
       "        [11, 14,  7],\n",
       "        [10, 11,  8]],\n",
       "\n",
       "       [[14, 26,  4],\n",
       "        [11, 18, 13],\n",
       "        [11, 18,  9]]])"
      ]
     },
     "execution_count": 104,
     "metadata": {},
     "output_type": "execute_result"
    }
   ],
   "source": [
    "# accumulate: shows the steps that go into reduction\n",
    "\n",
    "np.add.accumulate(x1)"
   ]
  },
  {
   "cell_type": "code",
   "execution_count": 105,
   "id": "2384e91b",
   "metadata": {},
   "outputs": [
    {
     "data": {
      "text/plain": [
       "array([[ 1,  2,  3,  4,  5],\n",
       "       [ 2,  4,  6,  8, 10],\n",
       "       [ 3,  6,  9, 12, 15],\n",
       "       [ 4,  8, 12, 16, 20],\n",
       "       [ 5, 10, 15, 20, 25]])"
      ]
     },
     "execution_count": 105,
     "metadata": {},
     "output_type": "execute_result"
    }
   ],
   "source": [
    "# outer: in this case, multiplies the two dimentions specified (there doesn't appear to be an inner version of this)\n",
    "\n",
    "x2 = np.arange(1,6)\n",
    "\n",
    "x2 = np.multiply.outer(x2, x2)\n",
    "x2"
   ]
  },
  {
   "cell_type": "code",
   "execution_count": 106,
   "id": "529d0fd8",
   "metadata": {},
   "outputs": [
    {
     "data": {
      "text/plain": [
       "array([[ -2.,  -4.,  -6.,  -8., -10.],\n",
       "       [ -1.,  -2.,  -3.,  -4.,  -5.],\n",
       "       [  0.,   0.,   0.,   0.,   0.],\n",
       "       [  1.,   2.,   3.,   4.,   5.],\n",
       "       [  2.,   4.,   6.,   8.,  10.]])"
      ]
     },
     "execution_count": 106,
     "metadata": {},
     "output_type": "execute_result"
    }
   ],
   "source": [
    "# centering data\n",
    "\n",
    "x2_mean = np.mean(x2, axis=0)\n",
    "\n",
    "x2_centered = x2 - x2_mean\n",
    "\n",
    "x2_centered"
   ]
  },
  {
   "cell_type": "code",
   "execution_count": 107,
   "id": "1132cb67",
   "metadata": {},
   "outputs": [
    {
     "data": {
      "text/plain": [
       "0.0"
      ]
     },
     "execution_count": 107,
     "metadata": {},
     "output_type": "execute_result"
    }
   ],
   "source": [
    "# can double check the centering works: mean should be 0\n",
    "\n",
    "np.mean(x2_centered)"
   ]
  },
  {
   "cell_type": "code",
   "execution_count": 108,
   "id": "00146a9b",
   "metadata": {},
   "outputs": [
    {
     "data": {
      "text/plain": [
       "(365,)"
      ]
     },
     "execution_count": 108,
     "metadata": {},
     "output_type": "execute_result"
    }
   ],
   "source": [
    "# boolean masks and arrays\n",
    "\n",
    "import pandas as pd\n",
    "\n",
    "seattle = pd.read_csv('data/Seattle2014.csv')\n",
    "rainfall = np.array(seattle['PRCP'])\n",
    "\n",
    "inches = rainfall/254.0   #1/10mm -> inches\n",
    "inches.shape # shape of inches data (a list of 365 values)"
   ]
  },
  {
   "cell_type": "code",
   "execution_count": 109,
   "id": "7b54fe82",
   "metadata": {},
   "outputs": [
    {
     "data": {
      "text/plain": [
       "array([ True,  True,  True,  True,  True,  True, False, False,  True,\n",
       "        True, False,  True,  True,  True,  True,  True,  True,  True,\n",
       "        True,  True,  True,  True,  True,  True,  True,  True,  True,\n",
       "       False, False,  True,  True,  True,  True,  True,  True,  True,\n",
       "        True,  True,  True,  True, False, False,  True,  True, False,\n",
       "       False, False, False, False,  True,  True,  True,  True,  True,\n",
       "       False,  True,  True,  True,  True,  True, False, False, False,\n",
       "       False,  True,  True, False,  True, False,  True,  True,  True,\n",
       "       False, False, False,  True,  True,  True,  True,  True,  True,\n",
       "        True,  True,  True,  True,  True, False, False,  True,  True,\n",
       "        True,  True,  True,  True,  True,  True,  True,  True,  True,\n",
       "        True,  True,  True,  True,  True,  True, False, False,  True,\n",
       "       False,  True,  True, False, False, False,  True,  True, False,\n",
       "        True,  True,  True,  True,  True, False, False,  True,  True,\n",
       "        True, False,  True,  True,  True,  True,  True,  True,  True,\n",
       "        True,  True,  True,  True,  True,  True,  True,  True,  True,\n",
       "        True,  True,  True,  True,  True,  True,  True,  True,  True,\n",
       "        True,  True,  True,  True,  True,  True,  True,  True,  True,\n",
       "        True, False,  True,  True,  True,  True,  True,  True,  True,\n",
       "        True,  True,  True,  True,  True,  True,  True,  True,  True,\n",
       "        True,  True,  True,  True,  True,  True,  True,  True,  True,\n",
       "        True,  True,  True,  True,  True,  True,  True,  True,  True,\n",
       "        True,  True,  True,  True,  True, False,  True,  True,  True,\n",
       "        True,  True,  True,  True,  True,  True,  True,  True,  True,\n",
       "        True,  True,  True,  True,  True,  True,  True, False, False,\n",
       "        True,  True,  True,  True,  True,  True,  True,  True,  True,\n",
       "        True,  True,  True,  True,  True,  True,  True, False,  True,\n",
       "        True,  True,  True,  True,  True,  True,  True,  True,  True,\n",
       "        True,  True,  True,  True,  True,  True,  True,  True,  True,\n",
       "        True,  True,  True,  True, False, False,  True, False,  True,\n",
       "        True,  True,  True,  True,  True,  True,  True,  True,  True,\n",
       "        True,  True,  True,  True, False,  True, False, False, False,\n",
       "        True,  True, False,  True, False,  True, False, False,  True,\n",
       "        True,  True,  True, False,  True, False, False,  True,  True,\n",
       "       False,  True,  True,  True,  True,  True,  True,  True,  True,\n",
       "        True,  True,  True,  True,  True,  True,  True,  True,  True,\n",
       "       False,  True, False,  True, False,  True,  True, False,  True,\n",
       "        True,  True,  True,  True,  True,  True, False,  True, False,\n",
       "       False, False, False,  True,  True,  True,  True,  True,  True,\n",
       "       False,  True, False,  True,  True, False,  True,  True,  True,\n",
       "        True,  True,  True,  True,  True])"
      ]
     },
     "execution_count": 109,
     "metadata": {},
     "output_type": "execute_result"
    }
   ],
   "source": [
    "# boolean array\n",
    "# bitwise operator produces boolean array\n",
    "\n",
    "inches < 0.25"
   ]
  },
  {
   "cell_type": "code",
   "execution_count": 110,
   "id": "75034d25",
   "metadata": {},
   "outputs": [
    {
     "data": {
      "text/plain": [
       "299"
      ]
     },
     "execution_count": 110,
     "metadata": {},
     "output_type": "execute_result"
    }
   ],
   "source": [
    "# boolean counting + sum\n",
    "\n",
    "np.count_nonzero(inches < 0.25) #same as\n",
    "np.sum(inches < 0.25)"
   ]
  },
  {
   "cell_type": "code",
   "execution_count": 111,
   "id": "6b359a96",
   "metadata": {},
   "outputs": [
    {
     "data": {
      "text/plain": [
       "58"
      ]
     },
     "execution_count": 111,
     "metadata": {},
     "output_type": "execute_result"
    }
   ],
   "source": [
    "# boolean range\n",
    "\n",
    "np.sum((inches > 0.25) & (inches < 1))"
   ]
  },
  {
   "cell_type": "code",
   "execution_count": 112,
   "id": "a1c3ae7d",
   "metadata": {},
   "outputs": [
    {
     "data": {
      "text/plain": [
       "array([1.03937008, 1.83858268, 1.27165354, 1.09055118, 1.31102362,\n",
       "       1.25984252, 1.3503937 ])"
      ]
     },
     "execution_count": 112,
     "metadata": {},
     "output_type": "execute_result"
    }
   ],
   "source": [
    "# boolean + values\n",
    "# syntax that will return the values where the boolean is true\n",
    "\n",
    "inches[inches>1]"
   ]
  },
  {
   "cell_type": "code",
   "execution_count": 113,
   "id": "4169d17e",
   "metadata": {},
   "outputs": [
    {
     "data": {
      "text/plain": [
       "array([[8, 1, 4, 3, 3, 0],\n",
       "       [5, 3, 4, 4, 9, 6],\n",
       "       [9, 5, 0, 4, 2, 4],\n",
       "       [2, 8, 9, 3, 3, 6],\n",
       "       [8, 0, 2, 1, 3, 8],\n",
       "       [5, 9, 1, 1, 7, 1]])"
      ]
     },
     "execution_count": 113,
     "metadata": {},
     "output_type": "execute_result"
    }
   ],
   "source": [
    "x3 = np.random.randint(10, size=(6,6))\n",
    "x3"
   ]
  },
  {
   "cell_type": "code",
   "execution_count": 114,
   "id": "5ed0ddbc",
   "metadata": {},
   "outputs": [
    {
     "data": {
      "text/plain": [
       "array([[0, 1, 3, 3, 4, 8],\n",
       "       [3, 4, 4, 5, 6, 9],\n",
       "       [0, 2, 4, 4, 5, 9],\n",
       "       [2, 3, 3, 6, 8, 9],\n",
       "       [0, 1, 2, 3, 8, 8],\n",
       "       [1, 1, 1, 5, 7, 9]])"
      ]
     },
     "execution_count": 114,
     "metadata": {},
     "output_type": "execute_result"
    }
   ],
   "source": [
    "# sorting\n",
    "\n",
    "# x2.sort() # sort in place, but i don't wanna exexute this rn\n",
    "np.sort(x3) # sort function"
   ]
  },
  {
   "cell_type": "code",
   "execution_count": 115,
   "id": "6fd89b3b",
   "metadata": {},
   "outputs": [
    {
     "data": {
      "text/plain": [
       "array([[2, 0, 0, 1, 2, 0],\n",
       "       [5, 1, 1, 1, 3, 1],\n",
       "       [5, 3, 2, 3, 3, 4],\n",
       "       [8, 5, 4, 3, 3, 6],\n",
       "       [8, 8, 4, 4, 7, 6],\n",
       "       [9, 9, 9, 4, 9, 8]])"
      ]
     },
     "execution_count": 115,
     "metadata": {},
     "output_type": "execute_result"
    }
   ],
   "source": [
    "# sort on axis\n",
    "\n",
    "np.sort(x3, axis=0) # column sort"
   ]
  },
  {
   "cell_type": "code",
   "execution_count": 116,
   "id": "b47cfbeb",
   "metadata": {},
   "outputs": [
    {
     "data": {
      "text/plain": [
       "array([[2, 0, 0, 1, 2, 0],\n",
       "       [5, 1, 1, 1, 3, 1],\n",
       "       [5, 3, 2, 3, 3, 4],\n",
       "       [8, 8, 9, 4, 9, 6],\n",
       "       [8, 5, 4, 3, 3, 8],\n",
       "       [9, 9, 4, 4, 7, 6]])"
      ]
     },
     "execution_count": 116,
     "metadata": {},
     "output_type": "execute_result"
    }
   ],
   "source": [
    "# partitioning\n",
    "\n",
    "np.partition(x3, 2, axis=0) #target, amount, axis"
   ]
  },
  {
   "cell_type": "code",
   "execution_count": 117,
   "id": "26f7f4ee",
   "metadata": {},
   "outputs": [
    {
     "data": {
      "text/html": [
       "<div>\n",
       "<style scoped>\n",
       "    .dataframe tbody tr th:only-of-type {\n",
       "        vertical-align: middle;\n",
       "    }\n",
       "\n",
       "    .dataframe tbody tr th {\n",
       "        vertical-align: top;\n",
       "    }\n",
       "\n",
       "    .dataframe thead th {\n",
       "        text-align: right;\n",
       "    }\n",
       "</style>\n",
       "<table border=\"1\" class=\"dataframe\">\n",
       "  <thead>\n",
       "    <tr style=\"text-align: right;\">\n",
       "      <th></th>\n",
       "      <th>A</th>\n",
       "      <th>B</th>\n",
       "      <th>C</th>\n",
       "      <th>D</th>\n",
       "    </tr>\n",
       "  </thead>\n",
       "  <tbody>\n",
       "    <tr>\n",
       "      <th>0</th>\n",
       "      <td>6</td>\n",
       "      <td>3</td>\n",
       "      <td>7</td>\n",
       "      <td>4</td>\n",
       "    </tr>\n",
       "    <tr>\n",
       "      <th>1</th>\n",
       "      <td>6</td>\n",
       "      <td>9</td>\n",
       "      <td>2</td>\n",
       "      <td>6</td>\n",
       "    </tr>\n",
       "    <tr>\n",
       "      <th>2</th>\n",
       "      <td>7</td>\n",
       "      <td>4</td>\n",
       "      <td>3</td>\n",
       "      <td>7</td>\n",
       "    </tr>\n",
       "  </tbody>\n",
       "</table>\n",
       "</div>"
      ],
      "text/plain": [
       "   A  B  C  D\n",
       "0  6  3  7  4\n",
       "1  6  9  2  6\n",
       "2  7  4  3  7"
      ]
     },
     "execution_count": 117,
     "metadata": {},
     "output_type": "execute_result"
    }
   ],
   "source": [
    "# DataFrames\n",
    "\n",
    "rng = np.random.RandomState(42)\n",
    "df = pd.DataFrame(rng.randint(0, 10, (3, 4)),\n",
    "                  columns=['A', 'B', 'C', 'D'])\n",
    "\n",
    "df"
   ]
  },
  {
   "cell_type": "code",
   "execution_count": 132,
   "id": "034b72b8",
   "metadata": {},
   "outputs": [
    {
     "data": {
      "text/html": [
       "<div>\n",
       "<style scoped>\n",
       "    .dataframe tbody tr th:only-of-type {\n",
       "        vertical-align: middle;\n",
       "    }\n",
       "\n",
       "    .dataframe tbody tr th {\n",
       "        vertical-align: top;\n",
       "    }\n",
       "\n",
       "    .dataframe thead th {\n",
       "        text-align: right;\n",
       "    }\n",
       "</style>\n",
       "<table border=\"1\" class=\"dataframe\">\n",
       "  <thead>\n",
       "    <tr style=\"text-align: right;\">\n",
       "      <th></th>\n",
       "      <th>A</th>\n",
       "      <th>B</th>\n",
       "      <th>C</th>\n",
       "      <th>D</th>\n",
       "    </tr>\n",
       "  </thead>\n",
       "  <tbody>\n",
       "    <tr>\n",
       "      <th>2</th>\n",
       "      <td>7</td>\n",
       "      <td>4</td>\n",
       "      <td>3</td>\n",
       "      <td>7</td>\n",
       "    </tr>\n",
       "  </tbody>\n",
       "</table>\n",
       "</div>"
      ],
      "text/plain": [
       "   A  B  C  D\n",
       "2  7  4  3  7"
      ]
     },
     "execution_count": 132,
     "metadata": {},
     "output_type": "execute_result"
    }
   ],
   "source": [
    "df.A  # access column 'A'\n",
    "\n",
    "df['A']  # access column 'A'\n",
    "\n",
    "df.iloc[0]  # access index 0 (implicit)\n",
    "df.iloc[:2,:2]  # access slice (implicit)\n",
    "\n",
    "df.loc[0]  # access index 0 (explicit, but because i[0] is also labeled 0, this is the same as iloc[0])\n",
    "df.loc[:,'A':'C']  # access columns A-C (explicit)\n",
    "\n",
    "df[df.A>6]  # boolean mask"
   ]
  },
  {
   "cell_type": "code",
   "execution_count": 141,
   "id": "59fd03dd",
   "metadata": {},
   "outputs": [
    {
     "data": {
      "text/plain": [
       "0     9.0\n",
       "1     9.0\n",
       "2    10.5\n",
       "Name: A, dtype: float64"
      ]
     },
     "execution_count": 141,
     "metadata": {},
     "output_type": "execute_result"
    }
   ],
   "source": [
    "df2 = df['A'] * 3 / 2\n",
    "df2"
   ]
  },
  {
   "cell_type": "code",
   "execution_count": 146,
   "id": "689a26cf",
   "metadata": {},
   "outputs": [
    {
     "data": {
      "text/html": [
       "<div>\n",
       "<style scoped>\n",
       "    .dataframe tbody tr th:only-of-type {\n",
       "        vertical-align: middle;\n",
       "    }\n",
       "\n",
       "    .dataframe tbody tr th {\n",
       "        vertical-align: top;\n",
       "    }\n",
       "\n",
       "    .dataframe thead th {\n",
       "        text-align: right;\n",
       "    }\n",
       "</style>\n",
       "<table border=\"1\" class=\"dataframe\">\n",
       "  <thead>\n",
       "    <tr style=\"text-align: right;\">\n",
       "      <th></th>\n",
       "      <th>A</th>\n",
       "      <th>B</th>\n",
       "      <th>C</th>\n",
       "      <th>D</th>\n",
       "    </tr>\n",
       "  </thead>\n",
       "  <tbody>\n",
       "    <tr>\n",
       "      <th>0</th>\n",
       "      <td>15.0</td>\n",
       "      <td>12.0</td>\n",
       "      <td>16.0</td>\n",
       "      <td>13.0</td>\n",
       "    </tr>\n",
       "    <tr>\n",
       "      <th>1</th>\n",
       "      <td>15.0</td>\n",
       "      <td>18.0</td>\n",
       "      <td>11.0</td>\n",
       "      <td>15.0</td>\n",
       "    </tr>\n",
       "    <tr>\n",
       "      <th>2</th>\n",
       "      <td>17.5</td>\n",
       "      <td>14.5</td>\n",
       "      <td>13.5</td>\n",
       "      <td>17.5</td>\n",
       "    </tr>\n",
       "  </tbody>\n",
       "</table>\n",
       "</div>"
      ],
      "text/plain": [
       "      A     B     C     D\n",
       "0  15.0  12.0  16.0  13.0\n",
       "1  15.0  18.0  11.0  15.0\n",
       "2  17.5  14.5  13.5  17.5"
      ]
     },
     "execution_count": 146,
     "metadata": {},
     "output_type": "execute_result"
    }
   ],
   "source": [
    "df.add(df2, axis='rows')"
   ]
  },
  {
   "cell_type": "code",
   "execution_count": null,
   "id": "cfbf6f96",
   "metadata": {},
   "outputs": [],
   "source": [
    "# isnull()  -  generate a boolean mask indicating missing values\n",
    "# notnull()  -  opposite of isnull()\n",
    "# dropna()  -  return a filtered version of the data\n",
    "# fillna()  -  return a copy of the data with missing data filled in"
   ]
  }
 ],
 "metadata": {
  "kernelspec": {
   "display_name": "Python 3 (ipykernel)",
   "language": "python",
   "name": "python3"
  },
  "language_info": {
   "codemirror_mode": {
    "name": "ipython",
    "version": 3
   },
   "file_extension": ".py",
   "mimetype": "text/x-python",
   "name": "python",
   "nbconvert_exporter": "python",
   "pygments_lexer": "ipython3",
   "version": "3.11.5"
  }
 },
 "nbformat": 4,
 "nbformat_minor": 5
}
