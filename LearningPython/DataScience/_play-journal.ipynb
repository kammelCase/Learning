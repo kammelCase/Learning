{
 "cells": [
  {
   "cell_type": "code",
   "execution_count": 6,
   "id": "3e9de7f4-100e-48fe-b22e-949d589f28e6",
   "metadata": {
    "tags": []
   },
   "outputs": [],
   "source": [
    "# using this journal to code whatever comes to mind\n",
    "# primary focus is to get muscle/mind memory working better\n",
    "\n",
    "import numpy as np\n",
    "\n",
    "x3 = [[10, 10, 10],\n",
    "      [10, 10, 10]]"
   ]
  },
  {
   "cell_type": "code",
   "execution_count": 7,
   "id": "cf999117-f462-42b9-b7b5-d018cb829c38",
   "metadata": {
    "tags": []
   },
   "outputs": [
    {
     "data": {
      "text/plain": [
       "10"
      ]
     },
     "execution_count": 7,
     "metadata": {},
     "output_type": "execute_result"
    }
   ],
   "source": [
    "x3[0][0]"
   ]
  },
  {
   "cell_type": "code",
   "execution_count": 8,
   "id": "491f477e-1c0a-4fa2-9cea-b28f5db9f74e",
   "metadata": {
    "tags": []
   },
   "outputs": [],
   "source": [
    "x2 = np.random.randint(10, size=[2,2,3])"
   ]
  },
  {
   "cell_type": "code",
   "execution_count": 9,
   "id": "579e8709-62cb-4acb-9bf8-32c63ca183cd",
   "metadata": {
    "tags": []
   },
   "outputs": [
    {
     "data": {
      "text/plain": [
       "array([[[9, 5, 7],\n",
       "        [4, 7, 3]],\n",
       "\n",
       "       [[8, 9, 4],\n",
       "        [4, 9, 0]]])"
      ]
     },
     "execution_count": 9,
     "metadata": {},
     "output_type": "execute_result"
    }
   ],
   "source": [
    "x2"
   ]
  },
  {
   "cell_type": "code",
   "execution_count": 10,
   "id": "ee914409-e571-4a8b-aaec-1644c95c0344",
   "metadata": {
    "tags": []
   },
   "outputs": [],
   "source": [
    "x2 = np.random.randint(10, size=(2,2))"
   ]
  },
  {
   "cell_type": "code",
   "execution_count": 11,
   "id": "7edd5bd2-9b05-4177-889c-3bf57339de82",
   "metadata": {
    "tags": []
   },
   "outputs": [
    {
     "data": {
      "text/plain": [
       "array([[5, 1],\n",
       "       [2, 7]])"
      ]
     },
     "execution_count": 11,
     "metadata": {},
     "output_type": "execute_result"
    }
   ],
   "source": [
    "x2"
   ]
  },
  {
   "cell_type": "code",
   "execution_count": 12,
   "id": "6385b2e0-18e5-44f1-8097-6e2942ee2a9a",
   "metadata": {
    "tags": []
   },
   "outputs": [
    {
     "data": {
      "text/plain": [
       "array([[1, 1, 3, 5],\n",
       "       [0, 6, 9, 2],\n",
       "       [8, 9, 5, 4],\n",
       "       [0, 2, 1, 4]])"
      ]
     },
     "execution_count": 12,
     "metadata": {},
     "output_type": "execute_result"
    }
   ],
   "source": [
    "a = np.random.randint(10, size=[4,4])\n",
    "a"
   ]
  },
  {
   "cell_type": "code",
   "execution_count": 13,
   "id": "f11bebda-2b17-407b-a2eb-887c3bf88886",
   "metadata": {
    "tags": []
   },
   "outputs": [],
   "source": [
    "c = np.hsplit(a, [2])"
   ]
  },
  {
   "cell_type": "code",
   "execution_count": 14,
   "id": "e787366b-c188-4ba1-8926-85816ece4312",
   "metadata": {
    "tags": []
   },
   "outputs": [
    {
     "data": {
      "text/plain": [
       "[array([[1, 1, 3, 5],\n",
       "        [0, 6, 9, 2]]),\n",
       " array([[8, 9, 5, 4],\n",
       "        [0, 2, 1, 4]])]"
      ]
     },
     "execution_count": 14,
     "metadata": {},
     "output_type": "execute_result"
    }
   ],
   "source": [
    "np.vsplit(a, [2])"
   ]
  },
  {
   "cell_type": "code",
   "execution_count": 15,
   "id": "06e1a384-27ff-4bf7-830a-7cbb0be82ad2",
   "metadata": {
    "tags": []
   },
   "outputs": [],
   "source": [
    "b = a[2,1:3].copy()"
   ]
  },
  {
   "cell_type": "code",
   "execution_count": 16,
   "id": "35fefcea-bc77-4c7a-b4c2-cb94e199134f",
   "metadata": {
    "tags": []
   },
   "outputs": [
    {
     "data": {
      "text/plain": [
       "9"
      ]
     },
     "execution_count": 16,
     "metadata": {},
     "output_type": "execute_result"
    }
   ],
   "source": [
    "b[0]"
   ]
  },
  {
   "cell_type": "code",
   "execution_count": 17,
   "id": "3765512d-4160-4360-b652-a7b0e4f87a40",
   "metadata": {
    "tags": []
   },
   "outputs": [
    {
     "data": {
      "text/plain": [
       "5"
      ]
     },
     "execution_count": 17,
     "metadata": {},
     "output_type": "execute_result"
    }
   ],
   "source": [
    "b[1]"
   ]
  },
  {
   "cell_type": "code",
   "execution_count": 18,
   "id": "c19d2228-4b09-4d73-a2bb-5208da65cdd8",
   "metadata": {
    "tags": []
   },
   "outputs": [
    {
     "data": {
      "text/plain": [
       "array([[1, 1],\n",
       "       [0, 6],\n",
       "       [8, 9],\n",
       "       [0, 2]])"
      ]
     },
     "execution_count": 18,
     "metadata": {},
     "output_type": "execute_result"
    }
   ],
   "source": [
    "c[0]"
   ]
  },
  {
   "cell_type": "code",
   "execution_count": 19,
   "id": "2eb20e53-4abc-43dd-928d-c90c4a4a2ae6",
   "metadata": {
    "tags": []
   },
   "outputs": [
    {
     "data": {
      "text/plain": [
       "array([9, 5])"
      ]
     },
     "execution_count": 19,
     "metadata": {},
     "output_type": "execute_result"
    }
   ],
   "source": [
    "b"
   ]
  },
  {
   "cell_type": "code",
   "execution_count": 20,
   "id": "525d7bcd-4e39-4f5f-85e2-ee024e1883b6",
   "metadata": {
    "tags": []
   },
   "outputs": [],
   "source": [
    "c = np.vstack([c[0], b])"
   ]
  },
  {
   "cell_type": "code",
   "execution_count": 21,
   "id": "37a73898-3fef-4be3-baba-134145de3193",
   "metadata": {
    "tags": []
   },
   "outputs": [
    {
     "data": {
      "text/plain": [
       "array([[1, 1],\n",
       "       [0, 6],\n",
       "       [8, 9],\n",
       "       [0, 2],\n",
       "       [9, 5]])"
      ]
     },
     "execution_count": 21,
     "metadata": {},
     "output_type": "execute_result"
    }
   ],
   "source": [
    "c"
   ]
  },
  {
   "cell_type": "code",
   "execution_count": 22,
   "id": "20bf9ad0-2581-4953-b33e-fcd6e261c49f",
   "metadata": {
    "tags": []
   },
   "outputs": [
    {
     "data": {
      "text/plain": [
       "array([[1., 1., 1., 1., 1.],\n",
       "       [1., 1., 1., 1., 1.],\n",
       "       [1., 1., 1., 1., 1.],\n",
       "       [1., 1., 1., 1., 1.],\n",
       "       [1., 1., 1., 1., 1.]])"
      ]
     },
     "execution_count": 22,
     "metadata": {},
     "output_type": "execute_result"
    }
   ],
   "source": [
    "z = np.ones((5, 5))\n",
    "z"
   ]
  },
  {
   "cell_type": "code",
   "execution_count": 23,
   "id": "ebb3e2b0-b80c-4970-9563-6a644c2af4f8",
   "metadata": {
    "tags": []
   },
   "outputs": [
    {
     "data": {
      "text/plain": [
       "array([0., 0., 0., 0., 0.])"
      ]
     },
     "execution_count": 23,
     "metadata": {},
     "output_type": "execute_result"
    }
   ],
   "source": [
    "y = np.zeros(5)\n",
    "y"
   ]
  },
  {
   "cell_type": "code",
   "execution_count": 24,
   "id": "fd4f2646-6067-4ae1-84f6-cdf016b93bc6",
   "metadata": {
    "tags": []
   },
   "outputs": [
    {
     "data": {
      "text/plain": [
       "array([[1., 1., 1., 1., 1.],\n",
       "       [1., 1., 1., 1., 1.],\n",
       "       [1., 1., 1., 1., 1.],\n",
       "       [1., 1., 1., 1., 1.],\n",
       "       [1., 1., 1., 1., 1.],\n",
       "       [0., 0., 0., 0., 0.]])"
      ]
     },
     "execution_count": 24,
     "metadata": {},
     "output_type": "execute_result"
    }
   ],
   "source": [
    "w = np.vstack((z, y))\n",
    "w"
   ]
  },
  {
   "cell_type": "code",
   "execution_count": 25,
   "id": "80e5d859-d64d-41eb-9247-7e93877ef169",
   "metadata": {
    "tags": []
   },
   "outputs": [
    {
     "data": {
      "text/plain": [
       "[array([[1., 1.],\n",
       "        [1., 1.],\n",
       "        [1., 1.],\n",
       "        [1., 1.],\n",
       "        [1., 1.],\n",
       "        [0., 0.]]),\n",
       " array([[1., 1., 1.],\n",
       "        [1., 1., 1.],\n",
       "        [1., 1., 1.],\n",
       "        [1., 1., 1.],\n",
       "        [1., 1., 1.],\n",
       "        [0., 0., 0.]])]"
      ]
     },
     "execution_count": 25,
     "metadata": {},
     "output_type": "execute_result"
    }
   ],
   "source": [
    "np.hsplit(w, [2])"
   ]
  },
  {
   "cell_type": "code",
   "execution_count": 26,
   "id": "b689e1df-3b98-4426-bf22-bfc45334694f",
   "metadata": {
    "tags": []
   },
   "outputs": [
    {
     "data": {
      "text/plain": [
       "120"
      ]
     },
     "execution_count": 26,
     "metadata": {},
     "output_type": "execute_result"
    }
   ],
   "source": [
    "a = np.arange(16).reshape((4,4))\n",
    "a + 1\n",
    "a = np.vsplit(a, [2])\n",
    "\n",
    "#a = np.add.reduce(a)\n",
    "\n",
    "for i in range(np.ndim(a)):\n",
    "    a = np.add.reduce(a)\n",
    "    \n",
    "a"
   ]
  },
  {
   "cell_type": "code",
   "execution_count": 27,
   "id": "814f9107-c077-45d6-a895-ab5842d6dfe4",
   "metadata": {
    "tags": []
   },
   "outputs": [
    {
     "data": {
      "text/plain": [
       "0"
      ]
     },
     "execution_count": 27,
     "metadata": {},
     "output_type": "execute_result"
    }
   ],
   "source": [
    "np.ndim(a)"
   ]
  },
  {
   "cell_type": "code",
   "execution_count": 30,
   "id": "8aabb413-09f1-4320-b0a4-c8a8fa8248cf",
   "metadata": {},
   "outputs": [
    {
     "data": {
      "text/plain": [
       "array([1, 2, 3, 4, 5])"
      ]
     },
     "execution_count": 30,
     "metadata": {},
     "output_type": "execute_result"
    }
   ],
   "source": [
    "np.array([1,2,3,4,5])"
   ]
  },
  {
   "cell_type": "code",
   "execution_count": 38,
   "id": "085be53a",
   "metadata": {},
   "outputs": [
    {
     "data": {
      "text/plain": [
       "array([0.        , 0.16534698, 0.33069396, 0.49604095, 0.66138793,\n",
       "       0.82673491, 0.99208189, 1.15742887, 1.32277585, 1.48812284,\n",
       "       1.65346982, 1.8188168 , 1.98416378, 2.14951076, 2.31485774,\n",
       "       2.48020473, 2.64555171, 2.81089869, 2.97624567, 3.14159265])"
      ]
     },
     "execution_count": 38,
     "metadata": {},
     "output_type": "execute_result"
    }
   ],
   "source": [
    "np.linspace(0, np.pi, 20)"
   ]
  },
  {
   "cell_type": "code",
   "execution_count": 40,
   "id": "9a6fdfcf",
   "metadata": {},
   "outputs": [
    {
     "data": {
      "text/plain": [
       "array([[0.55343685, 0.65511661],\n",
       "       [0.34932792, 0.80972324]])"
      ]
     },
     "execution_count": 40,
     "metadata": {},
     "output_type": "execute_result"
    }
   ],
   "source": [
    "np.random.random((2,2))"
   ]
  },
  {
   "cell_type": "code",
   "execution_count": 42,
   "id": "5270c4fe",
   "metadata": {},
   "outputs": [
    {
     "data": {
      "text/plain": [
       "array([[ 66.51065221, -92.54024083],\n",
       "       [ 66.30738283, 156.66491969]])"
      ]
     },
     "execution_count": 42,
     "metadata": {},
     "output_type": "execute_result"
    }
   ],
   "source": [
    "np.random.normal(0, 100, size=(2,2))"
   ]
  },
  {
   "cell_type": "code",
   "execution_count": 43,
   "id": "692bf1f5",
   "metadata": {},
   "outputs": [
    {
     "data": {
      "text/plain": [
       "array([[ True, False, False],\n",
       "       [False,  True, False],\n",
       "       [False, False,  True]])"
      ]
     },
     "execution_count": 43,
     "metadata": {},
     "output_type": "execute_result"
    }
   ],
   "source": [
    "np.eye(3, dtype=bool)"
   ]
  },
  {
   "cell_type": "code",
   "execution_count": 45,
   "id": "4f66828b",
   "metadata": {},
   "outputs": [
    {
     "data": {
      "text/plain": [
       "array([[[[2, 2, 8],\n",
       "         [9, 9, 5],\n",
       "         [9, 0, 8]],\n",
       "\n",
       "        [[4, 0, 8],\n",
       "         [7, 4, 6],\n",
       "         [2, 8, 1]],\n",
       "\n",
       "        [[8, 5, 2],\n",
       "         [2, 4, 4],\n",
       "         [2, 3, 1]]],\n",
       "\n",
       "\n",
       "       [[[1, 9, 9],\n",
       "         [4, 2, 9],\n",
       "         [3, 0, 6]],\n",
       "\n",
       "        [[9, 1, 1],\n",
       "         [5, 0, 6],\n",
       "         [1, 0, 7]],\n",
       "\n",
       "        [[6, 6, 8],\n",
       "         [5, 9, 2],\n",
       "         [3, 6, 1]]],\n",
       "\n",
       "\n",
       "       [[[4, 4, 5],\n",
       "         [1, 2, 8],\n",
       "         [1, 0, 4]],\n",
       "\n",
       "        [[5, 7, 8],\n",
       "         [1, 4, 1],\n",
       "         [1, 2, 1]],\n",
       "\n",
       "        [[8, 6, 3],\n",
       "         [8, 7, 5],\n",
       "         [9, 0, 6]]]])"
      ]
     },
     "execution_count": 45,
     "metadata": {},
     "output_type": "execute_result"
    }
   ],
   "source": [
    "x1 = np.random.randint(10, size=(3,3,3,3))\n",
    "x1"
   ]
  },
  {
   "cell_type": "code",
   "execution_count": 47,
   "id": "69d5be76",
   "metadata": {},
   "outputs": [
    {
     "data": {
      "text/plain": [
       "9"
      ]
     },
     "execution_count": 47,
     "metadata": {},
     "output_type": "execute_result"
    }
   ],
   "source": [
    "x1[0,0,1,0]"
   ]
  },
  {
   "cell_type": "code",
   "execution_count": 48,
   "id": "9823a568",
   "metadata": {},
   "outputs": [
    {
     "data": {
      "text/plain": [
       "9"
      ]
     },
     "execution_count": 48,
     "metadata": {},
     "output_type": "execute_result"
    }
   ],
   "source": [
    "x1[1,1,0,0]"
   ]
  },
  {
   "cell_type": "code",
   "execution_count": 52,
   "id": "e02f9e80",
   "metadata": {},
   "outputs": [
    {
     "data": {
      "text/plain": [
       "array([[1],\n",
       "       [4],\n",
       "       [3]])"
      ]
     },
     "execution_count": 52,
     "metadata": {},
     "output_type": "execute_result"
    }
   ],
   "source": [
    "x1[1,0,:,:1]"
   ]
  },
  {
   "cell_type": "code",
   "execution_count": null,
   "id": "1147029e",
   "metadata": {},
   "outputs": [],
   "source": []
  }
 ],
 "metadata": {
  "kernelspec": {
   "display_name": "Python 3 (ipykernel)",
   "language": "python",
   "name": "python3"
  },
  "language_info": {
   "codemirror_mode": {
    "name": "ipython",
    "version": 3
   },
   "file_extension": ".py",
   "mimetype": "text/x-python",
   "name": "python",
   "nbconvert_exporter": "python",
   "pygments_lexer": "ipython3",
   "version": "3.11.5"
  }
 },
 "nbformat": 4,
 "nbformat_minor": 5
}
