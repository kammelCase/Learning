{
 "cells": [
  {
   "cell_type": "code",
   "execution_count": 12,
   "id": "3e9de7f4-100e-48fe-b22e-949d589f28e6",
   "metadata": {
    "tags": []
   },
   "outputs": [],
   "source": [
    "# using this journal to code whatever comes to mind\n",
    "# primary focus is to get muscle/mind memory working better\n",
    "\n",
    "import numpy as np\n",
    "\n",
    "x3 = [[10, 10, 10],\n",
    "      [10, 10, 10]]"
   ]
  },
  {
   "cell_type": "code",
   "execution_count": 13,
   "id": "cf999117-f462-42b9-b7b5-d018cb829c38",
   "metadata": {
    "tags": []
   },
   "outputs": [
    {
     "data": {
      "text/plain": [
       "10"
      ]
     },
     "execution_count": 13,
     "metadata": {},
     "output_type": "execute_result"
    }
   ],
   "source": [
    "x3[0][0]"
   ]
  },
  {
   "cell_type": "code",
   "execution_count": 15,
   "id": "491f477e-1c0a-4fa2-9cea-b28f5db9f74e",
   "metadata": {
    "tags": []
   },
   "outputs": [],
   "source": [
    "x2 = np.random.randint(10, size=[2,2,3])"
   ]
  },
  {
   "cell_type": "code",
   "execution_count": 16,
   "id": "579e8709-62cb-4acb-9bf8-32c63ca183cd",
   "metadata": {
    "tags": []
   },
   "outputs": [
    {
     "data": {
      "text/plain": [
       "array([[[0, 5, 1],\n",
       "        [2, 1, 9]],\n",
       "\n",
       "       [[6, 1, 6],\n",
       "        [1, 6, 7]]])"
      ]
     },
     "execution_count": 16,
     "metadata": {},
     "output_type": "execute_result"
    }
   ],
   "source": [
    "x2"
   ]
  },
  {
   "cell_type": "code",
   "execution_count": 17,
   "id": "ee914409-e571-4a8b-aaec-1644c95c0344",
   "metadata": {
    "tags": []
   },
   "outputs": [],
   "source": [
    "x2 = np.random.randint(10, size=(2,2))"
   ]
  },
  {
   "cell_type": "code",
   "execution_count": 18,
   "id": "7edd5bd2-9b05-4177-889c-3bf57339de82",
   "metadata": {
    "tags": []
   },
   "outputs": [
    {
     "data": {
      "text/plain": [
       "array([[2, 6],\n",
       "       [4, 1]])"
      ]
     },
     "execution_count": 18,
     "metadata": {},
     "output_type": "execute_result"
    }
   ],
   "source": [
    "x2"
   ]
  },
  {
   "cell_type": "code",
   "execution_count": 20,
   "id": "6385b2e0-18e5-44f1-8097-6e2942ee2a9a",
   "metadata": {
    "tags": []
   },
   "outputs": [
    {
     "data": {
      "text/plain": [
       "array([[7, 7, 1, 1],\n",
       "       [4, 0, 0, 8],\n",
       "       [1, 7, 9, 8],\n",
       "       [7, 4, 4, 0]])"
      ]
     },
     "execution_count": 20,
     "metadata": {},
     "output_type": "execute_result"
    }
   ],
   "source": [
    "a = np.random.randint(10, size=[4,4])\n",
    "a"
   ]
  },
  {
   "cell_type": "code",
   "execution_count": 40,
   "id": "f11bebda-2b17-407b-a2eb-887c3bf88886",
   "metadata": {
    "tags": []
   },
   "outputs": [],
   "source": [
    "c = np.hsplit(a, [2])"
   ]
  },
  {
   "cell_type": "code",
   "execution_count": 25,
   "id": "e787366b-c188-4ba1-8926-85816ece4312",
   "metadata": {
    "tags": []
   },
   "outputs": [
    {
     "data": {
      "text/plain": [
       "[array([[7, 7, 1, 1],\n",
       "        [4, 0, 0, 8]]),\n",
       " array([[1, 7, 9, 8],\n",
       "        [7, 4, 4, 0]])]"
      ]
     },
     "execution_count": 25,
     "metadata": {},
     "output_type": "execute_result"
    }
   ],
   "source": [
    "np.vsplit(a, [2])"
   ]
  },
  {
   "cell_type": "code",
   "execution_count": 36,
   "id": "06e1a384-27ff-4bf7-830a-7cbb0be82ad2",
   "metadata": {
    "tags": []
   },
   "outputs": [],
   "source": [
    "b = a[2,1:3].copy()"
   ]
  },
  {
   "cell_type": "code",
   "execution_count": 38,
   "id": "35fefcea-bc77-4c7a-b4c2-cb94e199134f",
   "metadata": {
    "tags": []
   },
   "outputs": [
    {
     "data": {
      "text/plain": [
       "7"
      ]
     },
     "execution_count": 38,
     "metadata": {},
     "output_type": "execute_result"
    }
   ],
   "source": [
    "b[0]"
   ]
  },
  {
   "cell_type": "code",
   "execution_count": 51,
   "id": "3765512d-4160-4360-b652-a7b0e4f87a40",
   "metadata": {
    "tags": []
   },
   "outputs": [
    {
     "data": {
      "text/plain": [
       "9"
      ]
     },
     "execution_count": 51,
     "metadata": {},
     "output_type": "execute_result"
    }
   ],
   "source": [
    "b[1]"
   ]
  },
  {
   "cell_type": "code",
   "execution_count": 56,
   "id": "c19d2228-4b09-4d73-a2bb-5208da65cdd8",
   "metadata": {
    "tags": []
   },
   "outputs": [
    {
     "data": {
      "text/plain": [
       "array([[7, 7],\n",
       "       [4, 0],\n",
       "       [1, 7],\n",
       "       [7, 4]])"
      ]
     },
     "execution_count": 56,
     "metadata": {},
     "output_type": "execute_result"
    }
   ],
   "source": [
    "c[0]"
   ]
  },
  {
   "cell_type": "code",
   "execution_count": 54,
   "id": "2eb20e53-4abc-43dd-928d-c90c4a4a2ae6",
   "metadata": {
    "tags": []
   },
   "outputs": [
    {
     "data": {
      "text/plain": [
       "array([7, 9])"
      ]
     },
     "execution_count": 54,
     "metadata": {},
     "output_type": "execute_result"
    }
   ],
   "source": [
    "b"
   ]
  },
  {
   "cell_type": "code",
   "execution_count": 58,
   "id": "525d7bcd-4e39-4f5f-85e2-ee024e1883b6",
   "metadata": {
    "tags": []
   },
   "outputs": [],
   "source": [
    "c = np.vstack([c[0], b])"
   ]
  },
  {
   "cell_type": "code",
   "execution_count": 59,
   "id": "37a73898-3fef-4be3-baba-134145de3193",
   "metadata": {
    "tags": []
   },
   "outputs": [
    {
     "data": {
      "text/plain": [
       "array([[7, 7],\n",
       "       [4, 0],\n",
       "       [1, 7],\n",
       "       [7, 4],\n",
       "       [7, 9]])"
      ]
     },
     "execution_count": 59,
     "metadata": {},
     "output_type": "execute_result"
    }
   ],
   "source": [
    "c"
   ]
  },
  {
   "cell_type": "code",
   "execution_count": 67,
   "id": "20bf9ad0-2581-4953-b33e-fcd6e261c49f",
   "metadata": {
    "tags": []
   },
   "outputs": [
    {
     "data": {
      "text/plain": [
       "array([[1., 1., 1., 1., 1.],\n",
       "       [1., 1., 1., 1., 1.],\n",
       "       [1., 1., 1., 1., 1.],\n",
       "       [1., 1., 1., 1., 1.],\n",
       "       [1., 1., 1., 1., 1.]])"
      ]
     },
     "execution_count": 67,
     "metadata": {},
     "output_type": "execute_result"
    }
   ],
   "source": [
    "z = np.ones((5, 5))\n",
    "z"
   ]
  },
  {
   "cell_type": "code",
   "execution_count": 66,
   "id": "ebb3e2b0-b80c-4970-9563-6a644c2af4f8",
   "metadata": {
    "tags": []
   },
   "outputs": [
    {
     "data": {
      "text/plain": [
       "array([0., 0., 0., 0., 0.])"
      ]
     },
     "execution_count": 66,
     "metadata": {},
     "output_type": "execute_result"
    }
   ],
   "source": [
    "y = np.zeros(5)\n",
    "y"
   ]
  },
  {
   "cell_type": "code",
   "execution_count": 72,
   "id": "fd4f2646-6067-4ae1-84f6-cdf016b93bc6",
   "metadata": {
    "tags": []
   },
   "outputs": [
    {
     "data": {
      "text/plain": [
       "array([[1., 1., 1., 1., 1.],\n",
       "       [1., 1., 1., 1., 1.],\n",
       "       [1., 1., 1., 1., 1.],\n",
       "       [1., 1., 1., 1., 1.],\n",
       "       [1., 1., 1., 1., 1.],\n",
       "       [0., 0., 0., 0., 0.]])"
      ]
     },
     "execution_count": 72,
     "metadata": {},
     "output_type": "execute_result"
    }
   ],
   "source": [
    "w = np.vstack((z, y))\n",
    "w"
   ]
  },
  {
   "cell_type": "code",
   "execution_count": 141,
   "id": "80e5d859-d64d-41eb-9247-7e93877ef169",
   "metadata": {
    "tags": []
   },
   "outputs": [
    {
     "data": {
      "text/plain": [
       "[array([[1., 1.],\n",
       "        [1., 1.],\n",
       "        [1., 1.],\n",
       "        [1., 1.],\n",
       "        [1., 1.],\n",
       "        [0., 0.]]),\n",
       " array([[1., 1., 1.],\n",
       "        [1., 1., 1.],\n",
       "        [1., 1., 1.],\n",
       "        [1., 1., 1.],\n",
       "        [1., 1., 1.],\n",
       "        [0., 0., 0.]])]"
      ]
     },
     "execution_count": 141,
     "metadata": {},
     "output_type": "execute_result"
    }
   ],
   "source": [
    "np.hsplit(w, [2])"
   ]
  },
  {
   "cell_type": "code",
   "execution_count": 142,
   "id": "b689e1df-3b98-4426-bf22-bfc45334694f",
   "metadata": {
    "tags": []
   },
   "outputs": [
    {
     "data": {
      "text/plain": [
       "120"
      ]
     },
     "execution_count": 142,
     "metadata": {},
     "output_type": "execute_result"
    }
   ],
   "source": [
    "a = np.arange(16).reshape((4,4))\n",
    "a + 1\n",
    "a = np.vsplit(a, [2])\n",
    "\n",
    "#a = np.add.reduce(a)\n",
    "\n",
    "for i in range(np.ndim(a)):\n",
    "    a = np.add.reduce(a)\n",
    "    \n",
    "a"
   ]
  },
  {
   "cell_type": "code",
   "execution_count": 143,
   "id": "814f9107-c077-45d6-a895-ab5842d6dfe4",
   "metadata": {
    "tags": []
   },
   "outputs": [
    {
     "data": {
      "text/plain": [
       "0"
      ]
     },
     "execution_count": 143,
     "metadata": {},
     "output_type": "execute_result"
    }
   ],
   "source": [
    "np.ndim(a)"
   ]
  },
  {
   "cell_type": "code",
   "execution_count": null,
   "id": "8aabb413-09f1-4320-b0a4-c8a8fa8248cf",
   "metadata": {},
   "outputs": [],
   "source": []
  }
 ],
 "metadata": {
  "kernelspec": {
   "display_name": "Python 3 (ipykernel)",
   "language": "python",
   "name": "python3"
  },
  "language_info": {
   "codemirror_mode": {
    "name": "ipython",
    "version": 3
   },
   "file_extension": ".py",
   "mimetype": "text/x-python",
   "name": "python",
   "nbconvert_exporter": "python",
   "pygments_lexer": "ipython3",
   "version": "3.11.5"
  }
 },
 "nbformat": 4,
 "nbformat_minor": 5
}
