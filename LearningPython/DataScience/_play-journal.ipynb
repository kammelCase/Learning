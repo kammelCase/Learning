{
 "cells": [
  {
   "cell_type": "code",
   "execution_count": 2,
   "id": "3e9de7f4-100e-48fe-b22e-949d589f28e6",
   "metadata": {
    "tags": []
   },
   "outputs": [],
   "source": [
    "# jon, probably disregard this!\n",
    "\n",
    "# using this journal to code whatever comes to mind\n",
    "# primary focus is to get muscle/mind memory working better\n",
    "\n",
    "import numpy as np\n",
    "\n",
    "x3 = [[10, 10, 10],\n",
    "      [10, 10, 10]]"
   ]
  },
  {
   "cell_type": "code",
   "execution_count": 3,
   "id": "cf999117-f462-42b9-b7b5-d018cb829c38",
   "metadata": {
    "tags": []
   },
   "outputs": [
    {
     "data": {
      "text/plain": [
       "10"
      ]
     },
     "execution_count": 3,
     "metadata": {},
     "output_type": "execute_result"
    }
   ],
   "source": [
    "x3[0][0]"
   ]
  },
  {
   "cell_type": "code",
   "execution_count": 4,
   "id": "491f477e-1c0a-4fa2-9cea-b28f5db9f74e",
   "metadata": {
    "tags": []
   },
   "outputs": [],
   "source": [
    "x2 = np.random.randint(10, size=[2,2,3])"
   ]
  },
  {
   "cell_type": "code",
   "execution_count": 5,
   "id": "579e8709-62cb-4acb-9bf8-32c63ca183cd",
   "metadata": {
    "tags": []
   },
   "outputs": [
    {
     "data": {
      "text/plain": [
       "array([[[4, 8, 5],\n",
       "        [2, 0, 2]],\n",
       "\n",
       "       [[1, 3, 3],\n",
       "        [3, 6, 2]]])"
      ]
     },
     "execution_count": 5,
     "metadata": {},
     "output_type": "execute_result"
    }
   ],
   "source": [
    "x2"
   ]
  },
  {
   "cell_type": "code",
   "execution_count": 6,
   "id": "ee914409-e571-4a8b-aaec-1644c95c0344",
   "metadata": {
    "tags": []
   },
   "outputs": [],
   "source": [
    "x2 = np.random.randint(10, size=(2,2))"
   ]
  },
  {
   "cell_type": "code",
   "execution_count": 7,
   "id": "7edd5bd2-9b05-4177-889c-3bf57339de82",
   "metadata": {
    "tags": []
   },
   "outputs": [
    {
     "data": {
      "text/plain": [
       "array([[9, 5],\n",
       "       [2, 0]])"
      ]
     },
     "execution_count": 7,
     "metadata": {},
     "output_type": "execute_result"
    }
   ],
   "source": [
    "x2"
   ]
  },
  {
   "cell_type": "code",
   "execution_count": 8,
   "id": "6385b2e0-18e5-44f1-8097-6e2942ee2a9a",
   "metadata": {
    "tags": []
   },
   "outputs": [
    {
     "data": {
      "text/plain": [
       "array([[2, 5, 5, 8],\n",
       "       [1, 6, 1, 3],\n",
       "       [5, 3, 7, 6],\n",
       "       [5, 3, 2, 6]])"
      ]
     },
     "execution_count": 8,
     "metadata": {},
     "output_type": "execute_result"
    }
   ],
   "source": [
    "a = np.random.randint(10, size=[4,4])\n",
    "a"
   ]
  },
  {
   "cell_type": "code",
   "execution_count": 9,
   "id": "f11bebda-2b17-407b-a2eb-887c3bf88886",
   "metadata": {
    "tags": []
   },
   "outputs": [],
   "source": [
    "c = np.hsplit(a, [2])"
   ]
  },
  {
   "cell_type": "code",
   "execution_count": 10,
   "id": "e787366b-c188-4ba1-8926-85816ece4312",
   "metadata": {
    "tags": []
   },
   "outputs": [
    {
     "data": {
      "text/plain": [
       "[array([[2, 5, 5, 8],\n",
       "        [1, 6, 1, 3]]),\n",
       " array([[5, 3, 7, 6],\n",
       "        [5, 3, 2, 6]])]"
      ]
     },
     "execution_count": 10,
     "metadata": {},
     "output_type": "execute_result"
    }
   ],
   "source": [
    "np.vsplit(a, [2])"
   ]
  },
  {
   "cell_type": "code",
   "execution_count": 11,
   "id": "06e1a384-27ff-4bf7-830a-7cbb0be82ad2",
   "metadata": {
    "tags": []
   },
   "outputs": [],
   "source": [
    "b = a[2,1:3].copy()"
   ]
  },
  {
   "cell_type": "code",
   "execution_count": 12,
   "id": "35fefcea-bc77-4c7a-b4c2-cb94e199134f",
   "metadata": {
    "tags": []
   },
   "outputs": [
    {
     "data": {
      "text/plain": [
       "3"
      ]
     },
     "execution_count": 12,
     "metadata": {},
     "output_type": "execute_result"
    }
   ],
   "source": [
    "b[0]"
   ]
  },
  {
   "cell_type": "code",
   "execution_count": 13,
   "id": "3765512d-4160-4360-b652-a7b0e4f87a40",
   "metadata": {
    "tags": []
   },
   "outputs": [
    {
     "data": {
      "text/plain": [
       "7"
      ]
     },
     "execution_count": 13,
     "metadata": {},
     "output_type": "execute_result"
    }
   ],
   "source": [
    "b[1]"
   ]
  },
  {
   "cell_type": "code",
   "execution_count": 14,
   "id": "c19d2228-4b09-4d73-a2bb-5208da65cdd8",
   "metadata": {
    "tags": []
   },
   "outputs": [
    {
     "data": {
      "text/plain": [
       "array([[2, 5],\n",
       "       [1, 6],\n",
       "       [5, 3],\n",
       "       [5, 3]])"
      ]
     },
     "execution_count": 14,
     "metadata": {},
     "output_type": "execute_result"
    }
   ],
   "source": [
    "c[0]"
   ]
  },
  {
   "cell_type": "code",
   "execution_count": 15,
   "id": "2eb20e53-4abc-43dd-928d-c90c4a4a2ae6",
   "metadata": {
    "tags": []
   },
   "outputs": [
    {
     "data": {
      "text/plain": [
       "array([3, 7])"
      ]
     },
     "execution_count": 15,
     "metadata": {},
     "output_type": "execute_result"
    }
   ],
   "source": [
    "b"
   ]
  },
  {
   "cell_type": "code",
   "execution_count": 16,
   "id": "525d7bcd-4e39-4f5f-85e2-ee024e1883b6",
   "metadata": {
    "tags": []
   },
   "outputs": [],
   "source": [
    "c = np.vstack([c[0], b])"
   ]
  },
  {
   "cell_type": "code",
   "execution_count": 17,
   "id": "37a73898-3fef-4be3-baba-134145de3193",
   "metadata": {
    "tags": []
   },
   "outputs": [
    {
     "data": {
      "text/plain": [
       "array([[2, 5],\n",
       "       [1, 6],\n",
       "       [5, 3],\n",
       "       [5, 3],\n",
       "       [3, 7]])"
      ]
     },
     "execution_count": 17,
     "metadata": {},
     "output_type": "execute_result"
    }
   ],
   "source": [
    "c"
   ]
  },
  {
   "cell_type": "code",
   "execution_count": 18,
   "id": "20bf9ad0-2581-4953-b33e-fcd6e261c49f",
   "metadata": {
    "tags": []
   },
   "outputs": [
    {
     "data": {
      "text/plain": [
       "array([[1., 1., 1., 1., 1.],\n",
       "       [1., 1., 1., 1., 1.],\n",
       "       [1., 1., 1., 1., 1.],\n",
       "       [1., 1., 1., 1., 1.],\n",
       "       [1., 1., 1., 1., 1.]])"
      ]
     },
     "execution_count": 18,
     "metadata": {},
     "output_type": "execute_result"
    }
   ],
   "source": [
    "z = np.ones((5, 5))\n",
    "z"
   ]
  },
  {
   "cell_type": "code",
   "execution_count": 19,
   "id": "ebb3e2b0-b80c-4970-9563-6a644c2af4f8",
   "metadata": {
    "tags": []
   },
   "outputs": [
    {
     "data": {
      "text/plain": [
       "array([0., 0., 0., 0., 0.])"
      ]
     },
     "execution_count": 19,
     "metadata": {},
     "output_type": "execute_result"
    }
   ],
   "source": [
    "y = np.zeros(5)\n",
    "y"
   ]
  },
  {
   "cell_type": "code",
   "execution_count": 20,
   "id": "fd4f2646-6067-4ae1-84f6-cdf016b93bc6",
   "metadata": {
    "tags": []
   },
   "outputs": [
    {
     "data": {
      "text/plain": [
       "array([[1., 1., 1., 1., 1.],\n",
       "       [1., 1., 1., 1., 1.],\n",
       "       [1., 1., 1., 1., 1.],\n",
       "       [1., 1., 1., 1., 1.],\n",
       "       [1., 1., 1., 1., 1.],\n",
       "       [0., 0., 0., 0., 0.]])"
      ]
     },
     "execution_count": 20,
     "metadata": {},
     "output_type": "execute_result"
    }
   ],
   "source": [
    "w = np.vstack((z, y))\n",
    "w"
   ]
  },
  {
   "cell_type": "code",
   "execution_count": 21,
   "id": "80e5d859-d64d-41eb-9247-7e93877ef169",
   "metadata": {
    "tags": []
   },
   "outputs": [
    {
     "data": {
      "text/plain": [
       "[array([[1., 1.],\n",
       "        [1., 1.],\n",
       "        [1., 1.],\n",
       "        [1., 1.],\n",
       "        [1., 1.],\n",
       "        [0., 0.]]),\n",
       " array([[1., 1., 1.],\n",
       "        [1., 1., 1.],\n",
       "        [1., 1., 1.],\n",
       "        [1., 1., 1.],\n",
       "        [1., 1., 1.],\n",
       "        [0., 0., 0.]])]"
      ]
     },
     "execution_count": 21,
     "metadata": {},
     "output_type": "execute_result"
    }
   ],
   "source": [
    "np.hsplit(w, [2])"
   ]
  },
  {
   "cell_type": "code",
   "execution_count": 22,
   "id": "b689e1df-3b98-4426-bf22-bfc45334694f",
   "metadata": {
    "tags": []
   },
   "outputs": [
    {
     "data": {
      "text/plain": [
       "120"
      ]
     },
     "execution_count": 22,
     "metadata": {},
     "output_type": "execute_result"
    }
   ],
   "source": [
    "a = np.arange(16).reshape((4,4))\n",
    "a + 1\n",
    "a = np.vsplit(a, [2])\n",
    "\n",
    "#a = np.add.reduce(a)\n",
    "\n",
    "for i in range(np.ndim(a)):\n",
    "    a = np.add.reduce(a)\n",
    "    \n",
    "a"
   ]
  },
  {
   "cell_type": "code",
   "execution_count": 23,
   "id": "814f9107-c077-45d6-a895-ab5842d6dfe4",
   "metadata": {
    "tags": []
   },
   "outputs": [
    {
     "data": {
      "text/plain": [
       "0"
      ]
     },
     "execution_count": 23,
     "metadata": {},
     "output_type": "execute_result"
    }
   ],
   "source": [
    "np.ndim(a)"
   ]
  },
  {
   "cell_type": "code",
   "execution_count": 24,
   "id": "8aabb413-09f1-4320-b0a4-c8a8fa8248cf",
   "metadata": {},
   "outputs": [
    {
     "data": {
      "text/plain": [
       "array([1, 2, 3, 4, 5])"
      ]
     },
     "execution_count": 24,
     "metadata": {},
     "output_type": "execute_result"
    }
   ],
   "source": [
    "np.array([1,2,3,4,5])"
   ]
  },
  {
   "cell_type": "code",
   "execution_count": 25,
   "id": "085be53a",
   "metadata": {},
   "outputs": [
    {
     "data": {
      "text/plain": [
       "array([0.        , 0.16534698, 0.33069396, 0.49604095, 0.66138793,\n",
       "       0.82673491, 0.99208189, 1.15742887, 1.32277585, 1.48812284,\n",
       "       1.65346982, 1.8188168 , 1.98416378, 2.14951076, 2.31485774,\n",
       "       2.48020473, 2.64555171, 2.81089869, 2.97624567, 3.14159265])"
      ]
     },
     "execution_count": 25,
     "metadata": {},
     "output_type": "execute_result"
    }
   ],
   "source": [
    "np.linspace(0, np.pi, 20)"
   ]
  },
  {
   "cell_type": "code",
   "execution_count": 26,
   "id": "9a6fdfcf",
   "metadata": {},
   "outputs": [
    {
     "data": {
      "text/plain": [
       "array([[0.01302096, 0.2214815 ],\n",
       "       [0.14608716, 0.28093762]])"
      ]
     },
     "execution_count": 26,
     "metadata": {},
     "output_type": "execute_result"
    }
   ],
   "source": [
    "np.random.random((2,2))"
   ]
  },
  {
   "cell_type": "code",
   "execution_count": 27,
   "id": "5270c4fe",
   "metadata": {},
   "outputs": [
    {
     "data": {
      "text/plain": [
       "array([[ 44.71463527,  63.13033975],\n",
       "       [125.93078215, -42.67882882]])"
      ]
     },
     "execution_count": 27,
     "metadata": {},
     "output_type": "execute_result"
    }
   ],
   "source": [
    "np.random.normal(0, 100, size=(2,2))"
   ]
  },
  {
   "cell_type": "code",
   "execution_count": 28,
   "id": "692bf1f5",
   "metadata": {},
   "outputs": [
    {
     "data": {
      "text/plain": [
       "array([[ True, False, False],\n",
       "       [False,  True, False],\n",
       "       [False, False,  True]])"
      ]
     },
     "execution_count": 28,
     "metadata": {},
     "output_type": "execute_result"
    }
   ],
   "source": [
    "np.eye(3, dtype=bool)"
   ]
  },
  {
   "cell_type": "code",
   "execution_count": 29,
   "id": "4f66828b",
   "metadata": {},
   "outputs": [
    {
     "data": {
      "text/plain": [
       "array([[[[1, 6, 9],\n",
       "         [9, 2, 9],\n",
       "         [3, 6, 2]],\n",
       "\n",
       "        [[3, 7, 4],\n",
       "         [5, 2, 7],\n",
       "         [5, 2, 5]],\n",
       "\n",
       "        [[7, 6, 4],\n",
       "         [7, 9, 2],\n",
       "         [8, 1, 0]]],\n",
       "\n",
       "\n",
       "       [[[5, 5, 4],\n",
       "         [0, 9, 2],\n",
       "         [9, 8, 4]],\n",
       "\n",
       "        [[4, 9, 5],\n",
       "         [8, 1, 2],\n",
       "         [3, 7, 5]],\n",
       "\n",
       "        [[1, 6, 8],\n",
       "         [0, 9, 0],\n",
       "         [0, 6, 4]]],\n",
       "\n",
       "\n",
       "       [[[6, 0, 3],\n",
       "         [0, 7, 9],\n",
       "         [7, 5, 2]],\n",
       "\n",
       "        [[6, 4, 6],\n",
       "         [1, 9, 2],\n",
       "         [2, 6, 3]],\n",
       "\n",
       "        [[4, 5, 9],\n",
       "         [9, 6, 2],\n",
       "         [6, 2, 3]]]])"
      ]
     },
     "execution_count": 29,
     "metadata": {},
     "output_type": "execute_result"
    }
   ],
   "source": [
    "x1 = np.random.randint(10, size=(3,3,3,3))\n",
    "x1"
   ]
  },
  {
   "cell_type": "code",
   "execution_count": 30,
   "id": "69d5be76",
   "metadata": {},
   "outputs": [
    {
     "data": {
      "text/plain": [
       "9"
      ]
     },
     "execution_count": 30,
     "metadata": {},
     "output_type": "execute_result"
    }
   ],
   "source": [
    "x1[0,0,1,0]"
   ]
  },
  {
   "cell_type": "code",
   "execution_count": 31,
   "id": "9823a568",
   "metadata": {},
   "outputs": [
    {
     "data": {
      "text/plain": [
       "4"
      ]
     },
     "execution_count": 31,
     "metadata": {},
     "output_type": "execute_result"
    }
   ],
   "source": [
    "x1[1,1,0,0]"
   ]
  },
  {
   "cell_type": "code",
   "execution_count": 32,
   "id": "e02f9e80",
   "metadata": {},
   "outputs": [
    {
     "data": {
      "text/plain": [
       "array([[5],\n",
       "       [0],\n",
       "       [9]])"
      ]
     },
     "execution_count": 32,
     "metadata": {},
     "output_type": "execute_result"
    }
   ],
   "source": [
    "x1[1,0,:,:1]"
   ]
  },
  {
   "cell_type": "code",
   "execution_count": 34,
   "id": "1147029e",
   "metadata": {},
   "outputs": [],
   "source": [
    "L = np.arange(10)"
   ]
  },
  {
   "cell_type": "code",
   "execution_count": 35,
   "id": "585a3c14",
   "metadata": {},
   "outputs": [
    {
     "data": {
      "text/plain": [
       "numpy.ndarray"
      ]
     },
     "execution_count": 35,
     "metadata": {},
     "output_type": "execute_result"
    }
   ],
   "source": [
    "type(L)"
   ]
  },
  {
   "cell_type": "code",
   "execution_count": 45,
   "id": "f6652e1f",
   "metadata": {},
   "outputs": [
    {
     "name": "stdout",
     "output_type": "stream",
     "text": [
      "(3, 3, 3)\n",
      "3\n",
      "216\n"
     ]
    }
   ],
   "source": [
    "x1 = np.random.randint(10, size=(3,3,3))\n",
    "\n",
    "# these seem really important as they quickly tell you info about the array\n",
    "print(x1.shape) # shape of entire array.\n",
    "print(x1.ndim) # number of dimentions. almost as useful as shape.\n",
    "print(x1.itemsize*x1.size) # total bytes in array = size*itemsize\n",
    "\n"
   ]
  },
  {
   "cell_type": "code",
   "execution_count": null,
   "id": "6efa2ac8",
   "metadata": {},
   "outputs": [],
   "source": []
  }
 ],
 "metadata": {
  "kernelspec": {
   "display_name": "Python 3 (ipykernel)",
   "language": "python",
   "name": "python3"
  },
  "language_info": {
   "codemirror_mode": {
    "name": "ipython",
    "version": 3
   },
   "file_extension": ".py",
   "mimetype": "text/x-python",
   "name": "python",
   "nbconvert_exporter": "python",
   "pygments_lexer": "ipython3",
   "version": "3.11.5"
  }
 },
 "nbformat": 4,
 "nbformat_minor": 5
}
