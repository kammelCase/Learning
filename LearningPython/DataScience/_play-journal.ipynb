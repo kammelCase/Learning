{
 "cells": [
  {
   "cell_type": "code",
   "execution_count": 99,
   "id": "3e9de7f4-100e-48fe-b22e-949d589f28e6",
   "metadata": {
    "tags": []
   },
   "outputs": [],
   "source": [
    "# jon, probably disregard this!\n",
    "\n",
    "# using this journal to code whatever comes to mind\n",
    "# primary focus is to get muscle/mind memory working better\n",
    "\n",
    "import numpy as np\n",
    "import pandas as pd\n",
    "\n",
    "x3 = [[10, 10, 10],\n",
    "      [10, 10, 10]]"
   ]
  },
  {
   "cell_type": "code",
   "execution_count": 100,
   "id": "cf999117-f462-42b9-b7b5-d018cb829c38",
   "metadata": {
    "tags": []
   },
   "outputs": [
    {
     "data": {
      "text/plain": [
       "10"
      ]
     },
     "execution_count": 100,
     "metadata": {},
     "output_type": "execute_result"
    }
   ],
   "source": [
    "x3[0][0]"
   ]
  },
  {
   "cell_type": "code",
   "execution_count": 101,
   "id": "491f477e-1c0a-4fa2-9cea-b28f5db9f74e",
   "metadata": {
    "tags": []
   },
   "outputs": [],
   "source": [
    "x2 = np.random.randint(10, size=[2,2,3])"
   ]
  },
  {
   "cell_type": "code",
   "execution_count": 102,
   "id": "579e8709-62cb-4acb-9bf8-32c63ca183cd",
   "metadata": {
    "tags": []
   },
   "outputs": [
    {
     "data": {
      "text/plain": [
       "array([[[3, 3, 6],\n",
       "        [9, 9, 9]],\n",
       "\n",
       "       [[3, 4, 5],\n",
       "        [3, 1, 3]]])"
      ]
     },
     "execution_count": 102,
     "metadata": {},
     "output_type": "execute_result"
    }
   ],
   "source": [
    "x2"
   ]
  },
  {
   "cell_type": "code",
   "execution_count": 103,
   "id": "ee914409-e571-4a8b-aaec-1644c95c0344",
   "metadata": {
    "tags": []
   },
   "outputs": [],
   "source": [
    "x2 = np.random.randint(10, size=(2,2))"
   ]
  },
  {
   "cell_type": "code",
   "execution_count": 104,
   "id": "7edd5bd2-9b05-4177-889c-3bf57339de82",
   "metadata": {
    "tags": []
   },
   "outputs": [
    {
     "data": {
      "text/plain": [
       "array([[8, 7],\n",
       "       [5, 2]])"
      ]
     },
     "execution_count": 104,
     "metadata": {},
     "output_type": "execute_result"
    }
   ],
   "source": [
    "x2"
   ]
  },
  {
   "cell_type": "code",
   "execution_count": 105,
   "id": "6385b2e0-18e5-44f1-8097-6e2942ee2a9a",
   "metadata": {
    "tags": []
   },
   "outputs": [
    {
     "data": {
      "text/plain": [
       "array([[5, 5, 9, 1],\n",
       "       [8, 1, 8, 4],\n",
       "       [2, 0, 0, 8],\n",
       "       [6, 5, 7, 0]])"
      ]
     },
     "execution_count": 105,
     "metadata": {},
     "output_type": "execute_result"
    }
   ],
   "source": [
    "a = np.random.randint(10, size=[4,4])\n",
    "a"
   ]
  },
  {
   "cell_type": "code",
   "execution_count": 106,
   "id": "f11bebda-2b17-407b-a2eb-887c3bf88886",
   "metadata": {
    "tags": []
   },
   "outputs": [],
   "source": [
    "c = np.hsplit(a, [2])"
   ]
  },
  {
   "cell_type": "code",
   "execution_count": 107,
   "id": "e787366b-c188-4ba1-8926-85816ece4312",
   "metadata": {
    "tags": []
   },
   "outputs": [
    {
     "data": {
      "text/plain": [
       "[array([[5, 5, 9, 1],\n",
       "        [8, 1, 8, 4]]),\n",
       " array([[2, 0, 0, 8],\n",
       "        [6, 5, 7, 0]])]"
      ]
     },
     "execution_count": 107,
     "metadata": {},
     "output_type": "execute_result"
    }
   ],
   "source": [
    "np.vsplit(a, [2])"
   ]
  },
  {
   "cell_type": "code",
   "execution_count": 108,
   "id": "06e1a384-27ff-4bf7-830a-7cbb0be82ad2",
   "metadata": {
    "tags": []
   },
   "outputs": [],
   "source": [
    "b = a[2,1:3].copy()"
   ]
  },
  {
   "cell_type": "code",
   "execution_count": 109,
   "id": "35fefcea-bc77-4c7a-b4c2-cb94e199134f",
   "metadata": {
    "tags": []
   },
   "outputs": [
    {
     "data": {
      "text/plain": [
       "0"
      ]
     },
     "execution_count": 109,
     "metadata": {},
     "output_type": "execute_result"
    }
   ],
   "source": [
    "b[0]"
   ]
  },
  {
   "cell_type": "code",
   "execution_count": 110,
   "id": "3765512d-4160-4360-b652-a7b0e4f87a40",
   "metadata": {
    "tags": []
   },
   "outputs": [
    {
     "data": {
      "text/plain": [
       "0"
      ]
     },
     "execution_count": 110,
     "metadata": {},
     "output_type": "execute_result"
    }
   ],
   "source": [
    "b[1]"
   ]
  },
  {
   "cell_type": "code",
   "execution_count": 111,
   "id": "c19d2228-4b09-4d73-a2bb-5208da65cdd8",
   "metadata": {
    "tags": []
   },
   "outputs": [
    {
     "data": {
      "text/plain": [
       "array([[5, 5],\n",
       "       [8, 1],\n",
       "       [2, 0],\n",
       "       [6, 5]])"
      ]
     },
     "execution_count": 111,
     "metadata": {},
     "output_type": "execute_result"
    }
   ],
   "source": [
    "c[0]"
   ]
  },
  {
   "cell_type": "code",
   "execution_count": 112,
   "id": "2eb20e53-4abc-43dd-928d-c90c4a4a2ae6",
   "metadata": {
    "tags": []
   },
   "outputs": [
    {
     "data": {
      "text/plain": [
       "array([0, 0])"
      ]
     },
     "execution_count": 112,
     "metadata": {},
     "output_type": "execute_result"
    }
   ],
   "source": [
    "b"
   ]
  },
  {
   "cell_type": "code",
   "execution_count": 113,
   "id": "525d7bcd-4e39-4f5f-85e2-ee024e1883b6",
   "metadata": {
    "tags": []
   },
   "outputs": [],
   "source": [
    "c = np.vstack([c[0], b])"
   ]
  },
  {
   "cell_type": "code",
   "execution_count": 114,
   "id": "37a73898-3fef-4be3-baba-134145de3193",
   "metadata": {
    "tags": []
   },
   "outputs": [
    {
     "data": {
      "text/plain": [
       "array([[5, 5],\n",
       "       [8, 1],\n",
       "       [2, 0],\n",
       "       [6, 5],\n",
       "       [0, 0]])"
      ]
     },
     "execution_count": 114,
     "metadata": {},
     "output_type": "execute_result"
    }
   ],
   "source": [
    "c"
   ]
  },
  {
   "cell_type": "code",
   "execution_count": 115,
   "id": "20bf9ad0-2581-4953-b33e-fcd6e261c49f",
   "metadata": {
    "tags": []
   },
   "outputs": [
    {
     "data": {
      "text/plain": [
       "array([[1., 1., 1., 1., 1.],\n",
       "       [1., 1., 1., 1., 1.],\n",
       "       [1., 1., 1., 1., 1.],\n",
       "       [1., 1., 1., 1., 1.],\n",
       "       [1., 1., 1., 1., 1.]])"
      ]
     },
     "execution_count": 115,
     "metadata": {},
     "output_type": "execute_result"
    }
   ],
   "source": [
    "z = np.ones((5, 5))\n",
    "z"
   ]
  },
  {
   "cell_type": "code",
   "execution_count": 116,
   "id": "ebb3e2b0-b80c-4970-9563-6a644c2af4f8",
   "metadata": {
    "tags": []
   },
   "outputs": [
    {
     "data": {
      "text/plain": [
       "array([0., 0., 0., 0., 0.])"
      ]
     },
     "execution_count": 116,
     "metadata": {},
     "output_type": "execute_result"
    }
   ],
   "source": [
    "y = np.zeros(5)\n",
    "y"
   ]
  },
  {
   "cell_type": "code",
   "execution_count": 117,
   "id": "fd4f2646-6067-4ae1-84f6-cdf016b93bc6",
   "metadata": {
    "tags": []
   },
   "outputs": [
    {
     "data": {
      "text/plain": [
       "array([[1., 1., 1., 1., 1.],\n",
       "       [1., 1., 1., 1., 1.],\n",
       "       [1., 1., 1., 1., 1.],\n",
       "       [1., 1., 1., 1., 1.],\n",
       "       [1., 1., 1., 1., 1.],\n",
       "       [0., 0., 0., 0., 0.]])"
      ]
     },
     "execution_count": 117,
     "metadata": {},
     "output_type": "execute_result"
    }
   ],
   "source": [
    "w = np.vstack((z, y))\n",
    "w"
   ]
  },
  {
   "cell_type": "code",
   "execution_count": 118,
   "id": "80e5d859-d64d-41eb-9247-7e93877ef169",
   "metadata": {
    "tags": []
   },
   "outputs": [
    {
     "data": {
      "text/plain": [
       "[array([[1., 1.],\n",
       "        [1., 1.],\n",
       "        [1., 1.],\n",
       "        [1., 1.],\n",
       "        [1., 1.],\n",
       "        [0., 0.]]),\n",
       " array([[1., 1., 1.],\n",
       "        [1., 1., 1.],\n",
       "        [1., 1., 1.],\n",
       "        [1., 1., 1.],\n",
       "        [1., 1., 1.],\n",
       "        [0., 0., 0.]])]"
      ]
     },
     "execution_count": 118,
     "metadata": {},
     "output_type": "execute_result"
    }
   ],
   "source": [
    "np.hsplit(w, [2])"
   ]
  },
  {
   "cell_type": "code",
   "execution_count": 119,
   "id": "b689e1df-3b98-4426-bf22-bfc45334694f",
   "metadata": {
    "tags": []
   },
   "outputs": [
    {
     "data": {
      "text/plain": [
       "120"
      ]
     },
     "execution_count": 119,
     "metadata": {},
     "output_type": "execute_result"
    }
   ],
   "source": [
    "a = np.arange(16).reshape((4,4))\n",
    "a + 1\n",
    "a = np.vsplit(a, [2])\n",
    "\n",
    "#a = np.add.reduce(a)\n",
    "\n",
    "for i in range(np.ndim(a)):\n",
    "    a = np.add.reduce(a)\n",
    "    \n",
    "a"
   ]
  },
  {
   "cell_type": "code",
   "execution_count": 120,
   "id": "814f9107-c077-45d6-a895-ab5842d6dfe4",
   "metadata": {
    "tags": []
   },
   "outputs": [
    {
     "data": {
      "text/plain": [
       "0"
      ]
     },
     "execution_count": 120,
     "metadata": {},
     "output_type": "execute_result"
    }
   ],
   "source": [
    "np.ndim(a)"
   ]
  },
  {
   "cell_type": "code",
   "execution_count": 121,
   "id": "8aabb413-09f1-4320-b0a4-c8a8fa8248cf",
   "metadata": {},
   "outputs": [
    {
     "data": {
      "text/plain": [
       "array([1, 2, 3, 4, 5])"
      ]
     },
     "execution_count": 121,
     "metadata": {},
     "output_type": "execute_result"
    }
   ],
   "source": [
    "np.array([1,2,3,4,5])"
   ]
  },
  {
   "cell_type": "code",
   "execution_count": 122,
   "id": "085be53a",
   "metadata": {},
   "outputs": [
    {
     "data": {
      "text/plain": [
       "array([0.        , 0.16534698, 0.33069396, 0.49604095, 0.66138793,\n",
       "       0.82673491, 0.99208189, 1.15742887, 1.32277585, 1.48812284,\n",
       "       1.65346982, 1.8188168 , 1.98416378, 2.14951076, 2.31485774,\n",
       "       2.48020473, 2.64555171, 2.81089869, 2.97624567, 3.14159265])"
      ]
     },
     "execution_count": 122,
     "metadata": {},
     "output_type": "execute_result"
    }
   ],
   "source": [
    "np.linspace(0, np.pi, 20)"
   ]
  },
  {
   "cell_type": "code",
   "execution_count": 123,
   "id": "9a6fdfcf",
   "metadata": {},
   "outputs": [
    {
     "data": {
      "text/plain": [
       "array([[0.10640269, 0.00509324],\n",
       "       [0.33337549, 0.46653021]])"
      ]
     },
     "execution_count": 123,
     "metadata": {},
     "output_type": "execute_result"
    }
   ],
   "source": [
    "np.random.random((2,2))"
   ]
  },
  {
   "cell_type": "code",
   "execution_count": 124,
   "id": "5270c4fe",
   "metadata": {},
   "outputs": [
    {
     "data": {
      "text/plain": [
       "array([[-133.90194244,  225.15498467],\n",
       "       [-129.86469351,  -81.56633925]])"
      ]
     },
     "execution_count": 124,
     "metadata": {},
     "output_type": "execute_result"
    }
   ],
   "source": [
    "np.random.normal(0, 100, size=(2,2))"
   ]
  },
  {
   "cell_type": "code",
   "execution_count": 125,
   "id": "692bf1f5",
   "metadata": {},
   "outputs": [
    {
     "data": {
      "text/plain": [
       "array([[ True, False, False],\n",
       "       [False,  True, False],\n",
       "       [False, False,  True]])"
      ]
     },
     "execution_count": 125,
     "metadata": {},
     "output_type": "execute_result"
    }
   ],
   "source": [
    "np.eye(3, dtype=bool)"
   ]
  },
  {
   "cell_type": "code",
   "execution_count": 126,
   "id": "4f66828b",
   "metadata": {},
   "outputs": [
    {
     "data": {
      "text/plain": [
       "array([[[[8, 2, 0],\n",
       "         [0, 4, 4],\n",
       "         [1, 9, 5]],\n",
       "\n",
       "        [[7, 8, 1],\n",
       "         [2, 3, 7],\n",
       "         [2, 4, 7]],\n",
       "\n",
       "        [[2, 6, 7],\n",
       "         [9, 1, 6],\n",
       "         [3, 6, 0]]],\n",
       "\n",
       "\n",
       "       [[[0, 8, 8],\n",
       "         [9, 8, 2],\n",
       "         [4, 7, 8]],\n",
       "\n",
       "        [[9, 1, 5],\n",
       "         [6, 8, 9],\n",
       "         [3, 2, 6]],\n",
       "\n",
       "        [[4, 4, 1],\n",
       "         [9, 2, 8],\n",
       "         [3, 6, 8]]],\n",
       "\n",
       "\n",
       "       [[[4, 4, 7],\n",
       "         [6, 6, 0],\n",
       "         [6, 5, 5]],\n",
       "\n",
       "        [[5, 5, 3],\n",
       "         [0, 8, 1],\n",
       "         [2, 6, 0]],\n",
       "\n",
       "        [[7, 2, 7],\n",
       "         [0, 0, 2],\n",
       "         [6, 9, 1]]]])"
      ]
     },
     "execution_count": 126,
     "metadata": {},
     "output_type": "execute_result"
    }
   ],
   "source": [
    "x1 = np.random.randint(10, size=(3,3,3,3))\n",
    "x1"
   ]
  },
  {
   "cell_type": "code",
   "execution_count": 127,
   "id": "69d5be76",
   "metadata": {},
   "outputs": [
    {
     "data": {
      "text/plain": [
       "0"
      ]
     },
     "execution_count": 127,
     "metadata": {},
     "output_type": "execute_result"
    }
   ],
   "source": [
    "x1[0,0,1,0]"
   ]
  },
  {
   "cell_type": "code",
   "execution_count": 128,
   "id": "9823a568",
   "metadata": {},
   "outputs": [
    {
     "data": {
      "text/plain": [
       "9"
      ]
     },
     "execution_count": 128,
     "metadata": {},
     "output_type": "execute_result"
    }
   ],
   "source": [
    "x1[1,1,0,0]"
   ]
  },
  {
   "cell_type": "code",
   "execution_count": 129,
   "id": "e02f9e80",
   "metadata": {},
   "outputs": [
    {
     "data": {
      "text/plain": [
       "array([[0],\n",
       "       [9],\n",
       "       [4]])"
      ]
     },
     "execution_count": 129,
     "metadata": {},
     "output_type": "execute_result"
    }
   ],
   "source": [
    "x1[1,0,:,:1]"
   ]
  },
  {
   "cell_type": "code",
   "execution_count": 130,
   "id": "1147029e",
   "metadata": {},
   "outputs": [],
   "source": [
    "L = np.arange(10)"
   ]
  },
  {
   "cell_type": "code",
   "execution_count": 131,
   "id": "585a3c14",
   "metadata": {},
   "outputs": [
    {
     "data": {
      "text/plain": [
       "numpy.ndarray"
      ]
     },
     "execution_count": 131,
     "metadata": {},
     "output_type": "execute_result"
    }
   ],
   "source": [
    "type(L)"
   ]
  },
  {
   "cell_type": "code",
   "execution_count": 132,
   "id": "f6652e1f",
   "metadata": {},
   "outputs": [
    {
     "name": "stdout",
     "output_type": "stream",
     "text": [
      "(3, 3, 3)\n",
      "3\n",
      "216\n"
     ]
    }
   ],
   "source": [
    "x1 = np.random.randint(10, size=(3,3,3))\n",
    "\n",
    "# these seem really important as they quickly tell you info about the array\n",
    "print(x1.shape) # shape of entire array.\n",
    "print(x1.ndim) # number of dimentions. almost as useful as shape.\n",
    "print(x1.itemsize*x1.size) # total bytes in array = size*itemsize\n",
    "\n"
   ]
  },
  {
   "cell_type": "code",
   "execution_count": 133,
   "id": "266ee193",
   "metadata": {},
   "outputs": [],
   "source": [
    "\n",
    "import pandas as pd"
   ]
  },
  {
   "cell_type": "code",
   "execution_count": 134,
   "id": "227bf9be",
   "metadata": {},
   "outputs": [],
   "source": [
    "data = [[1, 100], [2, 200], [3, 300]]\n",
    "employee = pd.DataFrame(data, columns=['Id', 'Salary']).astype({'Id':'Int64', 'Salary':'Int64'})"
   ]
  },
  {
   "cell_type": "code",
   "execution_count": 135,
   "id": "a6e2a6a6",
   "metadata": {},
   "outputs": [],
   "source": [
    "def nth_highest_salary(employee: pd.DataFrame, N: int) -> pd.DataFrame:\n",
    "    employee = employee.sort_values('Salary', ascending=False)\n",
    "    N += 1\n",
    "    return employee.iloc[N, :2]"
   ]
  },
  {
   "cell_type": "code",
   "execution_count": 136,
   "id": "9de6edb0",
   "metadata": {},
   "outputs": [
    {
     "data": {
      "text/plain": [
       "100"
      ]
     },
     "execution_count": 136,
     "metadata": {},
     "output_type": "execute_result"
    }
   ],
   "source": [
    "employee = employee.sort_values('Salary', ascending=False)\n",
    "employee.iloc[2, 1]"
   ]
  },
  {
   "cell_type": "code",
   "execution_count": 137,
   "id": "d6e06107",
   "metadata": {},
   "outputs": [
    {
     "data": {
      "text/plain": [
       "array([[[8, 2, 0],\n",
       "        [8, 6, 3],\n",
       "        [3, 8, 0]],\n",
       "\n",
       "       [[5, 6, 2],\n",
       "        [7, 3, 1],\n",
       "        [3, 7, 8]],\n",
       "\n",
       "       [[3, 4, 4],\n",
       "        [9, 0, 1],\n",
       "        [6, 2, 6]]])"
      ]
     },
     "execution_count": 137,
     "metadata": {},
     "output_type": "execute_result"
    }
   ],
   "source": [
    "x1"
   ]
  },
  {
   "cell_type": "code",
   "execution_count": 138,
   "metadata": {},
   "outputs": [
    {
     "data": {
      "text/plain": [
       "216"
      ]
     },
     "execution_count": 138,
     "metadata": {},
     "output_type": "execute_result"
    }
   ],
   "source": [
    "x1[1,0,0:2]\n",
    "x1.size*x1.itemsize"
   ]
  },
  {
   "cell_type": "code",
   "execution_count": 139,
   "metadata": {},
   "outputs": [],
   "source": [
    "x1 = x1.astype('int8')"
   ]
  },
  {
   "cell_type": "code",
   "execution_count": 140,
   "metadata": {},
   "outputs": [
    {
     "data": {
      "text/plain": [
       "27"
      ]
     },
     "execution_count": 140,
     "metadata": {},
     "output_type": "execute_result"
    }
   ],
   "source": [
    "x1.size*x1.itemsize"
   ]
  },
  {
   "cell_type": "code",
   "execution_count": 143,
   "metadata": {},
   "outputs": [
    {
     "data": {
      "text/html": [
       "<div>\n",
       "<style scoped>\n",
       "    .dataframe tbody tr th:only-of-type {\n",
       "        vertical-align: middle;\n",
       "    }\n",
       "\n",
       "    .dataframe tbody tr th {\n",
       "        vertical-align: top;\n",
       "    }\n",
       "\n",
       "    .dataframe thead th {\n",
       "        text-align: right;\n",
       "    }\n",
       "</style>\n",
       "<table border=\"1\" class=\"dataframe\">\n",
       "  <thead>\n",
       "    <tr style=\"text-align: right;\">\n",
       "      <th></th>\n",
       "      <th>0</th>\n",
       "      <th>1</th>\n",
       "      <th>2</th>\n",
       "    </tr>\n",
       "  </thead>\n",
       "  <tbody>\n",
       "    <tr>\n",
       "      <th>0</th>\n",
       "      <td>8</td>\n",
       "      <td>2</td>\n",
       "      <td>0</td>\n",
       "    </tr>\n",
       "    <tr>\n",
       "      <th>1</th>\n",
       "      <td>8</td>\n",
       "      <td>6</td>\n",
       "      <td>3</td>\n",
       "    </tr>\n",
       "    <tr>\n",
       "      <th>2</th>\n",
       "      <td>3</td>\n",
       "      <td>8</td>\n",
       "      <td>0</td>\n",
       "    </tr>\n",
       "  </tbody>\n",
       "</table>\n",
       "</div>"
      ],
      "text/plain": [
       "   0  1  2\n",
       "0  8  2  0\n",
       "1  8  6  3\n",
       "2  3  8  0"
      ]
     },
     "execution_count": 143,
     "metadata": {},
     "output_type": "execute_result"
    }
   ],
   "source": [
    "df = pd.DataFrame(x1[0])\n",
    "df"
   ]
  },
  {
   "cell_type": "code",
   "execution_count": null,
   "metadata": {},
   "outputs": [],
   "source": []
  }
 ],
 "metadata": {
  "kernelspec": {
   "display_name": "Python 3 (ipykernel)",
   "language": "python",
   "name": "python3"
  },
  "language_info": {
   "codemirror_mode": {
    "name": "ipython",
    "version": 3
   },
   "file_extension": ".py",
   "mimetype": "text/x-python",
   "name": "python",
   "nbconvert_exporter": "python",
   "pygments_lexer": "ipython3",
   "version": "3.11.5"
  }
 },
 "nbformat": 4,
 "nbformat_minor": 5
}
