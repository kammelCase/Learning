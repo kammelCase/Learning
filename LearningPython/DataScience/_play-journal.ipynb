{
 "cells": [
  {
   "cell_type": "code",
   "execution_count": 12,
   "id": "3e9de7f4-100e-48fe-b22e-949d589f28e6",
   "metadata": {
    "tags": []
   },
   "outputs": [],
   "source": [
    "# using this journal to code whatever comes to mind\n",
    "# primary focus is to get muscle/mind memory working better\n",
    "\n",
    "import numpy as np\n",
    "\n",
    "x3 = [[10, 10, 10],\n",
    "      [10, 10, 10]]"
   ]
  },
  {
   "cell_type": "code",
   "execution_count": 13,
   "id": "cf999117-f462-42b9-b7b5-d018cb829c38",
   "metadata": {
    "tags": []
   },
   "outputs": [
    {
     "data": {
      "text/plain": [
       "10"
      ]
     },
     "execution_count": 13,
     "metadata": {},
     "output_type": "execute_result"
    }
   ],
   "source": [
    "x3[0][0]"
   ]
  },
  {
   "cell_type": "code",
   "execution_count": 15,
   "id": "491f477e-1c0a-4fa2-9cea-b28f5db9f74e",
   "metadata": {
    "tags": []
   },
   "outputs": [],
   "source": [
    "x2 = np.random.randint(10, size=[2,2,3])"
   ]
  },
  {
   "cell_type": "code",
   "execution_count": 16,
   "id": "579e8709-62cb-4acb-9bf8-32c63ca183cd",
   "metadata": {
    "tags": []
   },
   "outputs": [
    {
     "data": {
      "text/plain": [
       "array([[[0, 5, 1],\n",
       "        [2, 1, 9]],\n",
       "\n",
       "       [[6, 1, 6],\n",
       "        [1, 6, 7]]])"
      ]
     },
     "execution_count": 16,
     "metadata": {},
     "output_type": "execute_result"
    }
   ],
   "source": [
    "x2"
   ]
  },
  {
   "cell_type": "code",
   "execution_count": 17,
   "id": "ee914409-e571-4a8b-aaec-1644c95c0344",
   "metadata": {
    "tags": []
   },
   "outputs": [],
   "source": [
    "x2 = np.random.randint(10, size=(2,2))"
   ]
  },
  {
   "cell_type": "code",
   "execution_count": 18,
   "id": "7edd5bd2-9b05-4177-889c-3bf57339de82",
   "metadata": {
    "tags": []
   },
   "outputs": [
    {
     "data": {
      "text/plain": [
       "array([[2, 6],\n",
       "       [4, 1]])"
      ]
     },
     "execution_count": 18,
     "metadata": {},
     "output_type": "execute_result"
    }
   ],
   "source": [
    "x2"
   ]
  },
  {
   "cell_type": "code",
   "execution_count": null,
   "id": "6385b2e0-18e5-44f1-8097-6e2942ee2a9a",
   "metadata": {},
   "outputs": [],
   "source": []
  }
 ],
 "metadata": {
  "kernelspec": {
   "display_name": "Python 3 (ipykernel)",
   "language": "python",
   "name": "python3"
  },
  "language_info": {
   "codemirror_mode": {
    "name": "ipython",
    "version": 3
   },
   "file_extension": ".py",
   "mimetype": "text/x-python",
   "name": "python",
   "nbconvert_exporter": "python",
   "pygments_lexer": "ipython3",
   "version": "3.11.5"
  }
 },
 "nbformat": 4,
 "nbformat_minor": 5
}
