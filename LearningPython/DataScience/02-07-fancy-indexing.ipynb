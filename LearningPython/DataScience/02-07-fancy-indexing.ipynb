{
 "cells": [
  {
   "cell_type": "code",
   "execution_count": null,
   "id": "a38b4681",
   "metadata": {},
   "outputs": [],
   "source": [
    "# Up until now, I've learned three ways to access and modify arrays\n",
    "#    - simple indices (ex: arr[0])\n",
    "#    - slicing (ex: arr[:5])\n",
    "#    - boolean masks (ex: arr[arr > 5])\n",
    "\n",
    "# And now, introducing Fancy Indexiingggggg"
   ]
  },
  {
   "cell_type": "code",
   "execution_count": 33,
   "id": "f75f78cf",
   "metadata": {},
   "outputs": [
    {
     "name": "stdout",
     "output_type": "stream",
     "text": [
      "[51 92 14 71 60 20 82 86 74 74]\n"
     ]
    }
   ],
   "source": [
    "import numpy as np\n",
    "\n",
    "rand = np.random.RandomState(42)\n",
    "\n",
    "x = rand.randint(100, size=10)\n",
    "print(x)"
   ]
  },
  {
   "cell_type": "code",
   "execution_count": 34,
   "id": "e2336e57",
   "metadata": {},
   "outputs": [
    {
     "data": {
      "text/plain": [
       "[71, 20, 74]"
      ]
     },
     "execution_count": 34,
     "metadata": {},
     "output_type": "execute_result"
    }
   ],
   "source": [
    "# suppose we want to access 3 values that aren't adjacent\n",
    "\n",
    "[x[3], x[5], x[9]]"
   ]
  },
  {
   "cell_type": "code",
   "execution_count": 35,
   "id": "950575db",
   "metadata": {},
   "outputs": [
    {
     "data": {
      "text/plain": [
       "array([71, 20, 74])"
      ]
     },
     "execution_count": 35,
     "metadata": {},
     "output_type": "execute_result"
    }
   ],
   "source": [
    "# we can also create a list of indices we want to access\n",
    "\n",
    "ind = [3, 5, 9]\n",
    "\n",
    "x[ind]"
   ]
  },
  {
   "cell_type": "code",
   "execution_count": 36,
   "id": "ac37b011",
   "metadata": {},
   "outputs": [
    {
     "data": {
      "text/plain": [
       "array([[71, 20],\n",
       "       [14, 92]])"
      ]
     },
     "execution_count": 36,
     "metadata": {},
     "output_type": "execute_result"
    }
   ],
   "source": [
    "# fancy indexing molds the valus to the shape of the array holding the indices\n",
    "\n",
    "ind = np.array([[3,5],\n",
    "               [2,1]])\n",
    "\n",
    "x[ind]"
   ]
  },
  {
   "cell_type": "code",
   "execution_count": 37,
   "id": "129333fb",
   "metadata": {},
   "outputs": [
    {
     "data": {
      "text/plain": [
       "array([[ 0,  1,  2,  3],\n",
       "       [ 4,  5,  6,  7],\n",
       "       [ 8,  9, 10, 11]])"
      ]
     },
     "execution_count": 37,
     "metadata": {},
     "output_type": "execute_result"
    }
   ],
   "source": [
    "X = np.arange(12).reshape((3,4))\n",
    "X"
   ]
  },
  {
   "cell_type": "code",
   "execution_count": 38,
   "id": "611e299d",
   "metadata": {},
   "outputs": [
    {
     "data": {
      "text/plain": [
       "array([ 2,  5, 11])"
      ]
     },
     "execution_count": 38,
     "metadata": {},
     "output_type": "execute_result"
    }
   ],
   "source": [
    "# this one took me a hot second to understand\n",
    "# we can combine arrays within indices, with each individual\n",
    "# array representing the selections for just one dimention\n",
    "\n",
    "row = np.array([0, 1, 2])\n",
    "col = np.array([2, 1, 3])\n",
    "X[row, col]"
   ]
  },
  {
   "cell_type": "code",
   "execution_count": 39,
   "id": "209b12d0",
   "metadata": {},
   "outputs": [],
   "source": [
    "#X selects 3 different values from the X array: [(0,2), (1,1), (2,3)]"
   ]
  },
  {
   "cell_type": "code",
   "execution_count": 41,
   "id": "0148bd36",
   "metadata": {},
   "outputs": [
    {
     "data": {
      "text/plain": [
       "array([[ 2,  6, 10],\n",
       "       [ 1,  5,  9],\n",
       "       [ 3,  7, 11]])"
      ]
     },
     "execution_count": 41,
     "metadata": {},
     "output_type": "execute_result"
    }
   ],
   "source": [
    "# this also follows the rules of broadcasting, so if we combine a single row + columns, we get a 2d array\n",
    "\n",
    "col = col.reshape((3,1))\n",
    "X[row, col]\n"
   ]
  },
  {
   "cell_type": "code",
   "execution_count": 43,
   "id": "ed7f2998",
   "metadata": {},
   "outputs": [
    {
     "name": "stdout",
     "output_type": "stream",
     "text": [
      "[[ 0  1  2  3]\n",
      " [ 4  5  6  7]\n",
      " [ 8  9 10 11]]\n"
     ]
    }
   ],
   "source": [
    "# we can combine fancy indexing with other indexing methods too!\n",
    "\n",
    "print(X)"
   ]
  },
  {
   "cell_type": "code",
   "execution_count": 44,
   "id": "46ba3f81",
   "metadata": {},
   "outputs": [
    {
     "data": {
      "text/plain": [
       "array([ 8,  9, 10])"
      ]
     },
     "execution_count": 44,
     "metadata": {},
     "output_type": "execute_result"
    }
   ],
   "source": [
    "# fancy + simple\n",
    "\n",
    "X[2, [0, 1, 2]]"
   ]
  },
  {
   "cell_type": "code",
   "execution_count": 49,
   "id": "d15583a3",
   "metadata": {},
   "outputs": [
    {
     "data": {
      "text/plain": [
       "array([[0, 1, 2],\n",
       "       [4, 5, 6]])"
      ]
     },
     "execution_count": 49,
     "metadata": {},
     "output_type": "execute_result"
    }
   ],
   "source": [
    "# fancy + slice\n",
    "X[:2, [0,1,2]]"
   ]
  },
  {
   "cell_type": "code",
   "execution_count": 67,
   "id": "94948d27",
   "metadata": {},
   "outputs": [
    {
     "data": {
      "text/plain": [
       "array([[ 0,  2],\n",
       "       [ 4,  6],\n",
       "       [ 8, 10]])"
      ]
     },
     "execution_count": 67,
     "metadata": {},
     "output_type": "execute_result"
    }
   ],
   "source": [
    "# fancy + masking\n",
    "\n",
    "mask = np.array([1,0,1,0], dtype=bool)\n",
    "\n",
    "X[row[:, np.newaxis], mask]"
   ]
  },
  {
   "cell_type": "code",
   "execution_count": 107,
   "id": "6d83492a",
   "metadata": {},
   "outputs": [
    {
     "data": {
      "text/plain": [
       "array([[[0, 2]],\n",
       "\n",
       "       [[0, 2]],\n",
       "\n",
       "       [[0, 2]]])"
      ]
     },
     "execution_count": 107,
     "metadata": {},
     "output_type": "execute_result"
    }
   ],
   "source": [
    "row = np.zeros((3,1), dtype=int)\n",
    "X[(row[:, np.newaxis]), mask]"
   ]
  },
  {
   "cell_type": "code",
   "execution_count": 108,
   "id": "42be100c",
   "metadata": {},
   "outputs": [
    {
     "name": "stdout",
     "output_type": "stream",
     "text": [
      "[[0]\n",
      " [0]\n",
      " [0]]\n",
      "[ True False  True False]\n"
     ]
    }
   ],
   "source": [
    "print(row)\n",
    "print(mask)"
   ]
  },
  {
   "cell_type": "code",
   "execution_count": 109,
   "id": "5720b10b",
   "metadata": {},
   "outputs": [
    {
     "data": {
      "text/plain": [
       "array([ 0,  2,  4,  6,  8, 10])"
      ]
     },
     "execution_count": 109,
     "metadata": {},
     "output_type": "execute_result"
    }
   ],
   "source": [
    "sum = row+mask\n",
    "sum = np.array(sum, dtype=bool)\n",
    "X[sum]"
   ]
  },
  {
   "cell_type": "code",
   "execution_count": null,
   "id": "c54788b8",
   "metadata": {},
   "outputs": [],
   "source": []
  }
 ],
 "metadata": {
  "kernelspec": {
   "display_name": "Python 3 (ipykernel)",
   "language": "python",
   "name": "python3"
  },
  "language_info": {
   "codemirror_mode": {
    "name": "ipython",
    "version": 3
   },
   "file_extension": ".py",
   "mimetype": "text/x-python",
   "name": "python",
   "nbconvert_exporter": "python",
   "pygments_lexer": "ipython3",
   "version": "3.11.5"
  }
 },
 "nbformat": 4,
 "nbformat_minor": 5
}
