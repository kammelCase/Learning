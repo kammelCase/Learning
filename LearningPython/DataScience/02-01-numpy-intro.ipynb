{
 "cells": [
  {
   "cell_type": "code",
   "execution_count": 3,
   "id": "635fc0e6-c595-4e98-bb77-2f71de4e4fbb",
   "metadata": {
    "tags": []
   },
   "outputs": [
    {
     "data": {
      "text/plain": [
       "'1.24.3'"
      ]
     },
     "execution_count": 3,
     "metadata": {},
     "output_type": "execute_result"
    }
   ],
   "source": [
    "# numpy is all about creating an efficient interfact to store and operate on data\n",
    "# especially big data!\n",
    "\n",
    "import numpy as np\n",
    "numpy.__version__"
   ]
  },
  {
   "cell_type": "code",
   "execution_count": 10,
   "id": "a5fb0ae1-a766-4c89-9efd-3078f107f936",
   "metadata": {
    "tags": []
   },
   "outputs": [
    {
     "data": {
      "text/plain": [
       "[0, 1, 2, 3, 4, 5, 6, 7, 8, 9]"
      ]
     },
     "execution_count": 10,
     "metadata": {},
     "output_type": "execute_result"
    }
   ],
   "source": [
    "# prelude to np, exploring python arrays and types\n",
    "\n",
    "L = list(range(10))\n",
    "L"
   ]
  },
  {
   "cell_type": "code",
   "execution_count": 18,
   "id": "6968bf4e-9a79-4c12-97bf-83f282166efe",
   "metadata": {
    "tags": []
   },
   "outputs": [
    {
     "data": {
      "text/plain": [
       "list"
      ]
     },
     "execution_count": 18,
     "metadata": {},
     "output_type": "execute_result"
    }
   ],
   "source": [
    "#L points to a list\n",
    "\n",
    "type(L)"
   ]
  },
  {
   "cell_type": "code",
   "execution_count": 19,
   "id": "80ab7674-20da-442d-b81b-25515d920850",
   "metadata": {
    "tags": []
   },
   "outputs": [
    {
     "data": {
      "text/plain": [
       "int"
      ]
     },
     "execution_count": 19,
     "metadata": {},
     "output_type": "execute_result"
    }
   ],
   "source": [
    "# but index 0 of L points to an int\n",
    "\n",
    "type(L[0])"
   ]
  },
  {
   "cell_type": "code",
   "execution_count": 20,
   "id": "9df9c94e-10c4-4873-9803-2c525355d7cb",
   "metadata": {
    "tags": []
   },
   "outputs": [],
   "source": [
    "# instead: string\n",
    "\n",
    "L2 = [str(c) for c in L]"
   ]
  },
  {
   "cell_type": "code",
   "execution_count": 21,
   "id": "b8a14c7c-cead-4d6f-90ff-eb63bbdbdf70",
   "metadata": {
    "tags": []
   },
   "outputs": [
    {
     "data": {
      "text/plain": [
       "list"
      ]
     },
     "execution_count": 21,
     "metadata": {},
     "output_type": "execute_result"
    }
   ],
   "source": [
    "# still a list\n",
    "\n",
    "type(L2)"
   ]
  },
  {
   "cell_type": "code",
   "execution_count": 24,
   "id": "3715f339-2889-4b99-8db7-09d446cdaae6",
   "metadata": {
    "tags": []
   },
   "outputs": [
    {
     "data": {
      "text/plain": [
       "str"
      ]
     },
     "execution_count": 24,
     "metadata": {},
     "output_type": "execute_result"
    }
   ],
   "source": [
    "# but now, each entry is a string\n",
    "\n",
    "type(L2[0])"
   ]
  },
  {
   "cell_type": "code",
   "execution_count": 29,
   "id": "6ca980e7-ca31-4ca5-9900-14141b5c5aa5",
   "metadata": {
    "tags": []
   },
   "outputs": [
    {
     "data": {
      "text/plain": [
       "array([0, 1, 2, 4, 3])"
      ]
     },
     "execution_count": 29,
     "metadata": {},
     "output_type": "execute_result"
    }
   ],
   "source": [
    "# starting to create np arrays\n",
    "\n",
    "np.array([0, 1, 2, 4, 3])"
   ]
  },
  {
   "cell_type": "code",
   "execution_count": 31,
   "id": "6499e4ad-9f62-476f-b87b-2d3585daf15f",
   "metadata": {
    "tags": []
   },
   "outputs": [
    {
     "data": {
      "text/plain": [
       "array([0., 1., 2.], dtype=float32)"
      ]
     },
     "execution_count": 31,
     "metadata": {},
     "output_type": "execute_result"
    }
   ],
   "source": [
    "# can also specify the type of data in the array\n",
    "\n",
    "np.array([0, 1, 2], dtype='float32')"
   ]
  },
  {
   "cell_type": "code",
   "execution_count": 42,
   "id": "d18c84dc-8712-4018-a375-dd39c2e751f1",
   "metadata": {
    "tags": []
   },
   "outputs": [
    {
     "data": {
      "text/plain": [
       "array(['hi', 'its me', 'mark'], dtype='<U6')"
      ]
     },
     "execution_count": 42,
     "metadata": {},
     "output_type": "execute_result"
    }
   ],
   "source": [
    "# trying with strings\n",
    "\n",
    "np.array(['hi', 'its me', 'mark'], dtype='str')"
   ]
  },
  {
   "cell_type": "code",
   "execution_count": 43,
   "id": "c9a85b91-d926-426b-8f28-6ac35c5f1eb5",
   "metadata": {
    "tags": []
   },
   "outputs": [
    {
     "data": {
      "text/plain": [
       "array([0, 0, 0, 0, 0, 0, 0, 0, 0, 0])"
      ]
     },
     "execution_count": 43,
     "metadata": {},
     "output_type": "execute_result"
    }
   ],
   "source": [
    "# using zeros method to create arrays from scratch\n",
    "\n",
    "np.zeros(10, dtype=int)"
   ]
  },
  {
   "cell_type": "code",
   "execution_count": 44,
   "id": "76743a16-978c-48f1-b851-5c6f0f80ab0c",
   "metadata": {
    "tags": []
   },
   "outputs": [
    {
     "data": {
      "text/plain": [
       "array([[1., 1., 1., 1.],\n",
       "       [1., 1., 1., 1.],\n",
       "       [1., 1., 1., 1.],\n",
       "       [1., 1., 1., 1.],\n",
       "       [1., 1., 1., 1.]])"
      ]
     },
     "execution_count": 44,
     "metadata": {},
     "output_type": "execute_result"
    }
   ],
   "source": [
    "# using ones, and specifying to make it a 3x5 array\n",
    "\n",
    "np.ones((5,4), dtype=float)"
   ]
  },
  {
   "cell_type": "code",
   "execution_count": 45,
   "id": "f14a683b-6243-473c-8b0f-83c0fd4adc83",
   "metadata": {
    "tags": []
   },
   "outputs": [
    {
     "data": {
      "text/plain": [
       "array([[32, 32, 32],\n",
       "       [32, 32, 32]])"
      ]
     },
     "execution_count": 45,
     "metadata": {},
     "output_type": "execute_result"
    }
   ],
   "source": [
    "# using a custom float to do the same\n",
    "\n",
    "np.full((2,3), 32)"
   ]
  },
  {
   "cell_type": "code",
   "execution_count": 46,
   "id": "640d3c9e-f146-424f-bea0-8d50bb47a8d2",
   "metadata": {
    "tags": []
   },
   "outputs": [
    {
     "data": {
      "text/plain": [
       "array([0, 2, 4, 6, 8])"
      ]
     },
     "execution_count": 46,
     "metadata": {},
     "output_type": "execute_result"
    }
   ],
   "source": [
    "# arange method lets me choose starting point, end point, and step\n",
    "\n",
    "np.arange(0, 10, 2)"
   ]
  },
  {
   "cell_type": "code",
   "execution_count": 48,
   "id": "fbf7e4da-b376-4324-af15-901a9c98d23d",
   "metadata": {
    "tags": []
   },
   "outputs": [
    {
     "data": {
      "text/plain": [
       "array([ 20,  10,   0, -10])"
      ]
     },
     "execution_count": 48,
     "metadata": {},
     "output_type": "execute_result"
    }
   ],
   "source": [
    "np.arange(20, -20, -10)"
   ]
  },
  {
   "cell_type": "code",
   "execution_count": 52,
   "id": "d107330a-8858-42c6-bbf8-6c328a2e4b2e",
   "metadata": {
    "tags": []
   },
   "outputs": [
    {
     "data": {
      "text/plain": [
       "array([0.  , 0.25, 0.5 , 0.75, 1.  ])"
      ]
     },
     "execution_count": 52,
     "metadata": {},
     "output_type": "execute_result"
    }
   ],
   "source": [
    "# linspace() lets me specify the number of spaces between two given values\n",
    "\n",
    "np.linspace(0, 1, 5)"
   ]
  },
  {
   "cell_type": "code",
   "execution_count": 57,
   "id": "d04211b0-f3bf-48a0-a3a6-1a644e3abe7f",
   "metadata": {
    "tags": []
   },
   "outputs": [
    {
     "data": {
      "text/plain": [
       "array([[0.49164874, 0.29476398, 0.59891415],\n",
       "       [0.46648723, 0.52105099, 0.64323917],\n",
       "       [0.44444809, 0.90334528, 0.82657311],\n",
       "       [0.41576074, 0.45068173, 0.83352239]])"
      ]
     },
     "execution_count": 57,
     "metadata": {},
     "output_type": "execute_result"
    }
   ],
   "source": [
    "# creates a random 4x3 array, all with values between 0 and 1\n",
    "\n",
    "np.random.random((4, 3))"
   ]
  },
  {
   "cell_type": "code",
   "execution_count": 64,
   "id": "3ce0d733-6f77-447f-89b3-93c2231599c5",
   "metadata": {
    "tags": []
   },
   "outputs": [
    {
     "data": {
      "text/plain": [
       "array([[ -5.34830371,   2.68292004,   5.97076865,  -3.17479091],\n",
       "       [ -0.2763603 ,  -1.91709754,  -7.02945945,   9.5344036 ],\n",
       "       [ -1.5617243 ,  -1.91794141, -10.3169452 , -15.90383668]])"
      ]
     },
     "execution_count": 64,
     "metadata": {},
     "output_type": "execute_result"
    }
   ],
   "source": [
    "# creating a 3,4 array, with a mean of 0 and std dev of 10\n",
    "\n",
    "np.random.normal(0, 10, size=(3, 4))"
   ]
  },
  {
   "cell_type": "code",
   "execution_count": 59,
   "id": "6631da06-fad1-414e-b74b-c60d0673c315",
   "metadata": {
    "tags": []
   },
   "outputs": [
    {
     "data": {
      "text/plain": [
       "array([[1., 0., 0., 0., 0.],\n",
       "       [0., 1., 0., 0., 0.],\n",
       "       [0., 0., 1., 0., 0.],\n",
       "       [0., 0., 0., 1., 0.],\n",
       "       [0., 0., 0., 0., 1.]])"
      ]
     },
     "execution_count": 59,
     "metadata": {},
     "output_type": "execute_result"
    }
   ],
   "source": [
    "# identity matrix, i personally would have named this imat() by thats just me\n",
    "\n",
    "np.eye(5)"
   ]
  },
  {
   "cell_type": "code",
   "execution_count": 71,
   "id": "f2f35500-8287-4f11-9d8d-a71a28dbd78d",
   "metadata": {
    "tags": []
   },
   "outputs": [
    {
     "data": {
      "text/plain": [
       "array([[False, False, False],\n",
       "       [False, False, False],\n",
       "       [False, False, False]])"
      ]
     },
     "execution_count": 71,
     "metadata": {},
     "output_type": "execute_result"
    }
   ],
   "source": [
    "# playing around with different dtypes\n",
    "\n",
    "np.zeros((3, 3), dtype=bool)"
   ]
  },
  {
   "cell_type": "code",
   "execution_count": 73,
   "id": "d7bc4bba-c832-483d-ae4e-61acb9280f69",
   "metadata": {
    "tags": []
   },
   "outputs": [
    {
     "data": {
      "text/plain": [
       "array([[ True,  True,  True],\n",
       "       [ True,  True,  True],\n",
       "       [ True,  True,  True]])"
      ]
     },
     "execution_count": 73,
     "metadata": {},
     "output_type": "execute_result"
    }
   ],
   "source": [
    "np.ones((3, 3), dtype=bool)"
   ]
  },
  {
   "cell_type": "code",
   "execution_count": 74,
   "id": "dc9469c9-f70d-48a2-b173-eb67d250a8c6",
   "metadata": {
    "tags": []
   },
   "outputs": [
    {
     "data": {
      "text/plain": [
       "array([[ True,  True,  True],\n",
       "       [ True,  True,  True],\n",
       "       [ True,  True,  True]])"
      ]
     },
     "execution_count": 74,
     "metadata": {},
     "output_type": "execute_result"
    }
   ],
   "source": [
    "np.full((3, 3), 3, dtype=bool)"
   ]
  }
 ],
 "metadata": {
  "kernelspec": {
   "display_name": "Python 3 (ipykernel)",
   "language": "python",
   "name": "python3"
  },
  "language_info": {
   "codemirror_mode": {
    "name": "ipython",
    "version": 3
   },
   "file_extension": ".py",
   "mimetype": "text/x-python",
   "name": "python",
   "nbconvert_exporter": "python",
   "pygments_lexer": "ipython3",
   "version": "3.11.5"
  }
 },
 "nbformat": 4,
 "nbformat_minor": 5
}
