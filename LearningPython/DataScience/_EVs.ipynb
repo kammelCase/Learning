{
 "cells": [
  {
   "cell_type": "code",
   "execution_count": 92,
   "id": "5230791c",
   "metadata": {},
   "outputs": [],
   "source": [
    "import numpy as np\n",
    "import pandas as pd"
   ]
  },
  {
   "cell_type": "code",
   "execution_count": 93,
   "id": "ba381ef0",
   "metadata": {},
   "outputs": [
    {
     "data": {
      "text/plain": [
       "(153830, 17)"
      ]
     },
     "execution_count": 93,
     "metadata": {},
     "output_type": "execute_result"
    }
   ],
   "source": [
    "EV = pd.read_csv('data/Electric_Vehicle_Population_Data.csv')\n",
    "EV.shape"
   ]
  },
  {
   "cell_type": "code",
   "execution_count": 60,
   "id": "2903100b",
   "metadata": {},
   "outputs": [
    {
     "data": {
      "text/html": [
       "<div>\n",
       "<style scoped>\n",
       "    .dataframe tbody tr th:only-of-type {\n",
       "        vertical-align: middle;\n",
       "    }\n",
       "\n",
       "    .dataframe tbody tr th {\n",
       "        vertical-align: top;\n",
       "    }\n",
       "\n",
       "    .dataframe thead th {\n",
       "        text-align: right;\n",
       "    }\n",
       "</style>\n",
       "<table border=\"1\" class=\"dataframe\">\n",
       "  <thead>\n",
       "    <tr style=\"text-align: right;\">\n",
       "      <th></th>\n",
       "      <th>VIN (1-10)</th>\n",
       "      <th>County</th>\n",
       "      <th>City</th>\n",
       "      <th>State</th>\n",
       "      <th>Postal Code</th>\n",
       "      <th>Model Year</th>\n",
       "      <th>Make</th>\n",
       "      <th>Model</th>\n",
       "      <th>Electric Vehicle Type</th>\n",
       "      <th>Clean Alternative Fuel Vehicle (CAFV) Eligibility</th>\n",
       "      <th>Electric Range</th>\n",
       "      <th>Base MSRP</th>\n",
       "      <th>Legislative District</th>\n",
       "      <th>DOL Vehicle ID</th>\n",
       "      <th>Vehicle Location</th>\n",
       "      <th>Electric Utility</th>\n",
       "      <th>2020 Census Tract</th>\n",
       "    </tr>\n",
       "  </thead>\n",
       "  <tbody>\n",
       "  </tbody>\n",
       "</table>\n",
       "</div>"
      ],
      "text/plain": [
       "Empty DataFrame\n",
       "Columns: [VIN (1-10), County, City, State, Postal Code, Model Year, Make, Model, Electric Vehicle Type, Clean Alternative Fuel Vehicle (CAFV) Eligibility, Electric Range, Base MSRP, Legislative District, DOL Vehicle ID, Vehicle Location, Electric Utility, 2020 Census Tract]\n",
       "Index: []"
      ]
     },
     "execution_count": 60,
     "metadata": {},
     "output_type": "execute_result"
    }
   ],
   "source": [
    "# no dupes\n",
    "EV[EV.duplicated()]"
   ]
  },
  {
   "cell_type": "code",
   "execution_count": 61,
   "id": "1c111695",
   "metadata": {},
   "outputs": [
    {
     "name": "stdout",
     "output_type": "stream",
     "text": [
      "   VIN (1-10)  County        City State  Postal Code  Model Year    Make  \\\n",
      "0  5UXTA6C05P  Yakima      Yakima    WA      98903.0        2023     BMW   \n",
      "1  5YJRE11B48     NaN         NaN    BC          NaN        2008   TESLA   \n",
      "2  5YJSA1E24G    King     Seattle    WA      98103.0        2016   TESLA   \n",
      "3  1N4AZ1CP5J    King   Shoreline    WA      98177.0        2018  NISSAN   \n",
      "4  5YJ3E1EA6J  Island  Coupeville    WA      98239.0        2018   TESLA   \n",
      "\n",
      "      Model                   Electric Vehicle Type  \\\n",
      "0        X5  Plug-in Hybrid Electric Vehicle (PHEV)   \n",
      "1  ROADSTER          Battery Electric Vehicle (BEV)   \n",
      "2   MODEL S          Battery Electric Vehicle (BEV)   \n",
      "3      LEAF          Battery Electric Vehicle (BEV)   \n",
      "4   MODEL 3          Battery Electric Vehicle (BEV)   \n",
      "\n",
      "  Clean Alternative Fuel Vehicle (CAFV) Eligibility  Electric Range  \\\n",
      "0           Clean Alternative Fuel Vehicle Eligible              30   \n",
      "1           Clean Alternative Fuel Vehicle Eligible             220   \n",
      "2           Clean Alternative Fuel Vehicle Eligible             210   \n",
      "3           Clean Alternative Fuel Vehicle Eligible             151   \n",
      "4           Clean Alternative Fuel Vehicle Eligible             215   \n",
      "\n",
      "   Base MSRP  Legislative District  DOL Vehicle ID  \\\n",
      "0          0                  14.0       227153587   \n",
      "1      98950                   NaN       143609049   \n",
      "2          0                  43.0       187728201   \n",
      "3          0                  32.0       249867971   \n",
      "4          0                  10.0       223792649   \n",
      "\n",
      "                  Vehicle Location  \\\n",
      "0    POINT (-120.477805 46.553505)   \n",
      "1                              NaN   \n",
      "2     POINT (-122.34301 47.659185)   \n",
      "3     POINT (-122.382425 47.77279)   \n",
      "4  POINT (-122.6880708 48.2179983)   \n",
      "\n",
      "                               Electric Utility  2020 Census Tract  \n",
      "0                                    PACIFICORP       5.307700e+10  \n",
      "1                                           NaN                NaN  \n",
      "2  CITY OF SEATTLE - (WA)|CITY OF TACOMA - (WA)       5.303300e+10  \n",
      "3  CITY OF SEATTLE - (WA)|CITY OF TACOMA - (WA)       5.303302e+10  \n",
      "4                        PUGET SOUND ENERGY INC       5.302997e+10  \n"
     ]
    }
   ],
   "source": [
    "print(EV.head())"
   ]
  },
  {
   "cell_type": "code",
   "execution_count": 62,
   "id": "3ef67359",
   "metadata": {},
   "outputs": [
    {
     "data": {
      "text/plain": [
       "(153830, 7)"
      ]
     },
     "execution_count": 62,
     "metadata": {},
     "output_type": "execute_result"
    }
   ],
   "source": [
    "EV = EV.drop(['VIN (1-10)', 'County', 'City', 'State', 'Postal Code', 'Clean Alternative Fuel Vehicle (CAFV) Eligibility', \n",
    "              'Legislative District', 'DOL Vehicle ID', 'Electric Utility', '2020 Census Tract'], axis=1)\n",
    "EV.shape"
   ]
  },
  {
   "cell_type": "code",
   "execution_count": 63,
   "id": "95f0a054",
   "metadata": {},
   "outputs": [
    {
     "name": "stdout",
     "output_type": "stream",
     "text": [
      "Model Year               0\n",
      "Make                     0\n",
      "Model                    0\n",
      "Electric Vehicle Type    0\n",
      "Electric Range           0\n",
      "Base MSRP                0\n",
      "Vehicle Location         7\n",
      "dtype: int64\n"
     ]
    }
   ],
   "source": [
    "print(EV.isnull().sum())\n",
    "EV = EV.dropna()"
   ]
  },
  {
   "cell_type": "code",
   "execution_count": 64,
   "id": "7bd6d4a8",
   "metadata": {},
   "outputs": [],
   "source": [
    "EV_make = EV['Make']"
   ]
  },
  {
   "cell_type": "code",
   "execution_count": 65,
   "id": "d5dee1c1",
   "metadata": {},
   "outputs": [
    {
     "data": {
      "text/plain": [
       "<Axes: xlabel='Make'>"
      ]
     },
     "execution_count": 65,
     "metadata": {},
     "output_type": "execute_result"
    },
    {
     "data": {
      "image/png": "[encoded data removed]",
      "text/plain": [
       "<Figure size 1000x500 with 1 Axes>"
      ]
     },
     "metadata": {},
     "output_type": "display_data"
    }
   ],
   "source": [
    "import matplotlib.pyplot as plt\n",
    "import seaborn; seaborn.set()  # set plot styles\n",
    "import seaborn as sns \n",
    "\n",
    "EV_make.value_counts().nlargest(20).plot(kind='bar', figsize=(10,5))\n"
   ]
  },
  {
   "cell_type": "code",
   "execution_count": 83,
   "id": "d0b6b5aa",
   "metadata": {},
   "outputs": [
    {
     "data": {
      "text/plain": [
       "array([[2016, 'TESLA', 'MODEL S', ..., 210, 0,\n",
       "        'POINT (-122.34301 47.659185)'],\n",
       "       [2018, 'TESLA', 'MODEL 3', ..., 215, 0,\n",
       "        'POINT (-122.6880708 48.2179983)'],\n",
       "       [2018, 'TESLA', 'MODEL 3', ..., 215, 0,\n",
       "        'POINT (-122.1876761 47.820517)'],\n",
       "       ...,\n",
       "       [2022, 'TESLA', 'MODEL 3', ..., 0, 0,\n",
       "        'POINT (-122.30842 47.78416)'],\n",
       "       [2019, 'TESLA', 'MODEL 3', ..., 220, 0,\n",
       "        'POINT (-122.201905 47.61385)'],\n",
       "       [2017, 'TESLA', 'MODEL S', ..., 210, 0,\n",
       "        'POINT (-117.369705 47.62637)']], dtype=object)"
      ]
     },
     "execution_count": 83,
     "metadata": {},
     "output_type": "execute_result"
    }
   ],
   "source": [
    "EV_numpy = np.array(EV)\n",
    "EV_Tesla = EV_numpy[EV_numpy[:,1] == 'TESLA']\n",
    "EV_Tesla"
   ]
  },
  {
   "cell_type": "code",
   "execution_count": 90,
   "id": "83374590",
   "metadata": {},
   "outputs": [
    {
     "data": {
      "text/plain": [
       "<Axes: >"
      ]
     },
     "execution_count": 90,
     "metadata": {},
     "output_type": "execute_result"
    },
    {
     "data": {
      "image/png": "[encoded data removed]",
      "text/plain": [
       "<Figure size 640x480 with 1 Axes>"
      ]
     },
     "metadata": {},
     "output_type": "display_data"
    }
   ],
   "source": [
    "sns.boxplot(x=EV_Tesla[:,0])"
   ]
  },
  {
   "cell_type": "code",
   "execution_count": null,
   "id": "6343fbd9",
   "metadata": {},
   "outputs": [],
   "source": []
  }
 ],
 "metadata": {
  "kernelspec": {
   "display_name": "Python 3 (ipykernel)",
   "language": "python",
   "name": "python3"
  },
  "language_info": {
   "codemirror_mode": {
    "name": "ipython",
    "version": 3
   },
   "file_extension": ".py",
   "mimetype": "text/x-python",
   "name": "python",
   "nbconvert_exporter": "python",
   "pygments_lexer": "ipython3",
   "version": "3.11.5"
  }
 },
 "nbformat": 4,
 "nbformat_minor": 5
}
