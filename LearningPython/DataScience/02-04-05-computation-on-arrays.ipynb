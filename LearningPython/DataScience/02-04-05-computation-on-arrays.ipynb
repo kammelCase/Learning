{
 "cells": [
  {
   "cell_type": "code",
   "execution_count": 8,
   "id": "6f0bdde1-75da-4431-91c8-04e7c056d368",
   "metadata": {
    "tags": []
   },
   "outputs": [
    {
     "data": {
      "text/plain": [
       "array([[3, 4, 5],\n",
       "       [3, 4, 5],\n",
       "       [3, 4, 5]])"
      ]
     },
     "execution_count": 8,
     "metadata": {},
     "output_type": "execute_result"
    }
   ],
   "source": [
    "# broadcasting: a set of rules that govern what numpy functions will\n",
    "# do when dealing with arrays of different sizes\n",
    "\n",
    "import numpy as np\n",
    "\n",
    "a = np.array([0,1,2])\n",
    "b = np.array([3,3,3]).reshape((3,1))\n",
    "a + b"
   ]
  },
  {
   "cell_type": "code",
   "execution_count": 10,
   "id": "0469da29-89ad-45f1-ae55-4f81125a8552",
   "metadata": {
    "tags": []
   },
   "outputs": [
    {
     "data": {
      "text/plain": [
       "array([[1., 2., 3.],\n",
       "       [1., 2., 3.]])"
      ]
     },
     "execution_count": 10,
     "metadata": {},
     "output_type": "execute_result"
    }
   ],
   "source": [
    "# broadcasting makes perfect sense to me, but gets\n",
    "# tricker when we start mixing dimentions!\n",
    "\n",
    "# rule 1: add 1s to the array that is lacking in dimentions, left padded\n",
    "# rule 2: if the shape of the two arrays don't match in any dimention,\n",
    "#         stretch the 1s in either dimention to match the other dimention\n",
    "# rule 3: if it still doesn't match, return error.\n",
    "\n",
    "c = np.ones((2,3))\n",
    "d = np.arange(3)\n",
    "c+d\n",
    "\n",
    "# checking for match\n",
    "# (2,3)\n",
    "# (3)\n",
    "\n",
    "# rule1\n",
    "# (2,3)\n",
    "# (1,3)\n",
    "\n",
    "# rule2\n",
    "# (2,3)\n",
    "# (2,3)\n",
    "\n",
    "# works!"
   ]
  },
  {
   "cell_type": "code",
   "execution_count": 12,
   "id": "081004c4-b70e-4c77-a99f-f2cb6f88d310",
   "metadata": {
    "tags": []
   },
   "outputs": [
    {
     "name": "stdout",
     "output_type": "stream",
     "text": [
      "nope!\n"
     ]
    }
   ],
   "source": [
    "e = np.ones((3,2))\n",
    "f = np.arange(3)\n",
    "\n",
    "# (3,2)\n",
    "# (3)\n",
    "\n",
    "# rule1\n",
    "# (3,2)\n",
    "# (1,3)\n",
    "# can already see this won't match but lets continue\n",
    "\n",
    "# rule2\n",
    "# (3,2)\n",
    "# (3,3)\n",
    "# doesn't match\n",
    "\n",
    "try:\n",
    "    e+f\n",
    "except ValueError:\n",
    "    print(\"nope!\")\n",
    "    "
   ]
  },
  {
   "cell_type": "code",
   "execution_count": 21,
   "id": "0a3cbc30-e5b2-4a68-9633-9420a2a50724",
   "metadata": {
    "tags": []
   },
   "outputs": [
    {
     "data": {
      "text/plain": [
       "array([[0.46184847, 0.11537335, 0.68781331],\n",
       "       [0.72845999, 0.93927926, 0.06210122],\n",
       "       [0.49864443, 0.75080922, 0.0580643 ],\n",
       "       [0.22652047, 0.36159155, 0.62150542],\n",
       "       [0.87234583, 0.14684773, 0.17353025],\n",
       "       [0.99702965, 0.28016653, 0.78415536],\n",
       "       [0.24488728, 0.12098845, 0.98004135],\n",
       "       [0.30147721, 0.76443555, 0.60818298],\n",
       "       [0.15509769, 0.73661062, 0.13251532],\n",
       "       [0.83875613, 0.72372265, 0.9973361 ]])"
      ]
     },
     "execution_count": 21,
     "metadata": {},
     "output_type": "execute_result"
    }
   ],
   "source": [
    "# centering an array\n",
    "# building a random array below\n",
    "\n",
    "x = np.random.random((10,3))\n",
    "x"
   ]
  },
  {
   "cell_type": "code",
   "execution_count": 27,
   "id": "e4ec56e7-ecb8-44f4-a8cc-4b2f994aa176",
   "metadata": {
    "tags": []
   },
   "outputs": [
    {
     "data": {
      "text/plain": [
       "array([0.53250671, 0.49398249, 0.51052456])"
      ]
     },
     "execution_count": 27,
     "metadata": {},
     "output_type": "execute_result"
    }
   ],
   "source": [
    "# finding the mean, with axis=0 which should give a list of 3 values\n",
    "\n",
    "xmean = x.mean(axis=0)\n",
    "xmean"
   ]
  },
  {
   "cell_type": "code",
   "execution_count": 31,
   "id": "2a463111-a785-4e60-a0fa-b305307a0cd5",
   "metadata": {
    "tags": []
   },
   "outputs": [
    {
     "data": {
      "text/plain": [
       "array([[-0.07065824, -0.37860914,  0.17728875],\n",
       "       [ 0.19595327,  0.44529677, -0.44842334],\n",
       "       [-0.03386229,  0.25682673, -0.45246026],\n",
       "       [-0.30598625, -0.13239094,  0.11098086],\n",
       "       [ 0.33983911, -0.34713476, -0.33699431],\n",
       "       [ 0.46452294, -0.21381596,  0.2736308 ],\n",
       "       [-0.28761944, -0.37299404,  0.46951679],\n",
       "       [-0.23102951,  0.27045306,  0.09765842],\n",
       "       [-0.37740902,  0.24262813, -0.37800924],\n",
       "       [ 0.30624942,  0.22974016,  0.48681154]])"
      ]
     },
     "execution_count": 31,
     "metadata": {},
     "output_type": "execute_result"
    }
   ],
   "source": [
    "# centering the values on 0 by subtracting x by xmean\n",
    "\n",
    "x_centered = x - xmean\n",
    "x_centered\n",
    "\n",
    "# pretty cool, not sure why i'd need this but yeah!"
   ]
  },
  {
   "cell_type": "code",
   "execution_count": 51,
   "id": "0292db6d-5840-4f81-9f2b-4c64f7894c4c",
   "metadata": {
    "tags": []
   },
   "outputs": [],
   "source": [
    "# some plotting since it's in this journal!\n",
    "\n",
    "\n",
    "# x = 100 equally spaced points from 0 to 5\n",
    "#y = \"\n",
    "x = np.linspace(0, 5, 100)\n",
    "y = np.linspace(0, 5, 100)[:, np.newaxis]\n",
    "\n",
    "# some serious trig here! not my own work tho\n",
    "z = np.sin(x) ** 10 + np.cos(10 + y * x) * np.cos(x)"
   ]
  },
  {
   "cell_type": "code",
   "execution_count": 48,
   "id": "37c976cd-98f4-48ee-b8f0-d4ddb8e1780c",
   "metadata": {
    "tags": []
   },
   "outputs": [],
   "source": [
    "%matplotlib inline\n",
    "import matplotlib.pyplot as plt"
   ]
  },
  {
   "cell_type": "code",
   "execution_count": null,
   "id": "e538f26a-9f3b-4cc8-88b1-07f24e54a0be",
   "metadata": {
    "tags": []
   },
   "outputs": [
    {
     "data": {
      "image/png": "[encoded data removed]",
      "text/plain": [
       "<Figure size 640x480 with 2 Axes>"
      ]
     },
     "metadata": {},
     "output_type": "display_data"
    }
   ],
   "source": [
    "# very pretty graph here! not sure what this really communicates tho?\n",
    "# im sure this will make more sense once we jump into matplotlib\n",
    "\n",
    "plt.imshow(z, origin='lower', extent=[0, 5, 0, 5],\n",
    "           cmap='viridis')\n",
    "plt.colorbar();"
   ]
  },
  {
   "cell_type": "code",
   "execution_count": null,
   "id": "450b5a79",
   "metadata": {},
   "outputs": [],
   "source": []
  }
 ],
 "metadata": {
  "kernelspec": {
   "display_name": "Python 3 (ipykernel)",
   "language": "python",
   "name": "python3"
  },
  "language_info": {
   "codemirror_mode": {
    "name": "ipython",
    "version": 3
   },
   "file_extension": ".py",
   "mimetype": "text/x-python",
   "name": "python",
   "nbconvert_exporter": "python",
   "pygments_lexer": "ipython3",
   "version": "3.11.5"
  }
 },
 "nbformat": 4,
 "nbformat_minor": 5
}
