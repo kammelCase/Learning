{
 "cells": [
  {
   "cell_type": "code",
   "execution_count": 1,
   "id": "1c9264e2-70b1-48b7-ad8c-360c93fd2246",
   "metadata": {
    "tags": []
   },
   "outputs": [],
   "source": [
    "import numpy as np\n",
    "\n",
    "np.random.seed(10) # random seed to replicate results\n",
    "\n",
    "x1 = np.random.randint(10, size=6)\n",
    "x2 = np.random.randint(10, size=(3,4))\n",
    "x3 = np.random.randint(10, size=(3,2,2,3))\n",
    "\n",
    "# jon, i played around with these for about 30min trying to\n",
    "# change the shape of x3 and draw how the data would look\n",
    "# on my notepad. getting better!"
   ]
  },
  {
   "cell_type": "code",
   "execution_count": 2,
   "id": "c999ab5f-2ebb-4545-b58b-93ef4f78986c",
   "metadata": {
    "tags": []
   },
   "outputs": [
    {
     "name": "stdout",
     "output_type": "stream",
     "text": [
      "4\n",
      "(3, 2, 2, 3)\n",
      "int64\n",
      "36\n",
      "8\n",
      "288\n"
     ]
    }
   ],
   "source": [
    "print(x3.ndim) # number of dimentions\n",
    "print(x3.shape) # size of each dimention\n",
    "print(x3.dtype) # type of data in array\n",
    "\n",
    "print(x3.size) # number of items in array\n",
    "print(x3.itemsize) # size (in bytes) of each array element\n",
    "print(x3.nbytes) # size in (in bytes) of entire array"
   ]
  },
  {
   "cell_type": "code",
   "execution_count": 3,
   "id": "4688df17-23b6-4c84-9d44-6c49fb16785c",
   "metadata": {
    "tags": []
   },
   "outputs": [
    {
     "data": {
      "text/plain": [
       "array([[[[1, 8, 4],\n",
       "         [1, 3, 6]],\n",
       "\n",
       "        [[5, 3, 9],\n",
       "         [6, 9, 1]]],\n",
       "\n",
       "\n",
       "       [[[9, 4, 2],\n",
       "         [6, 7, 8]],\n",
       "\n",
       "        [[8, 9, 2],\n",
       "         [0, 6, 7]]],\n",
       "\n",
       "\n",
       "       [[[8, 1, 7],\n",
       "         [1, 4, 0]],\n",
       "\n",
       "        [[8, 5, 4],\n",
       "         [7, 8, 8]]]])"
      ]
     },
     "execution_count": 3,
     "metadata": {},
     "output_type": "execute_result"
    }
   ],
   "source": [
    "x3"
   ]
  },
  {
   "cell_type": "code",
   "execution_count": 4,
   "id": "f5195885-cc21-4c4c-9ee1-58676be25587",
   "metadata": {
    "tags": []
   },
   "outputs": [
    {
     "data": {
      "text/plain": [
       "1"
      ]
     },
     "execution_count": 4,
     "metadata": {},
     "output_type": "execute_result"
    }
   ],
   "source": [
    "x3[0, 0, 0, 0] # with np, can access index with tuples"
   ]
  },
  {
   "cell_type": "code",
   "execution_count": 5,
   "id": "a159469d-6f81-4e4b-a763-53b15d7cd453",
   "metadata": {
    "tags": []
   },
   "outputs": [
    {
     "data": {
      "text/plain": [
       "array([[[[99, 98, 97],\n",
       "         [ 1,  3,  6]],\n",
       "\n",
       "        [[ 5,  3,  9],\n",
       "         [ 6,  9,  1]]],\n",
       "\n",
       "\n",
       "       [[[ 9,  4,  2],\n",
       "         [ 6,  7,  8]],\n",
       "\n",
       "        [[ 8,  9,  2],\n",
       "         [ 0,  6,  7]]],\n",
       "\n",
       "\n",
       "       [[[ 8,  1,  7],\n",
       "         [ 1,  4,  0]],\n",
       "\n",
       "        [[ 8,  5,  4],\n",
       "         [ 7,  8,  8]]]])"
      ]
     },
     "execution_count": 5,
     "metadata": {},
     "output_type": "execute_result"
    }
   ],
   "source": [
    "x3[0, 0, 0] = [99, 98, 97]  # can also use this to modify values\n",
    "x3"
   ]
  },
  {
   "cell_type": "code",
   "execution_count": 6,
   "id": "d212c410-ee8f-4509-8d54-f5e26db64984",
   "metadata": {
    "tags": []
   },
   "outputs": [
    {
     "name": "stdout",
     "output_type": "stream",
     "text": [
      "[9 4]\n",
      "[5 3]\n",
      "[7 6]\n",
      "[5 4]\n",
      "[1 9 6]\n",
      "[8 8]\n",
      "[6 9]\n",
      "[0 6]\n",
      "[3 6]\n"
     ]
    }
   ],
   "source": [
    "# lets try to grab just 9,4 from x3\n",
    "print(x3[1, 0, 0, :2])\n",
    "\n",
    "# trying 5,3\n",
    "print(x3[0,1,0,:2])\n",
    "\n",
    "# trying 7,6\n",
    "print(x3[1,1,1,:0:-1])\n",
    "\n",
    "# trying 5,4\n",
    "print(x3[2,1,0,1:3])\n",
    "\n",
    "#trying 1,9,6\n",
    "print(x3[0,1,1,::-1])\n",
    "\n",
    "#trying 8,8\n",
    "print(x3[2,1,1,1:3])\n",
    "\n",
    "# trying 6,9\n",
    "print(x3[0,1,1,:2])\n",
    "\n",
    "#trying 0,6\n",
    "print(x3[1,1,1,:2])\n",
    "\n",
    "#trying 3,6\n",
    "print(x3[0,0,1,1:3])"
   ]
  },
  {
   "cell_type": "code",
   "execution_count": 7,
   "id": "4840f4f6-c6f9-4fad-a4ef-915f2331b555",
   "metadata": {
    "tags": []
   },
   "outputs": [
    {
     "data": {
      "text/plain": [
       "array([[[2, 6, 2],\n",
       "        [8, 8, 6],\n",
       "        [6, 5, 6],\n",
       "        [0, 0, 6],\n",
       "        [9, 1, 8]],\n",
       "\n",
       "       [[9, 1, 2],\n",
       "        [8, 9, 9],\n",
       "        [5, 0, 2],\n",
       "        [7, 3, 0],\n",
       "        [4, 2, 0]],\n",
       "\n",
       "       [[3, 3, 1],\n",
       "        [2, 5, 9],\n",
       "        [0, 1, 0],\n",
       "        [1, 9, 0],\n",
       "        [9, 2, 1]],\n",
       "\n",
       "       [[1, 0, 0],\n",
       "        [5, 9, 0],\n",
       "        [4, 6, 6],\n",
       "        [0, 2, 3],\n",
       "        [3, 2, 6]]])"
      ]
     },
     "execution_count": 7,
     "metadata": {},
     "output_type": "execute_result"
    }
   ],
   "source": [
    "x4 = np.random.randint(10, size=(4,5,3))\n",
    "x4"
   ]
  },
  {
   "cell_type": "code",
   "execution_count": 8,
   "id": "552787e2-1afb-4a87-a55b-07040441dc82",
   "metadata": {
    "tags": []
   },
   "outputs": [
    {
     "name": "stdout",
     "output_type": "stream",
     "text": [
      "[[2 6]\n",
      " [8 8]\n",
      " [6 5]]\n",
      "\n",
      "\n",
      "[[1 0 0]\n",
      " [5 9 0]\n",
      " [4 6 6]]\n",
      "\n",
      "\n",
      "[1 9 0 3]\n"
     ]
    }
   ],
   "source": [
    "# trying 0,5\n",
    "#        3,6\n",
    "#        5,1\n",
    "print(x4[0,:3,:2])\n",
    "\n",
    "print(\"\\n\")\n",
    "\n",
    "# trying 4,5,4\n",
    "#        0,2,8\n",
    "#        0,7,6\n",
    "print(x4[3,:3,:3])\n",
    "\n",
    "print(\"\\n\")\n",
    "\n",
    "# trying 5\n",
    "#        9\n",
    "#        9\n",
    "#.       7\n",
    "print(x4[1,:4,1])"
   ]
  },
  {
   "cell_type": "code",
   "execution_count": 9,
   "id": "985fdd36-b98e-4a71-8939-994cc3cbfa96",
   "metadata": {
    "tags": []
   },
   "outputs": [
    {
     "data": {
      "text/plain": [
       "array([[99,  0,  0],\n",
       "       [ 5,  9,  0],\n",
       "       [ 4,  6,  6]])"
      ]
     },
     "execution_count": 9,
     "metadata": {},
     "output_type": "execute_result"
    }
   ],
   "source": [
    "# very cool, we can use .copy() method to select and copy slices without changing the underlying data (in this case, that's x4)\n",
    "\n",
    "x4select = x4[3,:3,:3].copy()\n",
    "x4select[0,0]=99\n",
    "\n",
    "x4select\n",
    "\n"
   ]
  },
  {
   "cell_type": "code",
   "execution_count": 10,
   "id": "88ed7f2d",
   "metadata": {},
   "outputs": [
    {
     "data": {
      "text/plain": [
       "array([[[2, 6, 2],\n",
       "        [8, 8, 6],\n",
       "        [6, 5, 6],\n",
       "        [0, 0, 6],\n",
       "        [9, 1, 8]],\n",
       "\n",
       "       [[9, 1, 2],\n",
       "        [8, 9, 9],\n",
       "        [5, 0, 2],\n",
       "        [7, 3, 0],\n",
       "        [4, 2, 0]],\n",
       "\n",
       "       [[3, 3, 1],\n",
       "        [2, 5, 9],\n",
       "        [0, 1, 0],\n",
       "        [1, 9, 0],\n",
       "        [9, 2, 1]],\n",
       "\n",
       "       [[1, 0, 0],\n",
       "        [5, 9, 0],\n",
       "        [4, 6, 6],\n",
       "        [0, 2, 3],\n",
       "        [3, 2, 6]]])"
      ]
     },
     "execution_count": 10,
     "metadata": {},
     "output_type": "execute_result"
    }
   ],
   "source": [
    "x4 #still unchanged"
   ]
  },
  {
   "cell_type": "code",
   "execution_count": 11,
   "id": "9060b8a9-28de-4b34-8dee-3b4e58c4fbb8",
   "metadata": {
    "tags": []
   },
   "outputs": [
    {
     "data": {
      "text/plain": [
       "array([[99,  0,  0,  5,  9,  0,  4,  6,  6]])"
      ]
     },
     "execution_count": 11,
     "metadata": {},
     "output_type": "execute_result"
    }
   ],
   "source": [
    "# can use reshape to lay this in one row, as long as the math works out for the new shape\n",
    "# jon, this is a list within a list, is there an easy way to pop this list out of the outer list?\n",
    "\n",
    "x4select.reshape((1,9))"
   ]
  },
  {
   "cell_type": "code",
   "execution_count": 12,
   "id": "3cc41eec-72fa-4cb3-afab-8547e4efed8c",
   "metadata": {
    "tags": []
   },
   "outputs": [
    {
     "data": {
      "text/plain": [
       "array([1, 2, 3, 4, 5, 6])"
      ]
     },
     "execution_count": 12,
     "metadata": {},
     "output_type": "execute_result"
    }
   ],
   "source": [
    "# catting arrays\n",
    "# can use np.concatenate np.hstack np.vstack to get our cat on!\n",
    "\n",
    "x5 = [1, 2, 3]\n",
    "x6 = [4, 5, 6]\n",
    "\n",
    "np.concatenate((x5, x6))"
   ]
  },
  {
   "cell_type": "code",
   "execution_count": 13,
   "id": "ea6b9f04-e984-4816-b644-a131564f9cf5",
   "metadata": {
    "tags": []
   },
   "outputs": [
    {
     "data": {
      "text/plain": [
       "array([[1, 2, 3],\n",
       "       [4, 5, 6]])"
      ]
     },
     "execution_count": 13,
     "metadata": {},
     "output_type": "execute_result"
    }
   ],
   "source": [
    "np.vstack((x5, x6)) #verrtical cat+stack x6 below x5"
   ]
  },
  {
   "cell_type": "code",
   "execution_count": 14,
   "id": "3e50b89d-9cee-4aeb-bcce-8d205e126999",
   "metadata": {
    "tags": []
   },
   "outputs": [
    {
     "data": {
      "text/plain": [
       "array([4, 5, 6, 1, 2, 3])"
      ]
     },
     "execution_count": 14,
     "metadata": {},
     "output_type": "execute_result"
    }
   ],
   "source": [
    "np.hstack((x6, x5)) #horizontally cat+stack x5 to the right of x6"
   ]
  },
  {
   "cell_type": "code",
   "execution_count": 15,
   "id": "d2acd75f-df32-4308-9ad0-ae584f2d42f3",
   "metadata": {
    "tags": []
   },
   "outputs": [
    {
     "data": {
      "text/plain": [
       "array([[4, 5, 6],\n",
       "       [1, 2, 3],\n",
       "       [4, 5, 6]])"
      ]
     },
     "execution_count": 15,
     "metadata": {},
     "output_type": "execute_result"
    }
   ],
   "source": [
    "np.vstack((x6, x5, x6)) #vertically cat+stack x6 below x5 below x6"
   ]
  },
  {
   "cell_type": "code",
   "execution_count": 16,
   "id": "c82a82b7-8875-42dc-af16-daf94993edfe",
   "metadata": {
    "tags": []
   },
   "outputs": [
    {
     "data": {
      "text/plain": [
       "array([0, 5, 1, 3, 6, 5, 5, 1, 8])"
      ]
     },
     "execution_count": 16,
     "metadata": {},
     "output_type": "execute_result"
    }
   ],
   "source": [
    "# splitting arrays\n",
    "# opposite of catting, follows similar logic + terminology\n",
    "# np.split() np.vsplit() np.hsplit()\n",
    "\n",
    "x0 = np.random.randint(10, size=(9))\n",
    "x0"
   ]
  },
  {
   "cell_type": "code",
   "execution_count": 17,
   "id": "a3995f2a-ebc4-42d4-9ab5-145a196a406b",
   "metadata": {
    "tags": []
   },
   "outputs": [],
   "source": [
    "x00, x000, x000 = np.split(x0, [3, 6])"
   ]
  },
  {
   "cell_type": "code",
   "execution_count": 18,
   "id": "4fbd414d-17d3-4895-a588-d24db44ec1b8",
   "metadata": {
    "tags": []
   },
   "outputs": [
    {
     "name": "stdout",
     "output_type": "stream",
     "text": [
      "[0 5 1] [5 1 8] [5 1 8]\n"
     ]
    }
   ],
   "source": [
    "print(x00, x000, x000)"
   ]
  },
  {
   "cell_type": "code",
   "execution_count": 19,
   "id": "ab9089a2-1316-49f1-9e64-842da13d88fc",
   "metadata": {
    "tags": []
   },
   "outputs": [
    {
     "data": {
      "text/plain": [
       "array([[0, 5, 9, 8, 5],\n",
       "       [7, 8, 5, 8, 9],\n",
       "       [9, 1, 5, 9, 1],\n",
       "       [4, 7, 7, 7, 9],\n",
       "       [7, 6, 0, 3, 9]])"
      ]
     },
     "execution_count": 19,
     "metadata": {},
     "output_type": "execute_result"
    }
   ],
   "source": [
    "x10 = np.random.randint(10, size=(5,5))\n",
    "x10"
   ]
  },
  {
   "cell_type": "code",
   "execution_count": 20,
   "id": "f7463338-4ead-48f6-9700-82402409ca45",
   "metadata": {
    "tags": []
   },
   "outputs": [
    {
     "data": {
      "text/plain": [
       "array([[9, 1, 5, 9, 1],\n",
       "       [4, 7, 7, 7, 9],\n",
       "       [7, 6, 0, 3, 9]])"
      ]
     },
     "execution_count": 20,
     "metadata": {},
     "output_type": "execute_result"
    }
   ],
   "source": [
    "# pretty easy to understand after learning cat\n",
    "\n",
    "x11, x12 = np.vsplit(x10, [2])\n",
    "x12"
   ]
  }
 ],
 "metadata": {
  "kernelspec": {
   "display_name": "Python 3 (ipykernel)",
   "language": "python",
   "name": "python3"
  },
  "language_info": {
   "codemirror_mode": {
    "name": "ipython",
    "version": 3
   },
   "file_extension": ".py",
   "mimetype": "text/x-python",
   "name": "python",
   "nbconvert_exporter": "python",
   "pygments_lexer": "ipython3",
   "version": "3.11.5"
  }
 },
 "nbformat": 4,
 "nbformat_minor": 5
}
