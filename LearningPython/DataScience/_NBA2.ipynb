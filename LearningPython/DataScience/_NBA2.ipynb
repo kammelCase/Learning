{
 "cells": [
  {
   "cell_type": "code",
   "execution_count": 1,
   "metadata": {},
   "outputs": [],
   "source": [
    "# trying to incorporate some ml stuff to this nba data now, too"
   ]
  },
  {
   "cell_type": "code",
   "execution_count": 2,
   "id": "2716dd3a",
   "metadata": {},
   "outputs": [],
   "source": [
    "import numpy as np\n",
    "import pandas as pd\n",
    "import tensorflow as tf"
   ]
  },
  {
   "cell_type": "code",
   "execution_count": 3,
   "id": "e26549da",
   "metadata": {},
   "outputs": [
    {
     "name": "stdout",
     "output_type": "stream",
     "text": [
      "(1533, 15)\n",
      "(1025, 15)\n",
      "(1434, 15)\n"
     ]
    }
   ],
   "source": [
    "lebron = pd.read_csv('data/NBA/1_lebron_james_shot_chart_1_2023.csv')\n",
    "james = pd.read_csv('data/NBA/2_james_harden_shot_chart_2023.csv')\n",
    "stephen = pd.read_csv('data/NBA/3_stephen_curry_shot_chart_2023.csv')\n",
    "\n",
    "print(lebron.shape)\n",
    "print(james.shape)\n",
    "print(stephen.shape)"
   ]
  },
  {
   "cell_type": "code",
   "execution_count": 4,
   "id": "3c45eea8",
   "metadata": {},
   "outputs": [
    {
     "data": {
      "text/plain": [
       "top                     int64\n",
       "left                    int64\n",
       "date                   object\n",
       "qtr                    object\n",
       "time_remaining         object\n",
       "result                   bool\n",
       "shot_type               int64\n",
       "distance_ft             int64\n",
       "lead                     bool\n",
       "lebron_team_score       int64\n",
       "opponent_team_score     int64\n",
       "opponent               object\n",
       "team                   object\n",
       "season                  int64\n",
       "color                  object\n",
       "dtype: object"
      ]
     },
     "execution_count": 4,
     "metadata": {},
     "output_type": "execute_result"
    }
   ],
   "source": [
    "lebron.dtypes"
   ]
  },
  {
   "cell_type": "code",
   "execution_count": 5,
   "id": "c0ff680e",
   "metadata": {},
   "outputs": [],
   "source": [
    "# let's try to use the positional data from 'top' and 'left' to create a \n",
    "# model that predicts whether lebron james will make a shot or not\n",
    "\n",
    "# first let's select the top and left columns for X_train\n",
    "# and shots made for the y_train\n",
    "\n",
    "X_train = lebron.iloc[0:1500,0:2].to_numpy().astype('int16')\n",
    "y_train = lebron.iloc[0:1500,5].to_numpy().astype('int8')\n",
    "\n",
    "X_valid = lebron.iloc[1500:1533,0:2].to_numpy().astype('int16')\n",
    "y_valid = lebron.iloc[1500:1533,5].to_numpy().astype('int8')\n"
   ]
  },
  {
   "cell_type": "code",
   "execution_count": 6,
   "metadata": {},
   "outputs": [
    {
     "data": {
      "text/plain": [
       "array([[ 1.61134788, -0.31335703],\n",
       "       [ 0.62481251,  0.29912413],\n",
       "       [-0.08712023, -0.66334626],\n",
       "       ...,\n",
       "       [-0.20916584,  0.21162682],\n",
       "       [-0.67700735,  0.78035933],\n",
       "       [ 1.40793853,  1.20690871]])"
      ]
     },
     "execution_count": 6,
     "metadata": {},
     "output_type": "execute_result"
    }
   ],
   "source": [
    "# now let's scale the data\n",
    "\n",
    "from sklearn.preprocessing import StandardScaler\n",
    "scaler = StandardScaler()\n",
    "\n",
    "X_train = scaler.fit_transform(X_train)\n",
    "X_train"
   ]
  },
  {
   "cell_type": "code",
   "execution_count": 7,
   "metadata": {},
   "outputs": [
    {
     "data": {
      "text/plain": [
       "(1500, 2)"
      ]
     },
     "execution_count": 7,
     "metadata": {},
     "output_type": "execute_result"
    }
   ],
   "source": [
    "X_train.shape"
   ]
  },
  {
   "cell_type": "code",
   "execution_count": 8,
   "metadata": {},
   "outputs": [],
   "source": [
    "# time to create a model\n",
    "\n",
    "tf.keras.backend.clear_session()\n",
    "\n",
    "model = tf.keras.Sequential([\n",
    "    tf.keras.layers.Flatten(input_shape=[2]),\n",
    "    tf.keras.layers.Dense(1000, activation='relu'),\n",
    "    tf.keras.layers.Dense(1000, activation='relu'),\n",
    "    tf.keras.layers.Dense(2, activation='softmax')\n",
    "])"
   ]
  },
  {
   "cell_type": "code",
   "execution_count": 9,
   "metadata": {},
   "outputs": [
    {
     "name": "stdout",
     "output_type": "stream",
     "text": [
      "Model: \"sequential\"\n",
      "_________________________________________________________________\n",
      " Layer (type)                Output Shape              Param #   \n",
      "=================================================================\n",
      " flatten (Flatten)           (None, 2)                 0         \n",
      "                                                                 \n",
      " dense (Dense)               (None, 300)               900       \n",
      "                                                                 \n",
      " dense_1 (Dense)             (None, 100)               30100     \n",
      "                                                                 \n",
      " dense_2 (Dense)             (None, 2)                 202       \n",
      "                                                                 \n",
      "=================================================================\n",
      "Total params: 31202 (121.88 KB)\n",
      "Trainable params: 31202 (121.88 KB)\n",
      "Non-trainable params: 0 (0.00 Byte)\n",
      "_________________________________________________________________\n"
     ]
    }
   ],
   "source": [
    "model.summary()"
   ]
  },
  {
   "cell_type": "code",
   "execution_count": 10,
   "metadata": {},
   "outputs": [],
   "source": [
    "model.compile(loss='sparse_categorical_crossentropy',\n",
    "              optimizer='sgd',\n",
    "              metrics=['accuracy'])"
   ]
  },
  {
   "cell_type": "code",
   "execution_count": 11,
   "metadata": {},
   "outputs": [
    {
     "name": "stdout",
     "output_type": "stream",
     "text": [
      "Epoch 1/30\n",
      "47/47 [==============================] - 0s 2ms/step - loss: 0.6778 - accuracy: 0.6247 - val_loss: 13.6897 - val_accuracy: 0.4545\n",
      "Epoch 2/30\n",
      "47/47 [==============================] - 0s 714us/step - loss: 0.6573 - accuracy: 0.6667 - val_loss: 23.5970 - val_accuracy: 0.4545\n",
      "Epoch 3/30\n",
      "47/47 [==============================] - 0s 677us/step - loss: 0.6461 - accuracy: 0.6613 - val_loss: 30.7747 - val_accuracy: 0.4545\n",
      "Epoch 4/30\n",
      "47/47 [==============================] - 0s 674us/step - loss: 0.6396 - accuracy: 0.6600 - val_loss: 36.3428 - val_accuracy: 0.4545\n",
      "Epoch 5/30\n",
      "47/47 [==============================] - 0s 689us/step - loss: 0.6356 - accuracy: 0.6580 - val_loss: 40.9089 - val_accuracy: 0.4545\n",
      "Epoch 6/30\n",
      "47/47 [==============================] - 0s 672us/step - loss: 0.6331 - accuracy: 0.6587 - val_loss: 44.2310 - val_accuracy: 0.4545\n",
      "Epoch 7/30\n",
      "47/47 [==============================] - 0s 648us/step - loss: 0.6315 - accuracy: 0.6567 - val_loss: 47.1228 - val_accuracy: 0.4545\n",
      "Epoch 8/30\n",
      "47/47 [==============================] - 0s 641us/step - loss: 0.6302 - accuracy: 0.6587 - val_loss: 49.5551 - val_accuracy: 0.4545\n",
      "Epoch 9/30\n",
      "47/47 [==============================] - 0s 636us/step - loss: 0.6293 - accuracy: 0.6627 - val_loss: 51.2174 - val_accuracy: 0.4545\n",
      "Epoch 10/30\n",
      "47/47 [==============================] - 0s 668us/step - loss: 0.6287 - accuracy: 0.6600 - val_loss: 53.1275 - val_accuracy: 0.4545\n",
      "Epoch 11/30\n",
      "47/47 [==============================] - 0s 694us/step - loss: 0.6280 - accuracy: 0.6613 - val_loss: 54.5693 - val_accuracy: 0.4545\n",
      "Epoch 12/30\n",
      "47/47 [==============================] - 0s 650us/step - loss: 0.6274 - accuracy: 0.6593 - val_loss: 55.4661 - val_accuracy: 0.4545\n",
      "Epoch 13/30\n",
      "47/47 [==============================] - 0s 663us/step - loss: 0.6269 - accuracy: 0.6613 - val_loss: 56.8875 - val_accuracy: 0.4545\n",
      "Epoch 14/30\n",
      "47/47 [==============================] - 0s 681us/step - loss: 0.6265 - accuracy: 0.6640 - val_loss: 56.6437 - val_accuracy: 0.4545\n",
      "Epoch 15/30\n",
      "47/47 [==============================] - 0s 674us/step - loss: 0.6262 - accuracy: 0.6593 - val_loss: 57.7282 - val_accuracy: 0.4545\n",
      "Epoch 16/30\n",
      "47/47 [==============================] - 0s 673us/step - loss: 0.6258 - accuracy: 0.6627 - val_loss: 58.1673 - val_accuracy: 0.4545\n",
      "Epoch 17/30\n",
      "47/47 [==============================] - 0s 622us/step - loss: 0.6255 - accuracy: 0.6613 - val_loss: 58.7398 - val_accuracy: 0.4545\n",
      "Epoch 18/30\n",
      "47/47 [==============================] - 0s 684us/step - loss: 0.6251 - accuracy: 0.6640 - val_loss: 59.1243 - val_accuracy: 0.4545\n",
      "Epoch 19/30\n",
      "47/47 [==============================] - 0s 627us/step - loss: 0.6249 - accuracy: 0.6660 - val_loss: 59.1367 - val_accuracy: 0.4545\n",
      "Epoch 20/30\n",
      "47/47 [==============================] - 0s 647us/step - loss: 0.6244 - accuracy: 0.6673 - val_loss: 59.4814 - val_accuracy: 0.4545\n",
      "Epoch 21/30\n",
      "47/47 [==============================] - 0s 682us/step - loss: 0.6242 - accuracy: 0.6673 - val_loss: 58.1432 - val_accuracy: 0.4545\n",
      "Epoch 22/30\n",
      "47/47 [==============================] - 0s 652us/step - loss: 0.6240 - accuracy: 0.6680 - val_loss: 58.9501 - val_accuracy: 0.4545\n",
      "Epoch 23/30\n",
      "47/47 [==============================] - 0s 664us/step - loss: 0.6237 - accuracy: 0.6680 - val_loss: 58.9758 - val_accuracy: 0.4545\n",
      "Epoch 24/30\n",
      "47/47 [==============================] - 0s 674us/step - loss: 0.6233 - accuracy: 0.6673 - val_loss: 59.2496 - val_accuracy: 0.4545\n",
      "Epoch 25/30\n",
      "47/47 [==============================] - 0s 645us/step - loss: 0.6232 - accuracy: 0.6680 - val_loss: 59.5727 - val_accuracy: 0.4545\n",
      "Epoch 26/30\n",
      "47/47 [==============================] - 0s 652us/step - loss: 0.6229 - accuracy: 0.6673 - val_loss: 58.8791 - val_accuracy: 0.4545\n",
      "Epoch 27/30\n",
      "47/47 [==============================] - 0s 635us/step - loss: 0.6227 - accuracy: 0.6667 - val_loss: 59.0260 - val_accuracy: 0.4545\n",
      "Epoch 28/30\n",
      "47/47 [==============================] - 0s 659us/step - loss: 0.6225 - accuracy: 0.6673 - val_loss: 58.5537 - val_accuracy: 0.4545\n",
      "Epoch 29/30\n",
      "47/47 [==============================] - 0s 652us/step - loss: 0.6223 - accuracy: 0.6673 - val_loss: 59.0244 - val_accuracy: 0.4545\n",
      "Epoch 30/30\n",
      "47/47 [==============================] - 0s 668us/step - loss: 0.6221 - accuracy: 0.6673 - val_loss: 58.1108 - val_accuracy: 0.4545\n"
     ]
    }
   ],
   "source": [
    "history = model.fit(X_train, y_train,\n",
    "                    epochs=30,\n",
    "                    validation_data=(X_valid, y_valid))"
   ]
  }
 ],
 "metadata": {
  "kernelspec": {
   "display_name": "Python 3 (ipykernel)",
   "language": "python",
   "name": "python3"
  },
  "language_info": {
   "codemirror_mode": {
    "name": "ipython",
    "version": 3
   },
   "file_extension": ".py",
   "mimetype": "text/x-python",
   "name": "python",
   "nbconvert_exporter": "python",
   "pygments_lexer": "ipython3",
   "version": "3.11.5"
  }
 },
 "nbformat": 4,
 "nbformat_minor": 5
}
