{
 "cells": [
  {
   "cell_type": "code",
   "execution_count": 1,
   "metadata": {},
   "outputs": [],
   "source": [
    "# trying to incorporate some ml stuff to this nba data now, too"
   ]
  },
  {
   "cell_type": "code",
   "execution_count": 2,
   "id": "2716dd3a",
   "metadata": {},
   "outputs": [],
   "source": [
    "import numpy as np\n",
    "import pandas as pd\n",
    "import tensorflow as tf"
   ]
  },
  {
   "cell_type": "code",
   "execution_count": 3,
   "id": "e26549da",
   "metadata": {},
   "outputs": [
    {
     "name": "stdout",
     "output_type": "stream",
     "text": [
      "(1533, 15)\n",
      "(1025, 15)\n",
      "(1434, 15)\n"
     ]
    }
   ],
   "source": [
    "lebron = pd.read_csv('data/NBA/1_lebron_james_shot_chart_1_2023.csv')\n",
    "james = pd.read_csv('data/NBA/2_james_harden_shot_chart_2023.csv')\n",
    "stephen = pd.read_csv('data/NBA/3_stephen_curry_shot_chart_2023.csv')\n",
    "\n",
    "print(lebron.shape)\n",
    "print(james.shape)\n",
    "print(stephen.shape)"
   ]
  },
  {
   "cell_type": "code",
   "execution_count": 4,
   "id": "3c45eea8",
   "metadata": {},
   "outputs": [
    {
     "data": {
      "text/plain": [
       "top                     int64\n",
       "left                    int64\n",
       "date                   object\n",
       "qtr                    object\n",
       "time_remaining         object\n",
       "result                   bool\n",
       "shot_type               int64\n",
       "distance_ft             int64\n",
       "lead                     bool\n",
       "lebron_team_score       int64\n",
       "opponent_team_score     int64\n",
       "opponent               object\n",
       "team                   object\n",
       "season                  int64\n",
       "color                  object\n",
       "dtype: object"
      ]
     },
     "execution_count": 4,
     "metadata": {},
     "output_type": "execute_result"
    }
   ],
   "source": [
    "lebron.dtypes"
   ]
  },
  {
   "cell_type": "code",
   "execution_count": 5,
   "id": "c0ff680e",
   "metadata": {},
   "outputs": [],
   "source": [
    "# let's try to use the positional data from 'top' and 'left' to create a \n",
    "# model that predicts whether lebron james will make a shot or not\n",
    "\n",
    "# first let's select the top and left columns for X_train\n",
    "# and shots made for the y_train\n",
    "\n",
    "X_train = lebron.iloc[0:1300,0:2].to_numpy().astype('int16')\n",
    "y_train = lebron.iloc[0:1300,5].to_numpy().astype('int8')\n",
    "\n",
    "X_valid = lebron.iloc[1300:1533,0:2].to_numpy().astype('int16')\n",
    "y_valid = lebron.iloc[1300:1533,5].to_numpy().astype('int8')\n"
   ]
  },
  {
   "cell_type": "code",
   "execution_count": 6,
   "metadata": {},
   "outputs": [
    {
     "data": {
      "text/plain": [
       "array([[ 1.617076  , -0.31657385],\n",
       "       [ 0.63223507,  0.29984255],\n",
       "       [-0.07847487, -0.6688118 ],\n",
       "       ...,\n",
       "       [ 1.546005  , -0.87795308],\n",
       "       [ 1.70845299, -0.21750693],\n",
       "       [ 1.64753499, -0.38261847]])"
      ]
     },
     "execution_count": 6,
     "metadata": {},
     "output_type": "execute_result"
    }
   ],
   "source": [
    "# now let's scale the data\n",
    "\n",
    "from sklearn.preprocessing import StandardScaler\n",
    "scaler = StandardScaler()\n",
    "\n",
    "X_train = scaler.fit_transform(X_train)\n",
    "X_train"
   ]
  },
  {
   "cell_type": "code",
   "execution_count": 7,
   "metadata": {},
   "outputs": [
    {
     "data": {
      "text/plain": [
       "(1300, 2)"
      ]
     },
     "execution_count": 7,
     "metadata": {},
     "output_type": "execute_result"
    }
   ],
   "source": [
    "X_train.shape"
   ]
  },
  {
   "cell_type": "code",
   "execution_count": 8,
   "metadata": {},
   "outputs": [
    {
     "name": "stderr",
     "output_type": "stream",
     "text": [
      "/Users/mark/anaconda3/envs/ds/lib/python3.11/site-packages/keras/src/initializers/initializers.py:120: UserWarning: The initializer RandomNormal is unseeded and being called multiple times, which will return identical values each time (even if the initializer is unseeded). Please update your code to provide a seed to the initializer, or avoid using the same initializer instance more than once.\n",
      "  warnings.warn(\n"
     ]
    }
   ],
   "source": [
    "# time to create a model\n",
    "from tensorflow.keras import initializers\n",
    "from tensorflow.keras import layers\n",
    "\n",
    "tf.keras.backend.clear_session()\n",
    "\n",
    "init = tf.keras.initializers.RandomNormal(mean=0., stddev=1.)\n",
    "\n",
    "model = tf.keras.Sequential([\n",
    "    tf.keras.layers.Flatten(input_shape=[2]),\n",
    "    tf.keras.layers.Dense(10, kernel_initializer=init, activation='relu'),\n",
    "    tf.keras.layers.Dense(10, kernel_initializer=init, activation='relu'),\n",
    "    tf.keras.layers.Dense(2, activation='softmax')\n",
    "])"
   ]
  },
  {
   "cell_type": "code",
   "execution_count": 9,
   "metadata": {},
   "outputs": [
    {
     "name": "stdout",
     "output_type": "stream",
     "text": [
      "Model: \"sequential\"\n",
      "_________________________________________________________________\n",
      " Layer (type)                Output Shape              Param #   \n",
      "=================================================================\n",
      " flatten (Flatten)           (None, 2)                 0         \n",
      "                                                                 \n",
      " dense (Dense)               (None, 10)                30        \n",
      "                                                                 \n",
      " dense_1 (Dense)             (None, 10)                110       \n",
      "                                                                 \n",
      " dense_2 (Dense)             (None, 2)                 22        \n",
      "                                                                 \n",
      "=================================================================\n",
      "Total params: 162 (648.00 Byte)\n",
      "Trainable params: 162 (648.00 Byte)\n",
      "Non-trainable params: 0 (0.00 Byte)\n",
      "_________________________________________________________________\n"
     ]
    }
   ],
   "source": [
    "model.summary()"
   ]
  },
  {
   "cell_type": "code",
   "execution_count": 10,
   "metadata": {},
   "outputs": [],
   "source": [
    "model.compile(loss='sparse_categorical_crossentropy',\n",
    "              optimizer='sgd',\n",
    "              metrics=['accuracy'])"
   ]
  },
  {
   "cell_type": "code",
   "execution_count": 11,
   "metadata": {},
   "outputs": [
    {
     "name": "stdout",
     "output_type": "stream",
     "text": [
      "Epoch 1/50\n",
      "41/41 [==============================] - 0s 2ms/step - loss: 0.7111 - accuracy: 0.6000 - val_loss: 29.7863 - val_accuracy: 0.6567\n",
      "Epoch 2/50\n",
      "41/41 [==============================] - 0s 769us/step - loss: 0.6734 - accuracy: 0.6146 - val_loss: 24.5200 - val_accuracy: 0.6996\n",
      "Epoch 3/50\n",
      "41/41 [==============================] - 0s 689us/step - loss: 0.6600 - accuracy: 0.6315 - val_loss: 20.4726 - val_accuracy: 0.6867\n",
      "Epoch 4/50\n",
      "41/41 [==============================] - 0s 671us/step - loss: 0.6514 - accuracy: 0.6362 - val_loss: 16.2624 - val_accuracy: 0.6438\n",
      "Epoch 5/50\n",
      "41/41 [==============================] - 0s 666us/step - loss: 0.6476 - accuracy: 0.6469 - val_loss: 16.6435 - val_accuracy: 0.6738\n",
      "Epoch 6/50\n",
      "41/41 [==============================] - 0s 664us/step - loss: 0.6442 - accuracy: 0.6469 - val_loss: 10.8794 - val_accuracy: 0.6781\n",
      "Epoch 7/50\n",
      "41/41 [==============================] - 0s 659us/step - loss: 0.6405 - accuracy: 0.6446 - val_loss: 18.8212 - val_accuracy: 0.5021\n",
      "Epoch 8/50\n",
      "41/41 [==============================] - 0s 659us/step - loss: 0.6388 - accuracy: 0.6485 - val_loss: 8.3760 - val_accuracy: 0.6567\n",
      "Epoch 9/50\n",
      "41/41 [==============================] - 0s 683us/step - loss: 0.6387 - accuracy: 0.6492 - val_loss: 17.5544 - val_accuracy: 0.5021\n",
      "Epoch 10/50\n",
      "41/41 [==============================] - 0s 610us/step - loss: 0.6370 - accuracy: 0.6523 - val_loss: 14.4674 - val_accuracy: 0.5021\n",
      "Epoch 11/50\n",
      "41/41 [==============================] - 0s 660us/step - loss: 0.6341 - accuracy: 0.6523 - val_loss: 24.9503 - val_accuracy: 0.5021\n",
      "Epoch 12/50\n",
      "41/41 [==============================] - 0s 610us/step - loss: 0.6328 - accuracy: 0.6531 - val_loss: 32.0074 - val_accuracy: 0.5021\n",
      "Epoch 13/50\n",
      "41/41 [==============================] - 0s 602us/step - loss: 0.6309 - accuracy: 0.6554 - val_loss: 25.4513 - val_accuracy: 0.5021\n",
      "Epoch 14/50\n",
      "41/41 [==============================] - 0s 625us/step - loss: 0.6311 - accuracy: 0.6554 - val_loss: 27.2798 - val_accuracy: 0.5021\n",
      "Epoch 15/50\n",
      "41/41 [==============================] - 0s 626us/step - loss: 0.6321 - accuracy: 0.6538 - val_loss: 19.1145 - val_accuracy: 0.5021\n",
      "Epoch 16/50\n",
      "41/41 [==============================] - 0s 596us/step - loss: 0.6315 - accuracy: 0.6546 - val_loss: 29.5035 - val_accuracy: 0.5021\n",
      "Epoch 17/50\n",
      "41/41 [==============================] - 0s 636us/step - loss: 0.6310 - accuracy: 0.6546 - val_loss: 27.8635 - val_accuracy: 0.5021\n",
      "Epoch 18/50\n",
      "41/41 [==============================] - 0s 638us/step - loss: 0.6299 - accuracy: 0.6538 - val_loss: 29.8958 - val_accuracy: 0.5021\n",
      "Epoch 19/50\n",
      "41/41 [==============================] - 0s 667us/step - loss: 0.6307 - accuracy: 0.6554 - val_loss: 32.7707 - val_accuracy: 0.5021\n",
      "Epoch 20/50\n",
      "41/41 [==============================] - 0s 797us/step - loss: 0.6305 - accuracy: 0.6554 - val_loss: 20.4678 - val_accuracy: 0.5021\n",
      "Epoch 21/50\n",
      "41/41 [==============================] - 0s 697us/step - loss: 0.6293 - accuracy: 0.6569 - val_loss: 30.9304 - val_accuracy: 0.5021\n",
      "Epoch 22/50\n",
      "41/41 [==============================] - 0s 698us/step - loss: 0.6293 - accuracy: 0.6577 - val_loss: 29.3735 - val_accuracy: 0.5021\n",
      "Epoch 23/50\n",
      "41/41 [==============================] - 0s 776us/step - loss: 0.6288 - accuracy: 0.6577 - val_loss: 40.6334 - val_accuracy: 0.5021\n",
      "Epoch 24/50\n",
      "41/41 [==============================] - 0s 714us/step - loss: 0.6284 - accuracy: 0.6531 - val_loss: 40.4070 - val_accuracy: 0.5021\n",
      "Epoch 25/50\n",
      "41/41 [==============================] - 0s 720us/step - loss: 0.6291 - accuracy: 0.6592 - val_loss: 25.7818 - val_accuracy: 0.5021\n",
      "Epoch 26/50\n",
      "41/41 [==============================] - 0s 712us/step - loss: 0.6288 - accuracy: 0.6546 - val_loss: 29.2321 - val_accuracy: 0.5021\n",
      "Epoch 27/50\n",
      "41/41 [==============================] - 0s 693us/step - loss: 0.6267 - accuracy: 0.6577 - val_loss: 29.8543 - val_accuracy: 0.5021\n",
      "Epoch 28/50\n",
      "41/41 [==============================] - 0s 626us/step - loss: 0.6274 - accuracy: 0.6600 - val_loss: 18.2562 - val_accuracy: 0.5021\n",
      "Epoch 29/50\n",
      "41/41 [==============================] - 0s 622us/step - loss: 0.6271 - accuracy: 0.6646 - val_loss: 38.1324 - val_accuracy: 0.5021\n",
      "Epoch 30/50\n",
      "41/41 [==============================] - 0s 593us/step - loss: 0.6282 - accuracy: 0.6638 - val_loss: 27.4508 - val_accuracy: 0.5021\n",
      "Epoch 31/50\n",
      "41/41 [==============================] - 0s 612us/step - loss: 0.6270 - accuracy: 0.6638 - val_loss: 32.0735 - val_accuracy: 0.5021\n",
      "Epoch 32/50\n",
      "41/41 [==============================] - 0s 603us/step - loss: 0.6270 - accuracy: 0.6646 - val_loss: 28.2525 - val_accuracy: 0.5021\n",
      "Epoch 33/50\n",
      "41/41 [==============================] - 0s 645us/step - loss: 0.6265 - accuracy: 0.6654 - val_loss: 25.6743 - val_accuracy: 0.5021\n",
      "Epoch 34/50\n",
      "41/41 [==============================] - 0s 583us/step - loss: 0.6261 - accuracy: 0.6669 - val_loss: 25.9546 - val_accuracy: 0.5021\n",
      "Epoch 35/50\n",
      "41/41 [==============================] - 0s 644us/step - loss: 0.6260 - accuracy: 0.6669 - val_loss: 34.1900 - val_accuracy: 0.5021\n",
      "Epoch 36/50\n",
      "41/41 [==============================] - 0s 597us/step - loss: 0.6261 - accuracy: 0.6662 - val_loss: 39.5780 - val_accuracy: 0.5021\n",
      "Epoch 37/50\n",
      "41/41 [==============================] - 0s 637us/step - loss: 0.6260 - accuracy: 0.6677 - val_loss: 26.1067 - val_accuracy: 0.5021\n",
      "Epoch 38/50\n",
      "41/41 [==============================] - 0s 609us/step - loss: 0.6239 - accuracy: 0.6685 - val_loss: 25.0007 - val_accuracy: 0.5021\n",
      "Epoch 39/50\n",
      "41/41 [==============================] - 0s 635us/step - loss: 0.6242 - accuracy: 0.6685 - val_loss: 24.3152 - val_accuracy: 0.5021\n",
      "Epoch 40/50\n",
      "41/41 [==============================] - 0s 672us/step - loss: 0.6251 - accuracy: 0.6685 - val_loss: 16.3225 - val_accuracy: 0.5021\n",
      "Epoch 41/50\n",
      "41/41 [==============================] - 0s 733us/step - loss: 0.6230 - accuracy: 0.6692 - val_loss: 30.0835 - val_accuracy: 0.5021\n",
      "Epoch 42/50\n",
      "41/41 [==============================] - 0s 682us/step - loss: 0.6231 - accuracy: 0.6700 - val_loss: 21.8596 - val_accuracy: 0.5021\n",
      "Epoch 43/50\n",
      "41/41 [==============================] - 0s 2ms/step - loss: 0.6222 - accuracy: 0.6677 - val_loss: 21.1210 - val_accuracy: 0.5021\n",
      "Epoch 44/50\n",
      "41/41 [==============================] - 0s 811us/step - loss: 0.6219 - accuracy: 0.6692 - val_loss: 23.4648 - val_accuracy: 0.5021\n",
      "Epoch 45/50\n",
      "41/41 [==============================] - 0s 719us/step - loss: 0.6222 - accuracy: 0.6700 - val_loss: 28.7358 - val_accuracy: 0.5021\n",
      "Epoch 46/50\n",
      "41/41 [==============================] - 0s 772us/step - loss: 0.6226 - accuracy: 0.6708 - val_loss: 26.4374 - val_accuracy: 0.5021\n",
      "Epoch 47/50\n",
      "41/41 [==============================] - 0s 775us/step - loss: 0.6209 - accuracy: 0.6677 - val_loss: 25.4508 - val_accuracy: 0.5021\n",
      "Epoch 48/50\n",
      "41/41 [==============================] - 0s 724us/step - loss: 0.6207 - accuracy: 0.6685 - val_loss: 18.1518 - val_accuracy: 0.5021\n",
      "Epoch 49/50\n",
      "41/41 [==============================] - 0s 658us/step - loss: 0.6200 - accuracy: 0.6700 - val_loss: 24.7321 - val_accuracy: 0.5021\n",
      "Epoch 50/50\n",
      "41/41 [==============================] - 0s 654us/step - loss: 0.6209 - accuracy: 0.6700 - val_loss: 17.3525 - val_accuracy: 0.5021\n"
     ]
    }
   ],
   "source": [
    "history = model.fit(X_train, y_train,\n",
    "                    epochs=50,\n",
    "                    validation_data=(X_valid, y_valid))"
   ]
  },
  {
   "cell_type": "code",
   "execution_count": 12,
   "metadata": {},
   "outputs": [
    {
     "data": {
      "text/plain": [
       "<Axes: >"
      ]
     },
     "execution_count": 12,
     "metadata": {},
     "output_type": "execute_result"
    },
    {
     "data": {
      "image/png": "[encoded data removed]",
      "text/plain": [
       "<Figure size 640x480 with 1 Axes>"
      ]
     },
     "metadata": {},
     "output_type": "display_data"
    }
   ],
   "source": [
    "import matplotlib.pyplot as plt\n",
    "\n",
    "pd.DataFrame(history.history).plot()"
   ]
  },
  {
   "cell_type": "code",
   "execution_count": null,
   "metadata": {},
   "outputs": [],
   "source": []
  }
 ],
 "metadata": {
  "kernelspec": {
   "display_name": "Python 3 (ipykernel)",
   "language": "python",
   "name": "python3"
  },
  "language_info": {
   "codemirror_mode": {
    "name": "ipython",
    "version": 3
   },
   "file_extension": ".py",
   "mimetype": "text/x-python",
   "name": "python",
   "nbconvert_exporter": "python",
   "pygments_lexer": "ipython3",
   "version": "3.11.5"
  }
 },
 "nbformat": 4,
 "nbformat_minor": 5
}
