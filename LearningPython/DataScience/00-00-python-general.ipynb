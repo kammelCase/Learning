{
 "cells": [
  {
   "cell_type": "code",
   "execution_count": 1,
   "id": "741ab0f7-2edb-4d12-8062-ed671f1f82a3",
   "metadata": {},
   "outputs": [],
   "source": [
    "# Doing some general python learning via Harvard's CS50\n",
    "# Felt a little dumb after we talked last and i really\n",
    "# wanted to brush up and become a little more proficient\n",
    "\n",
    "name = input(\"what's your name?\").strip()"
   ]
  },
  {
   "cell_type": "code",
   "execution_count": 2,
   "id": "bc2cbe3d-f326-42e2-90eb-7f254a89fc98",
   "metadata": {},
   "outputs": [
    {
     "data": {
      "text/plain": [
       "'mark'"
      ]
     },
     "execution_count": 2,
     "metadata": {},
     "output_type": "execute_result"
    }
   ],
   "source": [
    "name"
   ]
  },
  {
   "cell_type": "code",
   "execution_count": 3,
   "id": "3a0a0370-f8f0-4fc8-9f45-80e18b884a5b",
   "metadata": {
    "tags": []
   },
   "outputs": [
    {
     "data": {
      "text/plain": [
       "'Mark'"
      ]
     },
     "execution_count": 3,
     "metadata": {},
     "output_type": "execute_result"
    }
   ],
   "source": [
    "# Playing with str methods\n",
    "\n",
    "name.capitalize()"
   ]
  },
  {
   "cell_type": "code",
   "execution_count": 4,
   "id": "f0e33256-b66d-4c7c-9690-f50f623830ab",
   "metadata": {
    "tags": []
   },
   "outputs": [
    {
     "data": {
      "text/plain": [
       "3"
      ]
     },
     "execution_count": 4,
     "metadata": {},
     "output_type": "execute_result"
    }
   ],
   "source": [
    "name.index('k') #looks for first occurence of specified character"
   ]
  },
  {
   "cell_type": "code",
   "execution_count": 5,
   "id": "c997b731-6858-459d-ac97-4015b195a1f8",
   "metadata": {
    "tags": []
   },
   "outputs": [
    {
     "data": {
      "text/plain": [
       "True"
      ]
     },
     "execution_count": 5,
     "metadata": {},
     "output_type": "execute_result"
    }
   ],
   "source": [
    "name.isalpha() #bool for whether all are alphanumberic"
   ]
  },
  {
   "cell_type": "code",
   "execution_count": 6,
   "id": "8c25c1c2-4384-4e0d-a017-7ff63fea3af7",
   "metadata": {
    "tags": []
   },
   "outputs": [
    {
     "data": {
      "text/plain": [
       "False"
      ]
     },
     "execution_count": 6,
     "metadata": {},
     "output_type": "execute_result"
    }
   ],
   "source": [
    "name.isupper() #bool for whether all are uppercase"
   ]
  },
  {
   "cell_type": "code",
   "execution_count": 7,
   "id": "50273d01-56eb-4095-b0cc-f5d4f4bafa91",
   "metadata": {
    "tags": []
   },
   "outputs": [
    {
     "name": "stdout",
     "output_type": "stream",
     "text": [
      "hi, jon\n"
     ]
    }
   ],
   "source": [
    "# interesting that you can define a default input for def\n",
    "\n",
    "def hi(person='mark'):\n",
    "    print('hi,',person)\n",
    "\n",
    "hi('jon')"
   ]
  },
  {
   "cell_type": "code",
   "execution_count": 18,
   "id": "ac001e45-f973-49df-8acb-4b10562d6aa9",
   "metadata": {
    "tags": []
   },
   "outputs": [
    {
     "name": "stdout",
     "output_type": "stream",
     "text": [
      "meow\n",
      "meow\n",
      "meow\n",
      "bark\n",
      "bark\n",
      "bark\n"
     ]
    }
   ],
   "source": [
    "# print meow 3 times using a loop\n",
    "\n",
    "for i in range(3):\n",
    "    print('meow')\n",
    "    \n",
    "i = 3\n",
    "while i != 0:\n",
    "    print('bark')\n",
    "    i-=1"
   ]
  },
  {
   "cell_type": "code",
   "execution_count": 9,
   "id": "86c52827-e70c-4b64-943c-0e6785f7d89a",
   "metadata": {
    "tags": []
   },
   "outputs": [
    {
     "data": {
      "text/plain": [
       "'raaf'"
      ]
     },
     "execution_count": 9,
     "metadata": {},
     "output_type": "execute_result"
    }
   ],
   "source": [
    "people = ['jon', 'mark', 'carolina', 'nour']\n",
    "\n",
    "jo = people[0][0:2]\n",
    "ma = people[1][0:2]\n",
    "carol = people[2][0:5]\n",
    "no = people[3][0:2]\n",
    "\n",
    "more = ['el', 'arielle', 'luke']\n",
    "\n",
    "listOne = [people, more]\n",
    "\n",
    "ari = listOne[1][1][0:3]\n",
    "ari\n",
    "\n",
    "parents = ['sonya', 'raafat']\n",
    "\n",
    "listTwo = [listOne, parents]\n",
    "listTwo\n",
    "\n",
    "# let's print raaf\n",
    "\n",
    "listTwo[1][1][0:4]"
   ]
  },
  {
   "cell_type": "code",
   "execution_count": 10,
   "id": "b0de4f7f-985f-450e-9170-4b05065442b5",
   "metadata": {
    "tags": []
   },
   "outputs": [
    {
     "data": {
      "text/plain": [
       "'ari'"
      ]
     },
     "execution_count": 10,
     "metadata": {},
     "output_type": "execute_result"
    }
   ],
   "source": [
    "# now lets do ari again\n",
    "\n",
    "ari = listTwo[0][1][1][0:3]\n",
    "ari"
   ]
  },
  {
   "cell_type": "code",
   "execution_count": 20,
   "id": "4f6ce63f-cf2d-4e03-9c43-e88037b0fe2b",
   "metadata": {
    "tags": []
   },
   "outputs": [
    {
     "name": "stdout",
     "output_type": "stream",
     "text": [
      "jo\n",
      "ma\n",
      "ca\n",
      "no\n",
      "el\n",
      "ar\n",
      "lu\n"
     ]
    }
   ],
   "source": [
    "# lets print the first letter of ever name in listOne\n",
    "# innefecient way!\n",
    "\n",
    "for j in range(len(people)):\n",
    "    print(people[j][0:2])\n",
    "for k in range(len(more)):\n",
    "    print(more[k][0:2])"
   ]
  },
  {
   "cell_type": "code",
   "execution_count": 12,
   "id": "2b5b38da-12f4-4c44-9200-5b305f974e69",
   "metadata": {
    "tags": []
   },
   "outputs": [
    {
     "name": "stdout",
     "output_type": "stream",
     "text": [
      "jo\n",
      "ma\n",
      "ca\n",
      "no\n",
      "el\n",
      "ar\n",
      "lu\n"
     ]
    }
   ],
   "source": [
    "# above was really sloppy\n",
    "# this is way easier + efficient\n",
    "\n",
    "for a in listOne:\n",
    "    for char2 in a:\n",
    "        print(char2[0:2])"
   ]
  },
  {
   "cell_type": "code",
   "execution_count": 13,
   "id": "6a056273-364f-469b-9f12-639dbc7bd0ef",
   "metadata": {
    "tags": []
   },
   "outputs": [
    {
     "name": "stdout",
     "output_type": "stream",
     "text": [
      "jo\n",
      "ma\n",
      "ca\n",
      "no\n",
      "el\n",
      "ar\n",
      "lu\n",
      "s\n",
      "o\n",
      "n\n",
      "y\n",
      "a\n",
      "r\n",
      "a\n",
      "a\n",
      "f\n",
      "a\n",
      "t\n"
     ]
    }
   ],
   "source": [
    "for a in listTwo:\n",
    "    for b in a:\n",
    "        for char2 in b:\n",
    "            print(char2[0:2])\n",
    "            \n",
    "# data shape differs as we go down each list tree\n",
    "# so instead of printing so and ra it just iterates\n",
    "# letter by letter"
   ]
  },
  {
   "cell_type": "code",
   "execution_count": 14,
   "id": "a1b51aa4-d1c1-42e8-8191-f7488dee3a26",
   "metadata": {
    "tags": []
   },
   "outputs": [],
   "source": [
    "# to solve this, i assume i'd have to write code that\n",
    "# uses if statements to stop when it reaches the final\n",
    "# string in each list, then make a slice\n",
    "# jon, any ideas on how i can do that?"
   ]
  },
  {
   "cell_type": "code",
   "execution_count": 15,
   "id": "12c49da5-f4e4-4f46-bff8-8ff0d4756522",
   "metadata": {
    "tags": []
   },
   "outputs": [
    {
     "data": {
      "text/plain": [
       "'jo'"
      ]
     },
     "execution_count": 15,
     "metadata": {},
     "output_type": "execute_result"
    }
   ],
   "source": [
    "# curious about how this works with dicts\n",
    "\n",
    "\n",
    "friends = [\n",
    "    {'name':'jon','location':'italy','profession':'genius'},\n",
    "    {'name':'el','location':'florence','profession':'artist'},\n",
    "    {'name':'arielle','location':'bedford','profession':'sales'}\n",
    "]\n",
    "\n",
    "family = [\n",
    "    {'name':'carolina','location':'peabody','profession':'admin'},\n",
    "    {'name':'nour','location':'crib','profession':'baby'}\n",
    "]\n",
    "\n",
    "everyone = [friends, family]\n",
    "\n",
    "everyone[0][0]['name'][0:2]"
   ]
  },
  {
   "cell_type": "code",
   "execution_count": 21,
   "id": "18f332cf-9a24-4df9-8916-be34532cb02e",
   "metadata": {
    "tags": []
   },
   "outputs": [
    {
     "name": "stdout",
     "output_type": "stream",
     "text": [
      "jo\n",
      "it\n",
      "ge\n",
      "el\n",
      "fl\n",
      "ar\n",
      "ar\n",
      "be\n",
      "sa\n",
      "ca\n",
      "pe\n",
      "ad\n",
      "no\n",
      "cr\n",
      "ba\n"
     ]
    }
   ],
   "source": [
    "# ah okay, because the index in a dict is also a string\n",
    "# need to use that instead\n",
    "\n",
    "# trying to just print first two letters of every value only\n",
    "\n",
    "for a in everyone:\n",
    "    for b in a:\n",
    "        for c in b.values():\n",
    "            print(c[0:2])\n",
    "\n",
    "# takeaway: i can use .values method to access values in a dict\n",
    "            \n",
    "# took a while, and not sure if this is the only way\n",
    "# but kept getting just the indexes\n",
    "# using .values() method on the last for loop let me\n",
    "# access the values instead of indexes"
   ]
  },
  {
   "cell_type": "code",
   "execution_count": null,
   "id": "2059cff2-8c07-4f55-97d2-6a290aaa5f2b",
   "metadata": {},
   "outputs": [],
   "source": []
  }
 ],
 "metadata": {
  "kernelspec": {
   "display_name": "Python 3 (ipykernel)",
   "language": "python",
   "name": "python3"
  },
  "language_info": {
   "codemirror_mode": {
    "name": "ipython",
    "version": 3
   },
   "file_extension": ".py",
   "mimetype": "text/x-python",
   "name": "python",
   "nbconvert_exporter": "python",
   "pygments_lexer": "ipython3",
   "version": "3.11.5"
  }
 },
 "nbformat": 4,
 "nbformat_minor": 5
}
