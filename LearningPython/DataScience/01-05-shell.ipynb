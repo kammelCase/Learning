{
 "cells": [
  {
   "cell_type": "code",
   "execution_count": 1,
   "id": "7d896d22-767b-449b-af9c-1bc46d316b99",
   "metadata": {
    "tags": []
   },
   "outputs": [
    {
     "name": "stdout",
     "output_type": "stream",
     "text": [
      "01-01-help.ipynb           history\n",
      "01-03-magic commands.ipynb test.py\n",
      "01-04-InputOutput.ipynb    whoa.txt\n",
      "01-05-shell.ipynb\n"
     ]
    }
   ],
   "source": [
    "# using shell directly in jupyter with !\n",
    "\n",
    "!ls"
   ]
  },
  {
   "cell_type": "code",
   "execution_count": 2,
   "id": "0b12810d-c08b-4d75-a872-1c6d72e1f770",
   "metadata": {
    "tags": []
   },
   "outputs": [
    {
     "name": "stdout",
     "output_type": "stream",
     "text": [
      "x is 12\n",
      "[]\n",
      "made file whoa.txt!\n"
     ]
    }
   ],
   "source": [
    "import random\n",
    "\n",
    "# creating some code that rolls a random number between 10 and 20\n",
    "# if number is < 15, uses shell to make a new file called whoa.txt,\n",
    "# otherwise !pwd\n",
    "\n",
    "make = !touch whoa.txt\n",
    "directory = !pwd\n",
    "\n",
    "x = random.randint(10, 20)\n",
    "print(\"x is\", x)\n",
    "\n",
    "if x < 15:\n",
    "    print(make)\n",
    "    print('made file whoa.txt!')\n",
    "else:\n",
    "    print(directory)"
   ]
  },
  {
   "cell_type": "code",
   "execution_count": 3,
   "id": "8c246193-8be3-4dd4-898b-a9a91d21ba8c",
   "metadata": {
    "tags": []
   },
   "outputs": [
    {
     "name": "stdout",
     "output_type": "stream",
     "text": [
      "['/Users/mark/Desktop/softs/LearningPython/DataScience']\n"
     ]
    }
   ],
   "source": [
    "print(directory)"
   ]
  },
  {
   "cell_type": "code",
   "execution_count": 5,
   "id": "699b771b-a10b-4240-8f75-e336070233b6",
   "metadata": {
    "tags": []
   },
   "outputs": [
    {
     "data": {
      "text/plain": [
       "\u001b[0;31mSignature:\u001b[0m \u001b[0mdirectory\u001b[0m\u001b[0;34m.\u001b[0m\u001b[0mgrep\u001b[0m\u001b[0;34m(\u001b[0m\u001b[0mpattern\u001b[0m\u001b[0;34m,\u001b[0m \u001b[0mprune\u001b[0m\u001b[0;34m=\u001b[0m\u001b[0;32mFalse\u001b[0m\u001b[0;34m,\u001b[0m \u001b[0mfield\u001b[0m\u001b[0;34m=\u001b[0m\u001b[0;32mNone\u001b[0m\u001b[0;34m)\u001b[0m\u001b[0;34m\u001b[0m\u001b[0;34m\u001b[0m\u001b[0m\n",
       "\u001b[0;31mDocstring:\u001b[0m\n",
       "Return all strings matching 'pattern' (a regex or callable)\n",
       "\n",
       "This is case-insensitive. If prune is true, return all items\n",
       "NOT matching the pattern.\n",
       "\n",
       "If field is specified, the match must occur in the specified\n",
       "whitespace-separated field.\n",
       "\n",
       "Examples::\n",
       "\n",
       "    a.grep( lambda x: x.startswith('C') )\n",
       "    a.grep('Cha.*log', prune=1)\n",
       "    a.grep('chm', field=-1)\n",
       "\u001b[0;31mFile:\u001b[0m      ~/anaconda3/lib/python3.11/site-packages/IPython/utils/text.py\n",
       "\u001b[0;31mType:\u001b[0m      method"
      ]
     },
     "metadata": {},
     "output_type": "display_data"
    }
   ],
   "source": [
    "directory.grep?"
   ]
  },
  {
   "cell_type": "code",
   "execution_count": 8,
   "id": "4ad447ef-5384-4861-a0ca-e339054b0747",
   "metadata": {
    "tags": []
   },
   "outputs": [
    {
     "data": {
      "text/plain": [
       "[]"
      ]
     },
     "execution_count": 8,
     "metadata": {},
     "output_type": "execute_result"
    }
   ],
   "source": [
    "directory.grep('01', field=1)\n",
    "\n",
    "# unsure why, but i cannot get this to work\n",
    "# to clarify, i'm trying to get this to search+print\n",
    "# all files in the current director that have '01' \n",
    "# in them, and there are definitely a few"
   ]
  },
  {
   "cell_type": "code",
   "execution_count": null,
   "id": "e4f737ff-bd15-476a-ad64-e14f260e6609",
   "metadata": {},
   "outputs": [],
   "source": []
  }
 ],
 "metadata": {
  "kernelspec": {
   "display_name": "Python 3 (ipykernel)",
   "language": "python",
   "name": "python3"
  },
  "language_info": {
   "codemirror_mode": {
    "name": "ipython",
    "version": 3
   },
   "file_extension": ".py",
   "mimetype": "text/x-python",
   "name": "python",
   "nbconvert_exporter": "python",
   "pygments_lexer": "ipython3",
   "version": "3.11.5"
  }
 },
 "nbformat": 4,
 "nbformat_minor": 5
}
