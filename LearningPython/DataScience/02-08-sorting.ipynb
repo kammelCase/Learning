{
 "cells": [
  {
   "cell_type": "code",
   "execution_count": 31,
   "id": "524f2cb3",
   "metadata": {},
   "outputs": [
    {
     "data": {
      "text/plain": [
       "array([1, 2, 3, 4, 4, 5, 5])"
      ]
     },
     "execution_count": 31,
     "metadata": {},
     "output_type": "execute_result"
    }
   ],
   "source": [
    "# sorting\n",
    "# python has built in sort funcs, but np's are faster accross the board\n",
    "\n",
    "import numpy as np\n",
    "\n",
    "x = np.array([5,4,2,3,1,5,4])\n",
    "np.sort(x)"
   ]
  },
  {
   "cell_type": "code",
   "execution_count": 32,
   "id": "105048c6",
   "metadata": {},
   "outputs": [
    {
     "name": "stdout",
     "output_type": "stream",
     "text": [
      "[1 2 3 4 4 5 5]\n"
     ]
    }
   ],
   "source": [
    "# you can also sort in place, this writes the sort to x automatically\n",
    "\n",
    "x.sort()\n",
    "print(x)"
   ]
  },
  {
   "cell_type": "code",
   "execution_count": 33,
   "id": "03be018d",
   "metadata": {},
   "outputs": [
    {
     "data": {
      "text/plain": [
       "array([1, 2, 3, 4, 4, 5, 5])"
      ]
     },
     "execution_count": 33,
     "metadata": {},
     "output_type": "execute_result"
    }
   ],
   "source": [
    "# np.argsort() returns the indices of the sorted elements\n",
    "\n",
    "x = np.array([5,4,2,3,1,5,4])\n",
    "i = np.argsort(x) # creates array of indices in order by value\n",
    "\n",
    "x[i] # x at i will return values in order"
   ]
  },
  {
   "cell_type": "code",
   "execution_count": 38,
   "id": "1ff8b124",
   "metadata": {},
   "outputs": [
    {
     "name": "stdout",
     "output_type": "stream",
     "text": [
      "[[0 1 1 0]\n",
      " [1 3 2 2]\n",
      " [2 4 3 2]\n",
      " [4 4 3 3]]\n",
      "\n",
      "\n",
      "[[3 3 4 4]\n",
      " [1 1 1 2]\n",
      " [0 2 3 3]\n",
      " [0 2 2 4]]\n"
     ]
    }
   ],
   "source": [
    "# sorting by axis\n",
    "\n",
    "x1 = np.random.randint(5, size=(4,4))\n",
    "\n",
    "print(np.sort(x1, axis=0)) #column sort\n",
    "print(\"\\n\")\n",
    "print(np.sort(x1, axis=1)) #row sort"
   ]
  },
  {
   "cell_type": "code",
   "execution_count": 46,
   "id": "dfaeeebd",
   "metadata": {},
   "outputs": [],
   "source": [
    "# partitioning: np.partition for finding the n smallest items in an array\n",
    "# this will front load them in the array\n",
    "# note: this will not sort them, just group/partition\n",
    "\n",
    "x2 = np.random.randint(10, size=(7,7))"
   ]
  },
  {
   "cell_type": "code",
   "execution_count": 50,
   "id": "01018b29",
   "metadata": {},
   "outputs": [
    {
     "data": {
      "text/plain": [
       "array([[3, 2, 1, 0, 3, 2, 2],\n",
       "       [1, 3, 1, 2, 2, 4, 3],\n",
       "       [0, 0, 5, 2, 5, 5, 1],\n",
       "       [4, 0, 6, 4, 5, 6, 5],\n",
       "       [5, 4, 7, 6, 7, 6, 5],\n",
       "       [6, 6, 7, 9, 8, 7, 5],\n",
       "       [7, 6, 9, 9, 8, 8, 7]])"
      ]
     },
     "execution_count": 50,
     "metadata": {},
     "output_type": "execute_result"
    }
   ],
   "source": [
    "np.partition(x2, 4, axis=0) #sorted by columns"
   ]
  },
  {
   "cell_type": "code",
   "execution_count": null,
   "id": "493f0cc6",
   "metadata": {},
   "outputs": [],
   "source": []
  }
 ],
 "metadata": {
  "kernelspec": {
   "display_name": "Python 3 (ipykernel)",
   "language": "python",
   "name": "python3"
  },
  "language_info": {
   "codemirror_mode": {
    "name": "ipython",
    "version": 3
   },
   "file_extension": ".py",
   "mimetype": "text/x-python",
   "name": "python",
   "nbconvert_exporter": "python",
   "pygments_lexer": "ipython3",
   "version": "3.11.5"
  }
 },
 "nbformat": 4,
 "nbformat_minor": 5
}
