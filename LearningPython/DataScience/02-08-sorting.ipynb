{
 "cells": [
  {
   "cell_type": "code",
   "execution_count": 31,
   "id": "524f2cb3",
   "metadata": {},
   "outputs": [
    {
     "data": {
      "text/plain": [
       "array([1, 2, 3, 4, 4, 5, 5])"
      ]
     },
     "execution_count": 31,
     "metadata": {},
     "output_type": "execute_result"
    }
   ],
   "source": [
    "# sorting\n",
    "# python has built in sort funcs, but np's are faster accross the board\n",
    "\n",
    "import numpy as np\n",
    "\n",
    "x = np.array([5,4,2,3,1,5,4])\n",
    "np.sort(x)"
   ]
  },
  {
   "cell_type": "code",
   "execution_count": 32,
   "id": "105048c6",
   "metadata": {},
   "outputs": [
    {
     "name": "stdout",
     "output_type": "stream",
     "text": [
      "[1 2 3 4 4 5 5]\n"
     ]
    }
   ],
   "source": [
    "# you can also sort in place, this writes the sort to x automatically\n",
    "\n",
    "x.sort()\n",
    "print(x)"
   ]
  },
  {
   "cell_type": "code",
   "execution_count": 33,
   "id": "03be018d",
   "metadata": {},
   "outputs": [
    {
     "data": {
      "text/plain": [
       "array([1, 2, 3, 4, 4, 5, 5])"
      ]
     },
     "execution_count": 33,
     "metadata": {},
     "output_type": "execute_result"
    }
   ],
   "source": [
    "# np.argsort() returns the indices of the sorted elements\n",
    "\n",
    "x = np.array([5,4,2,3,1,5,4])\n",
    "i = np.argsort(x) # creates array of indices in order by value\n",
    "\n",
    "x[i] # x at i will return values in order"
   ]
  },
  {
   "cell_type": "code",
   "execution_count": 38,
   "id": "1ff8b124",
   "metadata": {},
   "outputs": [
    {
     "name": "stdout",
     "output_type": "stream",
     "text": [
      "[[0 1 1 0]\n",
      " [1 3 2 2]\n",
      " [2 4 3 2]\n",
      " [4 4 3 3]]\n",
      "\n",
      "\n",
      "[[3 3 4 4]\n",
      " [1 1 1 2]\n",
      " [0 2 3 3]\n",
      " [0 2 2 4]]\n"
     ]
    }
   ],
   "source": [
    "# sorting by axis\n",
    "\n",
    "x1 = np.random.randint(5, size=(4,4))\n",
    "\n",
    "print(np.sort(x1, axis=0)) #column sort\n",
    "print(\"\\n\")\n",
    "print(np.sort(x1, axis=1)) #row sort"
   ]
  },
  {
   "cell_type": "code",
   "execution_count": 46,
   "id": "dfaeeebd",
   "metadata": {},
   "outputs": [],
   "source": [
    "# partitioning: np.partition for finding the n smallest items in an array\n",
    "# this will front load them in the array\n",
    "# note: this will not sort them, just group/partition\n",
    "\n",
    "x2 = np.random.randint(10, size=(7,7))"
   ]
  },
  {
   "cell_type": "code",
   "execution_count": 50,
   "id": "01018b29",
   "metadata": {},
   "outputs": [
    {
     "data": {
      "text/plain": [
       "array([[3, 2, 1, 0, 3, 2, 2],\n",
       "       [1, 3, 1, 2, 2, 4, 3],\n",
       "       [0, 0, 5, 2, 5, 5, 1],\n",
       "       [4, 0, 6, 4, 5, 6, 5],\n",
       "       [5, 4, 7, 6, 7, 6, 5],\n",
       "       [6, 6, 7, 9, 8, 7, 5],\n",
       "       [7, 6, 9, 9, 8, 8, 7]])"
      ]
     },
     "execution_count": 50,
     "metadata": {},
     "output_type": "execute_result"
    }
   ],
   "source": [
    "np.partition(x2, 4, axis=0) #sorted by columns"
   ]
  },
  {
   "cell_type": "code",
   "execution_count": 57,
   "id": "493f0cc6",
   "metadata": {},
   "outputs": [
    {
     "data": {
      "text/plain": [
       "array([[0.74031317, 0.69471996],\n",
       "       [0.99045596, 0.77078635],\n",
       "       [0.37791433, 0.88494052],\n",
       "       [0.24982574, 0.81505023],\n",
       "       [0.53666516, 0.00721805],\n",
       "       [0.71110832, 0.70607516],\n",
       "       [0.9504958 , 0.0728133 ],\n",
       "       [0.28872047, 0.23160824],\n",
       "       [0.76476435, 0.68912717],\n",
       "       [0.10909104, 0.21679856]])"
      ]
     },
     "execution_count": 57,
     "metadata": {},
     "output_type": "execute_result"
    }
   ],
   "source": [
    "# creating a series of coordinates\n",
    "\n",
    "X = np.random.random((10,2))\n",
    "X"
   ]
  },
  {
   "cell_type": "code",
   "execution_count": 58,
   "id": "13afd4e6",
   "metadata": {},
   "outputs": [
    {
     "data": {
      "image/png": "[encoded data removed]",
      "text/plain": [
       "<Figure size 640x480 with 1 Axes>"
      ]
     },
     "metadata": {},
     "output_type": "display_data"
    }
   ],
   "source": [
    "# graphing them out with matplotlib\n",
    "\n",
    "%matplotlib inline\n",
    "import matplotlib.pyplot as plt\n",
    "import seaborn; seaborn.set() # Plot styling\n",
    "\n",
    "plt.scatter(X[:, 0], X[:, 1], s=100);"
   ]
  },
  {
   "cell_type": "code",
   "execution_count": 59,
   "id": "6b8449e4",
   "metadata": {},
   "outputs": [],
   "source": [
    "# here is the maths equation for squared distance between two points\n",
    "\n",
    "dist_sq = np.sum((X[:, np.newaxis, :] - X[np.newaxis, :, :]) ** 2, axis=-1)"
   ]
  },
  {
   "cell_type": "code",
   "execution_count": 62,
   "id": "5b10b8c8",
   "metadata": {},
   "outputs": [
    {
     "data": {
      "text/plain": [
       "(10, 10)"
      ]
     },
     "execution_count": 62,
     "metadata": {},
     "output_type": "execute_result"
    }
   ],
   "source": [
    "dist_sq.shape"
   ]
  },
  {
   "cell_type": "code",
   "execution_count": 63,
   "id": "7b3028b3",
   "metadata": {},
   "outputs": [
    {
     "data": {
      "text/plain": [
       "array([0., 0., 0., 0., 0., 0., 0., 0., 0., 0.])"
      ]
     },
     "execution_count": 63,
     "metadata": {},
     "output_type": "execute_result"
    }
   ],
   "source": [
    "# this checks to make sure that the equation above is correct,\n",
    "# as the distance between each point and itself is 0.\n",
    "\n",
    "dist_sq.diagonal()"
   ]
  },
  {
   "cell_type": "code",
   "execution_count": 70,
   "id": "f2635563",
   "metadata": {},
   "outputs": [
    {
     "data": {
      "text/plain": [
       "array([[0, 8, 5, 1, 2, 3, 7, 6, 4, 9],\n",
       "       [1, 8, 0, 5, 2, 6, 3, 7, 4, 9],\n",
       "       [2, 3, 5, 0, 8, 1, 7, 9, 4, 6],\n",
       "       [3, 2, 5, 0, 8, 7, 9, 1, 4, 6],\n",
       "       [4, 7, 6, 9, 0, 8, 5, 3, 1, 2],\n",
       "       [5, 0, 8, 1, 2, 3, 7, 6, 4, 9],\n",
       "       [6, 4, 8, 0, 5, 7, 1, 9, 2, 3],\n",
       "       [7, 9, 4, 3, 5, 0, 2, 8, 6, 1],\n",
       "       [8, 0, 5, 1, 2, 3, 6, 7, 4, 9],\n",
       "       [9, 7, 4, 3, 2, 5, 0, 8, 6, 1]])"
      ]
     },
     "execution_count": 70,
     "metadata": {},
     "output_type": "execute_result"
    }
   ],
   "source": [
    "nearest = np.argsort(dist_sq)\n",
    "nearest"
   ]
  },
  {
   "cell_type": "code",
   "execution_count": 65,
   "id": "c54c7d42",
   "metadata": {},
   "outputs": [],
   "source": [
    "# technically, all we need is the nearest K number of neighbors\n",
    "# so we don't have to sort the entire array\n",
    "\n",
    "K = 2\n",
    "nearest_partition = np.argpartition(dist_sq, K+1, axis=1)"
   ]
  },
  {
   "cell_type": "code",
   "execution_count": 67,
   "id": "944fae96",
   "metadata": {},
   "outputs": [
    {
     "data": {
      "image/png": "[encoded data removed]",
      "text/plain": [
       "<Figure size 640x480 with 1 Axes>"
      ]
     },
     "metadata": {},
     "output_type": "display_data"
    }
   ],
   "source": [
    "# this part does have me **quite** lost tbh.\n",
    "\n",
    "plt.scatter(X[:, 0], X[:, 1], s=100)\n",
    "\n",
    "for i in range(X.shape[0]):\n",
    "    for j in nearest_partition[i, :K+1]:\n",
    "        plt.plot(*zip(X[j], X[i]), color='black')"
   ]
  },
  {
   "cell_type": "code",
   "execution_count": null,
   "metadata": {},
   "outputs": [],
   "source": [
    "# this is indeed a lot of mental gymnastics :-0"
   ]
  }
 ],
 "metadata": {
  "kernelspec": {
   "display_name": "Python 3 (ipykernel)",
   "language": "python",
   "name": "python3"
  },
  "language_info": {
   "codemirror_mode": {
    "name": "ipython",
    "version": 3
   },
   "file_extension": ".py",
   "mimetype": "text/x-python",
   "name": "python",
   "nbconvert_exporter": "python",
   "pygments_lexer": "ipython3",
   "version": "3.11.5"
  }
 },
 "nbformat": 4,
 "nbformat_minor": 5
}
