{
 "cells": [
  {
   "cell_type": "code",
   "execution_count": 1,
   "id": "4a406f1c-557e-420c-b622-32a2ab4ba165",
   "metadata": {
    "tags": []
   },
   "outputs": [],
   "source": [
    "# learning about In and Out objects in Jupyter\n",
    "\n",
    "import math"
   ]
  },
  {
   "cell_type": "code",
   "execution_count": 2,
   "id": "e396befb-4bcf-4173-9e86-9dcd50e4dea8",
   "metadata": {
    "tags": []
   },
   "outputs": [
    {
     "data": {
      "text/plain": [
       "0.9092974268256817"
      ]
     },
     "execution_count": 2,
     "metadata": {},
     "output_type": "execute_result"
    }
   ],
   "source": [
    "math.sin(2)"
   ]
  },
  {
   "cell_type": "code",
   "execution_count": 3,
   "id": "50d46b16-41c1-41cb-b635-7a24b9a351e2",
   "metadata": {
    "tags": []
   },
   "outputs": [
    {
     "data": {
      "text/plain": [
       "-0.4161468365471424"
      ]
     },
     "execution_count": 3,
     "metadata": {},
     "output_type": "execute_result"
    }
   ],
   "source": [
    "math.cos(2)"
   ]
  },
  {
   "cell_type": "code",
   "execution_count": 4,
   "id": "6c4a936e-cc21-43f3-a5db-4ca3d7a18ed8",
   "metadata": {
    "tags": []
   },
   "outputs": [
    {
     "name": "stdout",
     "output_type": "stream",
     "text": [
      "['', '# learning about In and Out objects in Jupyter\\n\\nimport math', 'math.sin(2)', 'math.cos(2)', 'print(In)']\n"
     ]
    }
   ],
   "source": [
    "print(In)"
   ]
  },
  {
   "cell_type": "code",
   "execution_count": 5,
   "id": "8184bc52-83a4-45d5-b880-b541990ca27a",
   "metadata": {
    "tags": []
   },
   "outputs": [
    {
     "name": "stdout",
     "output_type": "stream",
     "text": [
      "math.sin(2)\n",
      "0.9092974268256817\n"
     ]
    }
   ],
   "source": [
    "print(In[2])\n",
    "print(Out[2])"
   ]
  },
  {
   "cell_type": "code",
   "execution_count": 6,
   "id": "b5bb0d02-b411-4cd7-819b-0bb5e358d7dd",
   "metadata": {
    "tags": []
   },
   "outputs": [],
   "source": [
    "# i wonder how it'll show for defining a function\n",
    "\n",
    "def thingy(a):\n",
    "    a*=2\n",
    "    return a"
   ]
  },
  {
   "cell_type": "code",
   "execution_count": 9,
   "id": "828b6bf6-7b18-44ba-af67-20dcce9d171c",
   "metadata": {
    "tags": []
   },
   "outputs": [
    {
     "name": "stdout",
     "output_type": "stream",
     "text": [
      "Index Error, as expected :-D\n"
     ]
    }
   ],
   "source": [
    "try:\n",
    "    print(In[10])\n",
    "except IndexError:\n",
    "    print(\"Index Error, as expected :-D\")"
   ]
  },
  {
   "cell_type": "code",
   "execution_count": 10,
   "id": "609e9a5b-1d1d-4674-b657-f09eeaaf1a6c",
   "metadata": {
    "tags": []
   },
   "outputs": [
    {
     "name": "stdout",
     "output_type": "stream",
     "text": [
      "Seems like trying to print an Out where there was none is bad.\n",
      "    so here we are. Yep...\n"
     ]
    }
   ],
   "source": [
    "try:\n",
    "    print(Out[10])\n",
    "except KeyError:\n",
    "    print(\"\"\"Seems like trying to print an Out where there was none is bad.\n",
    "    so here we are. Yep...\"\"\")"
   ]
  },
  {
   "cell_type": "code",
   "execution_count": 11,
   "id": "645e0078-b4da-482b-aeff-326e37013ed6",
   "metadata": {
    "tags": []
   },
   "outputs": [
    {
     "name": "stdout",
     "output_type": "stream",
     "text": [
      "-0.4161468365471424\n",
      "0.9092974268256817\n",
      "0.4931505902785393\n",
      "True\n"
     ]
    }
   ],
   "source": [
    "# we can use the _ variable to access the most previous output\n",
    "\n",
    "print(_) #cos2\n",
    "print(__) #sin2\n",
    "print(_ + __) #adding them\n",
    "print(_ < __) #booling them"
   ]
  },
  {
   "cell_type": "code",
   "execution_count": 12,
   "id": "2d3b7367-653c-4f6d-95b1-4f83f34cd3f4",
   "metadata": {
    "tags": []
   },
   "outputs": [
    {
     "name": "stdout",
     "output_type": "stream",
     "text": [
      "-0.4161468365471424\n",
      "0.9092974268256817\n"
     ]
    }
   ],
   "source": [
    "# use ; at the end of a statement to suppress the output\n",
    "# let's say i want to keep cos and sin in my recent memory\n",
    "\n",
    "def multi(a, b):\n",
    "    a*=b\n",
    "    return a\n",
    "\n",
    "multi(2, 5);\n",
    "\n",
    "print(_) #cos2 still in previous output\n",
    "print(__) #sin2 still in previous output (2)"
   ]
  },
  {
   "cell_type": "code",
   "execution_count": 13,
   "id": "2eb4fb12-f657-455c-81e9-bf59f6195f00",
   "metadata": {
    "tags": []
   },
   "outputs": [],
   "source": [
    "# recap!\n",
    "\n",
    "%history -n 28"
   ]
  },
  {
   "cell_type": "code",
   "execution_count": 14,
   "id": "2369547b-5eb8-4d2e-94de-86bd89fd5046",
   "metadata": {
    "tags": []
   },
   "outputs": [
    {
     "data": {
      "text/plain": [
       "\u001b[0;31mDocstring:\u001b[0m\n",
       "::\n",
       "\n",
       "  %history [-n] [-o] [-p] [-t] [-f FILENAME] [-g [PATTERN ...]]\n",
       "               [-l [LIMIT]] [-u]\n",
       "               [range ...]\n",
       "\n",
       "Print input history (_i<n> variables), with most recent last.\n",
       "\n",
       "By default, input history is printed without line numbers so it can be\n",
       "directly pasted into an editor. Use -n to show them.\n",
       "\n",
       "By default, all input history from the current session is displayed.\n",
       "Ranges of history can be indicated using the syntax:\n",
       "\n",
       "``4``\n",
       "    Line 4, current session\n",
       "``4-6``\n",
       "    Lines 4-6, current session\n",
       "``243/1-5``\n",
       "    Lines 1-5, session 243\n",
       "``~2/7``\n",
       "    Line 7, session 2 before current\n",
       "``~8/1-~6/5``\n",
       "    From the first line of 8 sessions ago, to the fifth line of 6\n",
       "    sessions ago.\n",
       "\n",
       "Multiple ranges can be entered, separated by spaces\n",
       "\n",
       "The same syntax is used by %macro, %save, %edit, %rerun\n",
       "\n",
       "Examples\n",
       "--------\n",
       "::\n",
       "\n",
       "  In [6]: %history -n 4-6\n",
       "  4:a = 12\n",
       "  5:print a**2\n",
       "  6:%history -n 4-6\n",
       "\n",
       "positional arguments:\n",
       "  range\n",
       "\n",
       "options:\n",
       "  -n                  print line numbers for each input. This feature is only\n",
       "                      available if numbered prompts are in use.\n",
       "  -o                  also print outputs for each input.\n",
       "  -p                  print classic '>>>' python prompts before each input.\n",
       "                      This is useful for making documentation, and in\n",
       "                      conjunction with -o, for producing doctest-ready output.\n",
       "  -t                  print the 'translated' history, as IPython understands\n",
       "                      it. IPython filters your input and converts it all into\n",
       "                      valid Python source before executing it (things like\n",
       "                      magics or aliases are turned into function calls, for\n",
       "                      example). With this option, you'll see the native\n",
       "                      history instead of the user-entered version: '%cd /'\n",
       "                      will be seen as 'get_ipython().run_line_magic(\"cd\",\n",
       "                      \"/\")' instead of '%cd /'.\n",
       "  -f FILENAME         FILENAME: instead of printing the output to the screen,\n",
       "                      redirect it to the given file. The file is always\n",
       "                      overwritten, though *when it can*, IPython asks for\n",
       "                      confirmation first. In particular, running the command\n",
       "                      'history -f FILENAME' from the IPython Notebook\n",
       "                      interface will replace FILENAME even if it already\n",
       "                      exists *without* confirmation.\n",
       "  -g <[PATTERN ...]>  treat the arg as a glob pattern to search for in (full)\n",
       "                      history. This includes the saved history (almost all\n",
       "                      commands ever written). The pattern may contain '?' to\n",
       "                      match one unknown character and '*' to match any number\n",
       "                      of unknown characters. Use '%hist -g' to show full saved\n",
       "                      history (may be very long).\n",
       "  -l <[LIMIT]>        get the last n lines from all sessions. Specify n as a\n",
       "                      single arg, or the default is the last 10 lines.\n",
       "  -u                  when searching history using `-g`, show only unique\n",
       "                      history.\n",
       "\u001b[0;31mFile:\u001b[0m      ~/anaconda3/lib/python3.11/site-packages/IPython/core/magics/history.py"
      ]
     },
     "metadata": {},
     "output_type": "display_data"
    }
   ],
   "source": [
    "%history?"
   ]
  },
  {
   "cell_type": "code",
   "execution_count": 16,
   "id": "4ad2ec43-3a48-4dae-9515-f8700a29e679",
   "metadata": {
    "tags": []
   },
   "outputs": [
    {
     "name": "stdin",
     "output_type": "stream",
     "text": [
      "File 'history' exists. Overwrite?  y\n"
     ]
    },
    {
     "name": "stdout",
     "output_type": "stream",
     "text": [
      "Overwriting file.\n"
     ]
    }
   ],
   "source": [
    "%history -t -f history"
   ]
  },
  {
   "cell_type": "code",
   "execution_count": 17,
   "id": "223b9683-a657-4a09-8e67-1cd96c3fbaf7",
   "metadata": {
    "tags": []
   },
   "outputs": [
    {
     "ename": "SyntaxError",
     "evalue": "invalid syntax (374090087.py, line 1)",
     "output_type": "error",
     "traceback": [
      "\u001b[0;36m  Cell \u001b[0;32mIn[17], line 1\u001b[0;36m\u001b[0m\n\u001b[0;31m    stuff = (%history -n 23)\u001b[0m\n\u001b[0m             ^\u001b[0m\n\u001b[0;31mSyntaxError\u001b[0m\u001b[0;31m:\u001b[0m invalid syntax\n"
     ]
    }
   ],
   "source": [
    "stuff = (%history -n 23)\n",
    "\n",
    "# hey jon, do you think there's any way to write the contents of\n",
    "# %history to a new variable without reimporting the doc into python?"
   ]
  }
 ],
 "metadata": {
  "kernelspec": {
   "display_name": "Python 3 (ipykernel)",
   "language": "python",
   "name": "python3"
  },
  "language_info": {
   "codemirror_mode": {
    "name": "ipython",
    "version": 3
   },
   "file_extension": ".py",
   "mimetype": "text/x-python",
   "name": "python",
   "nbconvert_exporter": "python",
   "pygments_lexer": "ipython3",
   "version": "3.11.5"
  }
 },
 "nbformat": 4,
 "nbformat_minor": 5
}
