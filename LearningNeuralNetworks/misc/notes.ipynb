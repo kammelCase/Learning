{
 "cells": [
  {
   "cell_type": "code",
   "execution_count": null,
   "metadata": {},
   "outputs": [],
   "source": [
    "## look into AlexNet in regards to MNIST\n",
    "## look into ResNet in regards to MNIST\n",
    "## builing different models\n",
    "## try to achieve 99% accuracy on MNIST without changing the network architecture\n",
    "\n",
    "## write a python script that saves the network at it's maximum accuracy\n",
    "## write a python script that stops training when the network stops improving\n",
    "## also save the state of the model at it's maximum accuracy\n",
    "\n",
    "#J increase accuracy without changinig net architecture\n",
    "#J tried to make this happen with preprocessing, but to no avail. help!\n",
    "\n",
    "## look into flattening\n",
    "## look into normalization\n",
    "## \" mutlipool\n",
    "## look into softmax\n",
    "\n",
    "## spanning pooling pyramids\n",
    "## convulational layer\n",
    "## frozen layer\n",
    "## dense layer\n",
    "## softmax layer\n",
    "\n",
    "# memory leak refresher\n",
    "\n",
    "# refresher on CS101 stuff\n",
    "\n",
    "# Pil for ml (python)\n",
    "# Text-based neural networks\n",
    "# script that takes in one image and generates 10 versions of it\n",
    "\n",
    "# fashion mnist\n",
    "# colored mnist (start here, 5 variants)\n",
    "# pacs dataset\n",
    "\n",
    "# creating pipeline script that 10x the dataset in a meaningful way\n",
    "# dont forget to initialize dataset after augmentation\n",
    "# round 1: train_X = augmentation + originals\n",
    "# round 2: train_X + val_X = augmentation + originals\n",
    "\n",
    "# thesis: data augmentaiton is good, but as we continue to more intensly augment\n",
    "# our data, then the signal will be lost\n",
    "\n",
    "# be sure to document data\n",
    "\n",
    "# start with a well-trained neural network\n",
    "# create a script that suffeciently determines when an image is no longer classifiable\n",
    "\n",
    "# feed network mucked-up zebras\n",
    "# re-train network on mucked up zebras\n",
    "\n",
    "# insert random numbers into numpy array\n",
    "# insert black into numpy array\n",
    "\n",
    "# one modification must include a fourier transform\n",
    "# one mod must include a color negative transform"
   ]
  }
 ],
 "metadata": {
  "kernelspec": {
   "display_name": "ds",
   "language": "python",
   "name": "python3"
  },
  "language_info": {
   "codemirror_mode": {
    "name": "ipython",
    "version": 3
   },
   "file_extension": ".py",
   "mimetype": "text/x-python",
   "name": "python",
   "nbconvert_exporter": "python",
   "pygments_lexer": "ipython3",
   "version": "3.11.5"
  }
 },
 "nbformat": 4,
 "nbformat_minor": 2
}
