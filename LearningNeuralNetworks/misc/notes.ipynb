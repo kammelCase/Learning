{
 "cells": [
  {
   "cell_type": "code",
   "execution_count": null,
   "metadata": {},
   "outputs": [],
   "source": [
    "## look into AlexNet in regards to MNIST\n",
    "## look into ResNet in regards to MNIST\n",
    "## builing different models\n",
    "## try to achieve 99% accuracy on MNIST without changing the network architecture\n",
    "\n",
    "# write a python script that saves the network at it's maximum accuracy\n",
    "# write a python script that stops training when the network stops improving\n",
    "# also save the state of the model at it's maximum accuracy\n",
    "\n",
    "# increase accuracy without changinig net architecture\n",
    "\n",
    "## look into flattening\n",
    "## look into normalization\n",
    "## \" mutlipool\n",
    "## look into softmax\n",
    "\n",
    "# spanning pooling pyramids\n",
    "## convulational layer\n",
    "# frozen layer\n",
    "## dense layer\n",
    "## softmax layer\n",
    "\n",
    "# memory leak refresher\n",
    "\n",
    "# refresher on CS101 stuff"
   ]
  }
 ],
 "metadata": {
  "kernelspec": {
   "display_name": "ds",
   "language": "python",
   "name": "python3"
  },
  "language_info": {
   "codemirror_mode": {
    "name": "ipython",
    "version": 3
   },
   "file_extension": ".py",
   "mimetype": "text/x-python",
   "name": "python",
   "nbconvert_exporter": "python",
   "pygments_lexer": "ipython3",
   "version": "3.11.5"
  }
 },
 "nbformat": 4,
 "nbformat_minor": 2
}
