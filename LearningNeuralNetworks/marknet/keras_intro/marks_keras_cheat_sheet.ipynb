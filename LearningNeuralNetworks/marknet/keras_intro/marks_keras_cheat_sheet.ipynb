{
 "cells": [
  {
   "cell_type": "code",
   "execution_count": 1,
   "metadata": {},
   "outputs": [],
   "source": [
    "# my own cheat sheet for all-things-keras\n",
    "\n",
    "import numpy as np\n",
    "import pandas as pd\n",
    "import tensorflow as tf\n",
    "from sklearn.preprocessing import StandardScaler"
   ]
  },
  {
   "cell_type": "code",
   "execution_count": 2,
   "metadata": {},
   "outputs": [],
   "source": [
    "# import and organize data\n",
    "\n",
    "fashion_mnist = tf.keras.datasets.fashion_mnist.load_data()\n",
    "\n",
    "(X_train_full, y_train_full), (X_test, y_test) = fashion_mnist\n",
    "\n",
    "X_train, y_train = X_train_full[:-5000], y_train_full[:-5000]\n",
    "X_valid, y_valid = X_train_full[-5000:], y_train_full[-5000:]"
   ]
  },
  {
   "cell_type": "code",
   "execution_count": 1,
   "metadata": {},
   "outputs": [
    {
     "ename": "NameError",
     "evalue": "name 'X_train' is not defined",
     "output_type": "error",
     "traceback": [
      "\u001b[0;31m---------------------------------------------------------------------------\u001b[0m",
      "\u001b[0;31mNameError\u001b[0m                                 Traceback (most recent call last)",
      "\u001b[1;32m/Users/mark/Desktop/softs/Learning/LearningNeuralNetworks/marknet/marks_keras_cheat_sheet.ipynb Cell 3\u001b[0m line \u001b[0;36m3\n\u001b[1;32m      <a href='vscode-notebook-cell:/Users/mark/Desktop/softs/Learning/LearningNeuralNetworks/marknet/marks_keras_cheat_sheet.ipynb#W2sZmlsZQ%3D%3D?line=0'>1</a>\u001b[0m \u001b[39m# verify data shape and type\u001b[39;00m\n\u001b[0;32m----> <a href='vscode-notebook-cell:/Users/mark/Desktop/softs/Learning/LearningNeuralNetworks/marknet/marks_keras_cheat_sheet.ipynb#W2sZmlsZQ%3D%3D?line=2'>3</a>\u001b[0m \u001b[39mprint\u001b[39m(X_train\u001b[39m.\u001b[39mshape)\n\u001b[1;32m      <a href='vscode-notebook-cell:/Users/mark/Desktop/softs/Learning/LearningNeuralNetworks/marknet/marks_keras_cheat_sheet.ipynb#W2sZmlsZQ%3D%3D?line=3'>4</a>\u001b[0m \u001b[39mprint\u001b[39m(X_train\u001b[39m.\u001b[39mdtype)\n",
      "\u001b[0;31mNameError\u001b[0m: name 'X_train' is not defined"
     ]
    }
   ],
   "source": [
    "# verify data shape and type\n",
    "\n",
    "print(X_train.shape)\n",
    "print(X_train.dtype)"
   ]
  },
  {
   "cell_type": "code",
   "execution_count": 4,
   "metadata": {},
   "outputs": [],
   "source": [
    "# scale the data if needed\n",
    "\n",
    "# scaler = StandardScaler()\n",
    "# X_train = scaler.fit_transform(X_train)\n",
    "\n",
    "X_train, X_valid, X_test = X_train / 255., X_valid / 255., X_test / 255. # example of scaling images down"
   ]
  },
  {
   "cell_type": "code",
   "execution_count": 5,
   "metadata": {},
   "outputs": [],
   "source": [
    "# initializing\n",
    "\n",
    "init = tf.keras.initializers.RandomNormal(mean=0, stddev=1.)"
   ]
  },
  {
   "cell_type": "markdown",
   "metadata": {},
   "source": [
    "https://keras.io/api/layers/initializers/"
   ]
  },
  {
   "cell_type": "code",
   "execution_count": 6,
   "metadata": {},
   "outputs": [],
   "source": [
    "# modeling using Sequenial API\n",
    "\n",
    "model = tf.keras.Sequential([\n",
    "    tf.keras.layers.Flatten(input_shape=[28, 28]),\n",
    "    tf.keras.layers.Dense(30, activation=\"relu\"),\n",
    "    tf.keras.layers.Dense(30, activation=\"relu\"),\n",
    "    tf.keras.layers.Dense(10, activation=\"softmax\")\n",
    "])"
   ]
  },
  {
   "cell_type": "markdown",
   "metadata": {},
   "source": [
    "https://keras.io/guides/sequential_model/"
   ]
  },
  {
   "cell_type": "code",
   "execution_count": 7,
   "metadata": {},
   "outputs": [
    {
     "name": "stdout",
     "output_type": "stream",
     "text": [
      "Model: \"sequential\"\n",
      "_________________________________________________________________\n",
      " Layer (type)                Output Shape              Param #   \n",
      "=================================================================\n",
      " flatten (Flatten)           (None, 784)               0         \n",
      "                                                                 \n",
      " dense (Dense)               (None, 30)                23550     \n",
      "                                                                 \n",
      " dense_1 (Dense)             (None, 30)                930       \n",
      "                                                                 \n",
      " dense_2 (Dense)             (None, 10)                310       \n",
      "                                                                 \n",
      "=================================================================\n",
      "Total params: 24790 (96.84 KB)\n",
      "Trainable params: 24790 (96.84 KB)\n",
      "Non-trainable params: 0 (0.00 Byte)\n",
      "_________________________________________________________________\n"
     ]
    }
   ],
   "source": [
    "# model summary\n",
    "\n",
    "model.summary()"
   ]
  },
  {
   "cell_type": "code",
   "execution_count": 8,
   "metadata": {},
   "outputs": [],
   "source": [
    "# model compiling\n",
    "\n",
    "model.compile(loss=\"sparse_categorical_crossentropy\",\n",
    "              optimizer=\"sgd\",\n",
    "              metrics=['accuracy'])"
   ]
  },
  {
   "cell_type": "markdown",
   "metadata": {},
   "source": [
    "see https://keras.io/losses, https://keras.io/optimizers, and https://keras.io/metrics."
   ]
  },
  {
   "cell_type": "code",
   "execution_count": 9,
   "metadata": {},
   "outputs": [
    {
     "name": "stdout",
     "output_type": "stream",
     "text": [
      "Epoch 1/30\n",
      "1719/1719 [==============================] - 1s 468us/step - loss: 0.9129 - accuracy: 0.6893 - val_loss: 0.6172 - val_accuracy: 0.7652\n",
      "Epoch 2/30\n",
      "1719/1719 [==============================] - 1s 456us/step - loss: 0.5513 - accuracy: 0.8080 - val_loss: 0.5296 - val_accuracy: 0.8060\n",
      "Epoch 3/30\n",
      "1719/1719 [==============================] - 1s 420us/step - loss: 0.4957 - accuracy: 0.8264 - val_loss: 0.4823 - val_accuracy: 0.8302\n",
      "Epoch 4/30\n",
      "1719/1719 [==============================] - 1s 421us/step - loss: 0.4644 - accuracy: 0.8359 - val_loss: 0.4867 - val_accuracy: 0.8264\n",
      "Epoch 5/30\n",
      "1719/1719 [==============================] - 1s 421us/step - loss: 0.4439 - accuracy: 0.8434 - val_loss: 0.4230 - val_accuracy: 0.8452\n",
      "Epoch 6/30\n",
      "1719/1719 [==============================] - 1s 436us/step - loss: 0.4273 - accuracy: 0.8491 - val_loss: 0.4078 - val_accuracy: 0.8474\n",
      "Epoch 7/30\n",
      "1719/1719 [==============================] - 1s 421us/step - loss: 0.4155 - accuracy: 0.8529 - val_loss: 0.4201 - val_accuracy: 0.8510\n",
      "Epoch 8/30\n",
      "1719/1719 [==============================] - 1s 426us/step - loss: 0.4040 - accuracy: 0.8569 - val_loss: 0.4046 - val_accuracy: 0.8538\n",
      "Epoch 9/30\n",
      "1719/1719 [==============================] - 1s 431us/step - loss: 0.3949 - accuracy: 0.8593 - val_loss: 0.3956 - val_accuracy: 0.8548\n",
      "Epoch 10/30\n",
      "1719/1719 [==============================] - 1s 433us/step - loss: 0.3857 - accuracy: 0.8635 - val_loss: 0.4007 - val_accuracy: 0.8578\n",
      "Epoch 11/30\n",
      "1719/1719 [==============================] - 1s 423us/step - loss: 0.3790 - accuracy: 0.8646 - val_loss: 0.3828 - val_accuracy: 0.8624\n",
      "Epoch 12/30\n",
      "1719/1719 [==============================] - 1s 426us/step - loss: 0.3723 - accuracy: 0.8676 - val_loss: 0.3852 - val_accuracy: 0.8602\n",
      "Epoch 13/30\n",
      "1719/1719 [==============================] - 1s 428us/step - loss: 0.3658 - accuracy: 0.8708 - val_loss: 0.3717 - val_accuracy: 0.8668\n",
      "Epoch 14/30\n",
      "1719/1719 [==============================] - 1s 426us/step - loss: 0.3601 - accuracy: 0.8717 - val_loss: 0.3655 - val_accuracy: 0.8682\n",
      "Epoch 15/30\n",
      "1719/1719 [==============================] - 1s 423us/step - loss: 0.3550 - accuracy: 0.8733 - val_loss: 0.3787 - val_accuracy: 0.8682\n",
      "Epoch 16/30\n",
      "1719/1719 [==============================] - 1s 428us/step - loss: 0.3510 - accuracy: 0.8740 - val_loss: 0.3812 - val_accuracy: 0.8638\n",
      "Epoch 17/30\n",
      "1719/1719 [==============================] - 1s 528us/step - loss: 0.3462 - accuracy: 0.8753 - val_loss: 0.3676 - val_accuracy: 0.8684\n",
      "Epoch 18/30\n",
      "1719/1719 [==============================] - 1s 512us/step - loss: 0.3426 - accuracy: 0.8777 - val_loss: 0.3705 - val_accuracy: 0.8670\n",
      "Epoch 19/30\n",
      "1719/1719 [==============================] - 1s 447us/step - loss: 0.3384 - accuracy: 0.8783 - val_loss: 0.3639 - val_accuracy: 0.8708\n",
      "Epoch 20/30\n",
      "1719/1719 [==============================] - 1s 423us/step - loss: 0.3346 - accuracy: 0.8788 - val_loss: 0.3600 - val_accuracy: 0.8712\n",
      "Epoch 21/30\n",
      "1719/1719 [==============================] - 1s 439us/step - loss: 0.3303 - accuracy: 0.8815 - val_loss: 0.3642 - val_accuracy: 0.8674\n",
      "Epoch 22/30\n",
      "1719/1719 [==============================] - 1s 427us/step - loss: 0.3271 - accuracy: 0.8821 - val_loss: 0.3852 - val_accuracy: 0.8630\n",
      "Epoch 23/30\n",
      "1719/1719 [==============================] - 1s 422us/step - loss: 0.3235 - accuracy: 0.8832 - val_loss: 0.3888 - val_accuracy: 0.8574\n",
      "Epoch 24/30\n",
      "1719/1719 [==============================] - 1s 419us/step - loss: 0.3207 - accuracy: 0.8845 - val_loss: 0.3660 - val_accuracy: 0.8688\n",
      "Epoch 25/30\n",
      "1719/1719 [==============================] - 1s 421us/step - loss: 0.3172 - accuracy: 0.8857 - val_loss: 0.3600 - val_accuracy: 0.8708\n",
      "Epoch 26/30\n",
      "1719/1719 [==============================] - 1s 434us/step - loss: 0.3137 - accuracy: 0.8867 - val_loss: 0.3538 - val_accuracy: 0.8738\n",
      "Epoch 27/30\n",
      "1719/1719 [==============================] - 1s 418us/step - loss: 0.3117 - accuracy: 0.8873 - val_loss: 0.3693 - val_accuracy: 0.8700\n",
      "Epoch 28/30\n",
      "1719/1719 [==============================] - 1s 418us/step - loss: 0.3093 - accuracy: 0.8884 - val_loss: 0.3568 - val_accuracy: 0.8736\n",
      "Epoch 29/30\n",
      "1719/1719 [==============================] - 1s 424us/step - loss: 0.3049 - accuracy: 0.8900 - val_loss: 0.3526 - val_accuracy: 0.8750\n",
      "Epoch 30/30\n",
      "1719/1719 [==============================] - 1s 418us/step - loss: 0.3030 - accuracy: 0.8912 - val_loss: 0.3524 - val_accuracy: 0.8746\n"
     ]
    }
   ],
   "source": [
    "# training the model\n",
    "\n",
    "history = model.fit(X_train, y_train,\n",
    "                    epochs=30,\n",
    "                    validation_data=(X_valid, y_valid))"
   ]
  },
  {
   "cell_type": "markdown",
   "metadata": {},
   "source": [
    "https://keras.io/guides/training_with_built_in_methods/"
   ]
  },
  {
   "cell_type": "code",
   "execution_count": 10,
   "metadata": {},
   "outputs": [
    {
     "data": {
      "text/plain": [
       "{'verbose': 1, 'epochs': 30, 'steps': 1719}"
      ]
     },
     "execution_count": 10,
     "metadata": {},
     "output_type": "execute_result"
    }
   ],
   "source": [
    "history.history # holds a record of the metrics during training\n",
    "history.epoch   # list of completed epochs\n",
    "history.params  # shows training parameters"
   ]
  },
  {
   "cell_type": "code",
   "execution_count": 11,
   "metadata": {},
   "outputs": [
    {
     "data": {
      "text/plain": [
       "<Axes: xlabel='Epoch'>"
      ]
     },
     "execution_count": 11,
     "metadata": {},
     "output_type": "execute_result"
    },
    {
     "data": {
      "image/png": "[encoded data removed]",
      "text/plain": [
       "<Figure size 800x500 with 1 Axes>"
      ]
     },
     "metadata": {},
     "output_type": "display_data"
    }
   ],
   "source": [
    "# graphing training\n",
    "\n",
    "import matplotlib.pyplot as plt\n",
    "\n",
    "pd.DataFrame(history.history).plot(\n",
    "    figsize=(8,5), xlim=[0,29], ylim=[0,1], grid=True, xlabel='Epoch',\n",
    ")"
   ]
  },
  {
   "cell_type": "code",
   "execution_count": null,
   "metadata": {},
   "outputs": [],
   "source": []
  }
 ],
 "metadata": {
  "kernelspec": {
   "display_name": "ds",
   "language": "python",
   "name": "python3"
  },
  "language_info": {
   "codemirror_mode": {
    "name": "ipython",
    "version": 3
   },
   "file_extension": ".py",
   "mimetype": "text/x-python",
   "name": "python",
   "nbconvert_exporter": "python",
   "pygments_lexer": "ipython3",
   "version": "3.11.5"
  }
 },
 "nbformat": 4,
 "nbformat_minor": 2
}
