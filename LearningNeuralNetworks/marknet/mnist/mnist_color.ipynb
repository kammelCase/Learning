{
 "cells": [
  {
   "cell_type": "code",
   "execution_count": 1,
   "metadata": {},
   "outputs": [],
   "source": [
    "# first neural network with keras tutorial\n",
    "from tensorflow import keras\n",
    "from tensorflow.keras import layers\n",
    "import tensorflow as tf\n",
    "\n",
    "import numpy as np\n",
    "import pandas as pd\n",
    "import os\n",
    "import PIL\n",
    "import PIL.Image\n",
    "import tensorflow as tf\n",
    "\n",
    "#from sklearn.model_selection import train_test_split"
   ]
  },
  {
   "cell_type": "code",
   "execution_count": 2,
   "metadata": {},
   "outputs": [
    {
     "name": "stdout",
     "output_type": "stream",
     "text": [
      "Found 8835 files belonging to 10 classes.\n",
      "Using 7068 files for training.\n"
     ]
    }
   ],
   "source": [
    "train_ds = keras.utils.image_dataset_from_directory(\n",
    "    'data/',\n",
    "    validation_split=0.2,\n",
    "    subset=\"training\",\n",
    "    image_size=(28, 28),\n",
    "    seed=132,\n",
    "    batch_size=32\n",
    ")"
   ]
  },
  {
   "cell_type": "code",
   "execution_count": 3,
   "metadata": {},
   "outputs": [],
   "source": [
    "# let's separate train_ds into X_train and y_train\n",
    "\n",
    "X_train = []\n",
    "y_train = []\n",
    "\n",
    "for images, labels in train_ds:\n",
    "    for image in images:\n",
    "        X_train.append(image)\n",
    "    for label in labels:\n",
    "        y_train.append(label)\n",
    "\n",
    "X_train = np.array(X_train)\n",
    "y_train = np.array(y_train)"
   ]
  },
  {
   "cell_type": "code",
   "execution_count": 4,
   "metadata": {},
   "outputs": [
    {
     "name": "stdout",
     "output_type": "stream",
     "text": [
      "Found 10000 files belonging to 10 classes.\n",
      "Using 2000 files for validation.\n"
     ]
    }
   ],
   "source": [
    "val_ds = keras.utils.image_dataset_from_directory(\n",
    "    'val_data',\n",
    "    validation_split=0.2,\n",
    "    subset=\"validation\",\n",
    "    image_size=(28, 28),\n",
    "    seed=132,\n",
    "    batch_size=32\n",
    ")"
   ]
  },
  {
   "cell_type": "code",
   "execution_count": 5,
   "metadata": {},
   "outputs": [
    {
     "name": "stdout",
     "output_type": "stream",
     "text": [
      "['0', '1', '2', '3', '4', '5', '6', '7', '8', '9']\n"
     ]
    }
   ],
   "source": [
    "# checking class names\n",
    "\n",
    "print(train_ds.class_names)"
   ]
  },
  {
   "cell_type": "code",
   "execution_count": 6,
   "metadata": {},
   "outputs": [
    {
     "name": "stdout",
     "output_type": "stream",
     "text": [
      "(32, 28, 28, 3)\n",
      "(32,)\n"
     ]
    }
   ],
   "source": [
    "# checking shape of data\n",
    "\n",
    "for image_batch, labels_batch in train_ds:\n",
    "  print(image_batch.shape)\n",
    "  print(labels_batch.shape)\n",
    "  break"
   ]
  },
  {
   "cell_type": "code",
   "execution_count": 7,
   "metadata": {},
   "outputs": [],
   "source": [
    "# import tensorflow as tf\n",
    "# from tensorflow.keras.layers.experimental import preprocessing\n",
    "\n",
    "# # Assume `x_train` and `y_train` are your training images and labels\n",
    "\n",
    "# # Define the data augmentation\n",
    "# data_augmentation = tf.keras.Sequential([\n",
    "#   preprocessing.Rescaling(1./255),\n",
    "#   preprocessing.RandomRotation(0.1),\n",
    "#   preprocessing.RandomContrast(0.5),\n",
    "# ])\n",
    "\n",
    "# # Create empty lists to hold the augmented images and labels\n",
    "# x_train_augmented = []\n",
    "# y_train_augmented = []\n",
    "\n",
    "# # For each image in the training set\n",
    "# for x, y in zip(train_X, train_y):\n",
    "#     # Create 5 augmented versions of the image\n",
    "#     for _ in range(2):\n",
    "#         augmented_image = data_augmentation(tf.expand_dims(x, 0), training=True)\n",
    "#         x_train_augmented.append(tf.squeeze(augmented_image).numpy())\n",
    "#         y_train_augmented.append(y)\n",
    "\n",
    "# # Convert the lists to numpy arrays\n",
    "# x_train_augmented = np.array(x_train_augmented)\n",
    "# y_train_augmented = np.array(y_train_augmented)"
   ]
  },
  {
   "cell_type": "code",
   "execution_count": 8,
   "metadata": {},
   "outputs": [],
   "source": [
    "# configure for performance\n",
    "\n",
    "AUTOTUNE = tf.data.AUTOTUNE\n",
    "\n",
    "train_ds = train_ds.cache().prefetch(buffer_size=AUTOTUNE)\n",
    "val_ds = val_ds.cache().prefetch(buffer_size=AUTOTUNE)"
   ]
  },
  {
   "cell_type": "code",
   "execution_count": 9,
   "metadata": {},
   "outputs": [],
   "source": [
    "# standardize layer\n",
    "\n",
    "normalization_layer = tf.keras.layers.Rescaling(1./255)\n",
    "\n",
    "augmentation = tf.keras.Sequential([\n",
    "    keras.layers.RandomBrightness(0.1),\n",
    "    keras.layers.RandomRotation(0.1),\n",
    "    keras.layers.RandomContrast(0.1),\n",
    "])"
   ]
  },
  {
   "cell_type": "code",
   "execution_count": 10,
   "metadata": {},
   "outputs": [],
   "source": [
    "# building our model\n",
    "\n",
    "model = tf.keras.Sequential([\n",
    "  # augmentation,\n",
    "  normalization_layer,\n",
    "\n",
    "  keras.layers.Conv2D(32, kernel_size=(3,3), activation='relu'),\n",
    "  keras.layers.Conv2D(32, kernel_size=(3,3), activation='relu'),\n",
    "  keras.layers.MaxPooling2D(pool_size=(2,2)),\n",
    "  keras.layers.Dropout(0.2),\n",
    "\n",
    "  keras.layers.Conv2D(32, kernel_size=(3,3), activation='relu'),\n",
    "  keras.layers.Conv2D(32, kernel_size=(3,3), activation='relu'),\n",
    "  keras.layers.MaxPooling2D(pool_size=(2,2)),\n",
    "  keras.layers.Dropout(0.2),  \n",
    "\n",
    "  tf.keras.layers.Flatten(),\n",
    "  keras.layers.Dropout(0.2),\n",
    "\n",
    "  tf.keras.layers.Dense(40, activation='relu'),\n",
    "  tf.keras.layers.Dense(40, activation='relu'),\n",
    "  tf.keras.layers.Dense(10, activation='softmax')\n",
    "])"
   ]
  },
  {
   "cell_type": "code",
   "execution_count": 11,
   "metadata": {},
   "outputs": [],
   "source": [
    "model.compile (\n",
    "    optimizer='adam',\n",
    "    loss='sparse_categorical_crossentropy',\n",
    "    metrics=['accuracy']\n",
    ")"
   ]
  },
  {
   "cell_type": "code",
   "execution_count": 12,
   "metadata": {},
   "outputs": [],
   "source": [
    "all_callbacks = keras.callbacks.EarlyStopping(\n",
    "    monitor='val_accuracy',\n",
    "    patience=10,\n",
    "    verbose=1,\n",
    "    mode='auto',\n",
    "    restore_best_weights=True\n",
    ")"
   ]
  },
  {
   "cell_type": "code",
   "execution_count": 13,
   "metadata": {},
   "outputs": [
    {
     "name": "stdout",
     "output_type": "stream",
     "text": [
      "Epoch 1/100\n",
      "221/221 [==============================] - 2s 9ms/step - loss: 1.6377 - accuracy: 0.4095 - val_loss: 4.2026 - val_accuracy: 0.2430\n",
      "Epoch 2/100\n",
      "221/221 [==============================] - 2s 9ms/step - loss: 0.9641 - accuracy: 0.6528 - val_loss: 3.2910 - val_accuracy: 0.3405\n",
      "Epoch 3/100\n",
      "221/221 [==============================] - 2s 9ms/step - loss: 0.7875 - accuracy: 0.7143 - val_loss: 3.8299 - val_accuracy: 0.3960\n",
      "Epoch 4/100\n",
      "221/221 [==============================] - 2s 9ms/step - loss: 0.7266 - accuracy: 0.7374 - val_loss: 4.1651 - val_accuracy: 0.3725\n",
      "Epoch 5/100\n",
      "221/221 [==============================] - 2s 9ms/step - loss: 0.7004 - accuracy: 0.7475 - val_loss: 3.8537 - val_accuracy: 0.3905\n",
      "Epoch 6/100\n",
      "221/221 [==============================] - 2s 9ms/step - loss: 0.6501 - accuracy: 0.7622 - val_loss: 3.0781 - val_accuracy: 0.4440\n",
      "Epoch 7/100\n",
      "221/221 [==============================] - 2s 9ms/step - loss: 0.6280 - accuracy: 0.7687 - val_loss: 3.2838 - val_accuracy: 0.4300\n",
      "Epoch 8/100\n",
      "221/221 [==============================] - 2s 9ms/step - loss: 0.6071 - accuracy: 0.7817 - val_loss: 3.9192 - val_accuracy: 0.4365\n",
      "Epoch 9/100\n",
      "221/221 [==============================] - 2s 9ms/step - loss: 0.5961 - accuracy: 0.7793 - val_loss: 3.3422 - val_accuracy: 0.4735\n",
      "Epoch 10/100\n",
      "221/221 [==============================] - 2s 9ms/step - loss: 0.5797 - accuracy: 0.7828 - val_loss: 4.0237 - val_accuracy: 0.4230\n",
      "Epoch 11/100\n",
      "221/221 [==============================] - 2s 9ms/step - loss: 0.5616 - accuracy: 0.7906 - val_loss: 3.2892 - val_accuracy: 0.5000\n",
      "Epoch 12/100\n",
      "221/221 [==============================] - 2s 9ms/step - loss: 0.5504 - accuracy: 0.7939 - val_loss: 3.4093 - val_accuracy: 0.4825\n",
      "Epoch 13/100\n",
      "221/221 [==============================] - 2s 9ms/step - loss: 0.5296 - accuracy: 0.8023 - val_loss: 2.7137 - val_accuracy: 0.5165\n",
      "Epoch 14/100\n",
      "221/221 [==============================] - 2s 9ms/step - loss: 0.5240 - accuracy: 0.8022 - val_loss: 3.3786 - val_accuracy: 0.5015\n",
      "Epoch 15/100\n",
      "221/221 [==============================] - 2s 9ms/step - loss: 0.5112 - accuracy: 0.8103 - val_loss: 3.2081 - val_accuracy: 0.5055\n",
      "Epoch 16/100\n",
      "221/221 [==============================] - 2s 9ms/step - loss: 0.4957 - accuracy: 0.8144 - val_loss: 3.4567 - val_accuracy: 0.4980\n",
      "Epoch 17/100\n",
      "221/221 [==============================] - 2s 9ms/step - loss: 0.4992 - accuracy: 0.8162 - val_loss: 2.8777 - val_accuracy: 0.5120\n",
      "Epoch 18/100\n",
      "221/221 [==============================] - 2s 9ms/step - loss: 0.4782 - accuracy: 0.8217 - val_loss: 3.0660 - val_accuracy: 0.4935\n",
      "Epoch 19/100\n",
      "221/221 [==============================] - 2s 9ms/step - loss: 0.4890 - accuracy: 0.8171 - val_loss: 2.4236 - val_accuracy: 0.5225\n",
      "Epoch 20/100\n",
      "221/221 [==============================] - 2s 9ms/step - loss: 0.4611 - accuracy: 0.8280 - val_loss: 3.1263 - val_accuracy: 0.4915\n",
      "Epoch 21/100\n",
      "221/221 [==============================] - 2s 9ms/step - loss: 0.4636 - accuracy: 0.8289 - val_loss: 3.4604 - val_accuracy: 0.4685\n",
      "Epoch 22/100\n",
      "221/221 [==============================] - 2s 9ms/step - loss: 0.4619 - accuracy: 0.8264 - val_loss: 2.8328 - val_accuracy: 0.5335\n",
      "Epoch 23/100\n",
      "221/221 [==============================] - 2s 9ms/step - loss: 0.4521 - accuracy: 0.8284 - val_loss: 3.0162 - val_accuracy: 0.5210\n",
      "Epoch 24/100\n",
      "221/221 [==============================] - 2s 9ms/step - loss: 0.4342 - accuracy: 0.8366 - val_loss: 3.3165 - val_accuracy: 0.4970\n",
      "Epoch 25/100\n",
      "221/221 [==============================] - 2s 9ms/step - loss: 0.4450 - accuracy: 0.8312 - val_loss: 3.2298 - val_accuracy: 0.4860\n",
      "Epoch 26/100\n",
      "221/221 [==============================] - 2s 9ms/step - loss: 0.4261 - accuracy: 0.8393 - val_loss: 3.1415 - val_accuracy: 0.5150\n",
      "Epoch 27/100\n",
      "221/221 [==============================] - 2s 9ms/step - loss: 0.4175 - accuracy: 0.8454 - val_loss: 3.3102 - val_accuracy: 0.4945\n",
      "Epoch 28/100\n",
      "221/221 [==============================] - 2s 9ms/step - loss: 0.4221 - accuracy: 0.8390 - val_loss: 2.8109 - val_accuracy: 0.4830\n",
      "Epoch 29/100\n",
      "221/221 [==============================] - 2s 9ms/step - loss: 0.4256 - accuracy: 0.8422 - val_loss: 3.0863 - val_accuracy: 0.5245\n",
      "Epoch 30/100\n",
      "221/221 [==============================] - 2s 9ms/step - loss: 0.4069 - accuracy: 0.8420 - val_loss: 2.9704 - val_accuracy: 0.5250\n",
      "Epoch 31/100\n",
      "221/221 [==============================] - 2s 9ms/step - loss: 0.4057 - accuracy: 0.8424 - val_loss: 3.4136 - val_accuracy: 0.4970\n",
      "Epoch 32/100\n",
      "220/221 [============================>.] - ETA: 0s - loss: 0.4037 - accuracy: 0.8486Restoring model weights from the end of the best epoch: 22.\n",
      "221/221 [==============================] - 2s 9ms/step - loss: 0.4028 - accuracy: 0.8490 - val_loss: 3.1514 - val_accuracy: 0.5245\n",
      "Epoch 32: early stopping\n"
     ]
    },
    {
     "data": {
      "text/plain": [
       "<keras.src.callbacks.History at 0x171cde390>"
      ]
     },
     "execution_count": 13,
     "metadata": {},
     "output_type": "execute_result"
    }
   ],
   "source": [
    "model.fit(\n",
    "    train_ds,\n",
    "    validation_data=val_ds,\n",
    "    callbacks=[all_callbacks],\n",
    "    epochs=100\n",
    ")"
   ]
  },
  {
   "cell_type": "code",
   "execution_count": 14,
   "metadata": {},
   "outputs": [
    {
     "name": "stdout",
     "output_type": "stream",
     "text": [
      "Found 10000 files belonging to 10 classes.\n",
      "313/313 - 1s - loss: 2.7918 - accuracy: 0.5277 - 919ms/epoch - 3ms/step\n",
      "\n",
      "Test accuracy: [2.791792869567871, 0.5277000069618225]\n"
     ]
    }
   ],
   "source": [
    "# let's evaluate our model\n",
    "\n",
    "# and load the test data real quick\n",
    "test_ds = keras.utils.image_dataset_from_directory(\n",
    "    'pure_data/colorized-MNIST/testing/',\n",
    "    image_size=(28, 28),\n",
    "    seed=132,\n",
    "    batch_size=32\n",
    ")\n",
    "\n",
    "test_acc = model.evaluate(test_ds, verbose=2)\n",
    "\n",
    "print('\\nTest accuracy:', test_acc)"
   ]
  },
  {
   "cell_type": "code",
   "execution_count": 16,
   "metadata": {},
   "outputs": [],
   "source": [
    "# VGG 16 - no standardization, no augmentation - 97.2% accuracy\n",
    "# Somehow achieved 99.7% accuracy on test set, which i didn't expect, investigating...\n",
    "# Now 99.91 which feels sorta impossible. Investigating..."
   ]
  },
  {
   "cell_type": "code",
   "execution_count": 22,
   "metadata": {},
   "outputs": [],
   "source": [
    "# let's split our test data into X_test and y_test\n",
    "\n",
    "X_test = []\n",
    "y_test = []\n",
    "\n",
    "for images, labels in test_ds:\n",
    "    for image in images:\n",
    "        X_test.append(image)\n",
    "    for label in labels:\n",
    "        y_test.append(label)\n",
    "\n",
    "X_test = np.array(X_test)\n",
    "y_test = np.array(y_test)"
   ]
  },
  {
   "cell_type": "code",
   "execution_count": 26,
   "metadata": {},
   "outputs": [
    {
     "name": "stdout",
     "output_type": "stream",
     "text": [
      "313/313 [==============================] - 1s 3ms/step\n"
     ]
    },
    {
     "data": {
      "image/png": "[encoded data removed]",
      "text/plain": [
       "<Figure size 1000x1000 with 2 Axes>"
      ]
     },
     "metadata": {},
     "output_type": "display_data"
    }
   ],
   "source": [
    "# let's create a confusion matrix with our test data\n",
    "\n",
    "from sklearn.metrics import confusion_matrix\n",
    "import seaborn as sns\n",
    "\n",
    "y_pred = model.predict(X_test)\n",
    "y_pred = np.argmax(y_pred, axis=1)\n",
    "\n",
    "cm = confusion_matrix(y_test, y_pred)\n",
    "\n",
    "# let's plot our confusion matrix\n",
    "\n",
    "import matplotlib.pyplot as plt\n",
    "\n",
    "plt.figure(figsize=(10, 10))\n",
    "sns.heatmap(cm, annot=True, fmt='d')\n",
    "plt.xlabel('Predicted')\n",
    "plt.ylabel('Actual')\n",
    "plt.show()"
   ]
  },
  {
   "cell_type": "code",
   "execution_count": null,
   "metadata": {},
   "outputs": [],
   "source": []
  }
 ],
 "metadata": {
  "kernelspec": {
   "display_name": "ds",
   "language": "python",
   "name": "python3"
  },
  "language_info": {
   "codemirror_mode": {
    "name": "ipython",
    "version": 3
   },
   "file_extension": ".py",
   "mimetype": "text/x-python",
   "name": "python",
   "nbconvert_exporter": "python",
   "pygments_lexer": "ipython3",
   "version": "3.11.5"
  }
 },
 "nbformat": 4,
 "nbformat_minor": 2
}
