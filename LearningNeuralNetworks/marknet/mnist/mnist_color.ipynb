{
 "cells": [
  {
   "cell_type": "code",
   "execution_count": 1,
   "metadata": {},
   "outputs": [],
   "source": [
    "# first neural network with keras tutorial\n",
    "from tensorflow import keras\n",
    "from tensorflow.keras import layers\n",
    "import tensorflow as tf\n",
    "\n",
    "import numpy as np\n",
    "import pandas as pd\n",
    "import os\n",
    "import PIL\n",
    "import PIL.Image\n",
    "import tensorflow as tf\n",
    "\n",
    "#from sklearn.model_selection import train_test_split"
   ]
  },
  {
   "cell_type": "code",
   "execution_count": 2,
   "metadata": {},
   "outputs": [
    {
     "name": "stdout",
     "output_type": "stream",
     "text": [
      "Found 10000 files belonging to 10 classes.\n",
      "Using 8000 files for training.\n"
     ]
    }
   ],
   "source": [
    "train_ds = keras.utils.image_dataset_from_directory(\n",
    "    'data/',\n",
    "    validation_split=0.2,\n",
    "    subset=\"training\",\n",
    "    image_size=(28, 28),\n",
    "    seed=132,\n",
    "    batch_size=32\n",
    ")"
   ]
  },
  {
   "cell_type": "code",
   "execution_count": 3,
   "metadata": {},
   "outputs": [],
   "source": [
    "# let's separate train_ds into X_train and y_train\n",
    "\n",
    "X_train = []\n",
    "y_train = []\n",
    "\n",
    "for images, labels in train_ds:\n",
    "    for image in images:\n",
    "        X_train.append(image)\n",
    "    for label in labels:\n",
    "        y_train.append(label)\n",
    "\n",
    "X_train = np.array(X_train)\n",
    "y_train = np.array(y_train)"
   ]
  },
  {
   "cell_type": "code",
   "execution_count": 4,
   "metadata": {},
   "outputs": [
    {
     "name": "stdout",
     "output_type": "stream",
     "text": [
      "Found 10000 files belonging to 10 classes.\n",
      "Using 2000 files for validation.\n"
     ]
    }
   ],
   "source": [
    "val_ds = keras.utils.image_dataset_from_directory(\n",
    "    'data/',\n",
    "    validation_split=0.2,\n",
    "    subset=\"validation\",\n",
    "    image_size=(28, 28),\n",
    "    seed=132,\n",
    "    batch_size=32\n",
    ")"
   ]
  },
  {
   "cell_type": "code",
   "execution_count": 5,
   "metadata": {},
   "outputs": [
    {
     "name": "stdout",
     "output_type": "stream",
     "text": [
      "['0', '1', '2', '3', '4', '5', '6', '7', '8', '9']\n"
     ]
    }
   ],
   "source": [
    "# checking class names\n",
    "\n",
    "print(train_ds.class_names)"
   ]
  },
  {
   "cell_type": "code",
   "execution_count": 6,
   "metadata": {},
   "outputs": [
    {
     "name": "stdout",
     "output_type": "stream",
     "text": [
      "(32, 28, 28, 3)\n",
      "(32,)\n"
     ]
    }
   ],
   "source": [
    "for image_batch, labels_batch in train_ds:\n",
    "  print(image_batch.shape)\n",
    "  print(labels_batch.shape)\n",
    "  break"
   ]
  },
  {
   "cell_type": "code",
   "execution_count": 7,
   "metadata": {},
   "outputs": [],
   "source": [
    "# standardize layer\n",
    "\n",
    "normalization_layer = tf.keras.layers.Rescaling(1./255)"
   ]
  },
  {
   "cell_type": "code",
   "execution_count": 8,
   "metadata": {},
   "outputs": [],
   "source": [
    "import tensorflow as tf\n",
    "from tensorflow.keras.layers.experimental import preprocessing\n",
    "\n",
    "# Assume `x_train` and `y_train` are your training images and labels\n",
    "\n",
    "# Define the data augmentation\n",
    "data_augmentation = tf.keras.Sequential([\n",
    "  preprocessing.Rescaling(1./255),\n",
    "  preprocessing.RandomRotation(0.1),\n",
    "  preprocessing.RandomContrast(0.5),\n",
    "])\n",
    "\n",
    "# Create empty lists to hold the augmented images and labels\n",
    "x_train_augmented = []\n",
    "y_train_augmented = []\n",
    "\n",
    "# For each image in the training set\n",
    "for x, y in zip(train_X, train_y):\n",
    "    # Create 5 augmented versions of the image\n",
    "    for _ in range(2):\n",
    "        augmented_image = data_augmentation(tf.expand_dims(x, 0), training=True)\n",
    "        x_train_augmented.append(tf.squeeze(augmented_image).numpy())\n",
    "        y_train_augmented.append(y)\n",
    "\n",
    "# Convert the lists to numpy arrays\n",
    "x_train_augmented = np.array(x_train_augmented)\n",
    "y_train_augmented = np.array(y_train_augmented)"
   ]
  },
  {
   "cell_type": "code",
   "execution_count": 9,
   "metadata": {},
   "outputs": [],
   "source": [
    "# configure for performance\n",
    "\n",
    "AUTOTUNE = tf.data.AUTOTUNE\n",
    "\n",
    "train_ds = train_ds.cache().prefetch(buffer_size=AUTOTUNE)\n",
    "val_ds = val_ds.cache().prefetch(buffer_size=AUTOTUNE)"
   ]
  },
  {
   "cell_type": "code",
   "execution_count": 10,
   "metadata": {},
   "outputs": [],
   "source": [
    "# building our model\n",
    "\n",
    "model = tf.keras.Sequential([\n",
    "  # normalization_layer,\n",
    "\n",
    "  tf.keras.layers.Conv2D(32, 3, activation='relu'),\n",
    "  tf.keras.layers.MaxPooling2D(),\n",
    "  \n",
    "  tf.keras.layers.Conv2D(32, 3, activation='relu'),\n",
    "  tf.keras.layers.MaxPooling2D(),\n",
    "\n",
    "  tf.keras.layers.Flatten(),\n",
    "  tf.keras.layers.Dense(40, activation='relu'),\n",
    "  tf.keras.layers.Dense(40, activation='relu'),\n",
    "  tf.keras.layers.Dense(10, activation='softmax')\n",
    "])"
   ]
  },
  {
   "cell_type": "code",
   "execution_count": 11,
   "metadata": {},
   "outputs": [],
   "source": [
    "model.compile (\n",
    "    optimizer='adam',\n",
    "    loss='sparse_categorical_crossentropy',\n",
    "    metrics=['accuracy']\n",
    ")"
   ]
  },
  {
   "cell_type": "code",
   "execution_count": 17,
   "metadata": {},
   "outputs": [],
   "source": [
    "all_callbacks = keras.callbacks.EarlyStopping(\n",
    "    monitor='val_accuracy',\n",
    "    patience=10,\n",
    "    verbose=1,\n",
    "    mode='auto',\n",
    "    restore_best_weights=True\n",
    ")"
   ]
  },
  {
   "cell_type": "code",
   "execution_count": 18,
   "metadata": {},
   "outputs": [
    {
     "name": "stdout",
     "output_type": "stream",
     "text": [
      "Epoch 1/20\n",
      "500/500 [==============================] - 2s 4ms/step - loss: 0.1521 - accuracy: 0.9550 - val_loss: 32.1824 - val_accuracy: 0.9605\n",
      "Epoch 2/20\n",
      "500/500 [==============================] - 2s 4ms/step - loss: 0.1209 - accuracy: 0.9643 - val_loss: 29.0040 - val_accuracy: 0.9595\n",
      "Epoch 3/20\n",
      "500/500 [==============================] - 2s 4ms/step - loss: 0.1098 - accuracy: 0.9669 - val_loss: 36.1885 - val_accuracy: 0.9565\n",
      "Epoch 4/20\n",
      "500/500 [==============================] - 2s 4ms/step - loss: 0.0862 - accuracy: 0.9753 - val_loss: 39.9484 - val_accuracy: 0.9630\n",
      "Epoch 5/20\n",
      "500/500 [==============================] - 2s 4ms/step - loss: 0.0917 - accuracy: 0.9734 - val_loss: 33.2262 - val_accuracy: 0.9695\n",
      "Epoch 6/20\n",
      "500/500 [==============================] - 2s 4ms/step - loss: 0.0620 - accuracy: 0.9812 - val_loss: 45.0164 - val_accuracy: 0.9630\n",
      "Epoch 7/20\n",
      "500/500 [==============================] - 2s 4ms/step - loss: 0.0786 - accuracy: 0.9754 - val_loss: 54.4044 - val_accuracy: 0.9660\n",
      "Epoch 8/20\n",
      "500/500 [==============================] - 2s 4ms/step - loss: 0.0687 - accuracy: 0.9789 - val_loss: 50.2384 - val_accuracy: 0.9620\n",
      "Epoch 9/20\n",
      "500/500 [==============================] - 2s 4ms/step - loss: 0.0674 - accuracy: 0.9794 - val_loss: 52.4036 - val_accuracy: 0.9625\n",
      "Epoch 10/20\n",
      "500/500 [==============================] - 2s 4ms/step - loss: 0.0595 - accuracy: 0.9824 - val_loss: 55.6411 - val_accuracy: 0.9655\n",
      "Epoch 11/20\n",
      "500/500 [==============================] - 2s 4ms/step - loss: 0.0545 - accuracy: 0.9841 - val_loss: 47.0198 - val_accuracy: 0.9700\n",
      "Epoch 12/20\n",
      "500/500 [==============================] - 2s 4ms/step - loss: 0.0494 - accuracy: 0.9853 - val_loss: 50.1045 - val_accuracy: 0.9690\n",
      "Epoch 13/20\n",
      "500/500 [==============================] - 2s 4ms/step - loss: 0.0466 - accuracy: 0.9861 - val_loss: 54.4911 - val_accuracy: 0.9715\n",
      "Epoch 14/20\n",
      "500/500 [==============================] - 2s 4ms/step - loss: 0.0514 - accuracy: 0.9844 - val_loss: 62.3889 - val_accuracy: 0.9655\n",
      "Epoch 15/20\n",
      "500/500 [==============================] - 2s 4ms/step - loss: 0.0567 - accuracy: 0.9840 - val_loss: 49.9364 - val_accuracy: 0.9690\n",
      "Epoch 16/20\n",
      "500/500 [==============================] - 2s 4ms/step - loss: 0.0446 - accuracy: 0.9868 - val_loss: 69.4998 - val_accuracy: 0.9630\n",
      "Epoch 17/20\n",
      "500/500 [==============================] - 2s 4ms/step - loss: 0.0348 - accuracy: 0.9905 - val_loss: 68.2063 - val_accuracy: 0.9665\n",
      "Epoch 18/20\n",
      "500/500 [==============================] - 2s 4ms/step - loss: 0.0448 - accuracy: 0.9864 - val_loss: 94.6610 - val_accuracy: 0.9575\n",
      "Epoch 19/20\n",
      "500/500 [==============================] - 2s 4ms/step - loss: 0.0571 - accuracy: 0.9845 - val_loss: 63.8155 - val_accuracy: 0.9655\n",
      "Epoch 20/20\n",
      "500/500 [==============================] - 2s 4ms/step - loss: 0.0336 - accuracy: 0.9900 - val_loss: 84.5952 - val_accuracy: 0.9685\n"
     ]
    },
    {
     "data": {
      "text/plain": [
       "<keras.src.callbacks.History at 0x2d4b8d050>"
      ]
     },
     "execution_count": 18,
     "metadata": {},
     "output_type": "execute_result"
    }
   ],
   "source": [
    "model.fit(\n",
    "    x_train_augmented,\n",
    "    y_train_augmented,\n",
    "    validation_data=val_ds,\n",
    "    callbacks=[all_callbacks],\n",
    "    epochs=20\n",
    ")"
   ]
  },
  {
   "cell_type": "code",
   "execution_count": 14,
   "metadata": {},
   "outputs": [
    {
     "name": "stderr",
     "output_type": "stream",
     "text": [
      "Clipping input data to the valid range for imshow with RGB data ([0..1] for floats or [0..255] for integers).\n",
      "Clipping input data to the valid range for imshow with RGB data ([0..1] for floats or [0..255] for integers).\n",
      "Clipping input data to the valid range for imshow with RGB data ([0..1] for floats or [0..255] for integers).\n"
     ]
    },
    {
     "data": {
      "image/png": "[encoded data removed]",
      "text/plain": [
       "<Figure size 1000x1000 with 6 Axes>"
      ]
     },
     "metadata": {},
     "output_type": "display_data"
    }
   ],
   "source": [
    "import matplotlib.pyplot as plt\n",
    "import numpy as np\n",
    "\n",
    "# Assume `data_augmentation` is your Sequential model containing the data augmentation layers\n",
    "# Assume `x_train` is your training data\n",
    "\n",
    "# Choose the first image from the training data\n",
    "image = train_X[0]\n",
    "\n",
    "# Apply the data augmentation to the image 5 times\n",
    "augmented_images = [data_augmentation(tf.expand_dims(image, 0), training=True) for _ in range(5)]\n",
    "\n",
    "# Remove the extra dimension added by tf.expand_dims\n",
    "augmented_images = [tf.squeeze(img).numpy() for img in augmented_images]\n",
    "\n",
    "# Plot the original image and the augmented images\n",
    "plt.figure(figsize=(10, 10))\n",
    "for i in range(6):\n",
    "    ax = plt.subplot(3, 2, i + 1)\n",
    "    if i == 0:\n",
    "        plt.imshow(image)\n",
    "        plt.title(\"Original image\")\n",
    "    else:\n",
    "        plt.imshow(augmented_images[i - 1])\n",
    "        plt.title(f\"Augmented image {i}\")\n",
    "    plt.axis(\"off\")"
   ]
  },
  {
   "cell_type": "code",
   "execution_count": null,
   "metadata": {},
   "outputs": [],
   "source": []
  }
 ],
 "metadata": {
  "kernelspec": {
   "display_name": "ds",
   "language": "python",
   "name": "python3"
  },
  "language_info": {
   "codemirror_mode": {
    "name": "ipython",
    "version": 3
   },
   "file_extension": ".py",
   "mimetype": "text/x-python",
   "name": "python",
   "nbconvert_exporter": "python",
   "pygments_lexer": "ipython3",
   "version": "3.11.5"
  }
 },
 "nbformat": 4,
 "nbformat_minor": 2
}
