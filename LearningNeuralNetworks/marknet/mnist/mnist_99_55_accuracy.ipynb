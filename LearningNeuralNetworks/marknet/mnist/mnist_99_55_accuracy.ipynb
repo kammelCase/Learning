{
 "cells": [
  {
   "cell_type": "code",
   "execution_count": 1,
   "metadata": {
    "tags": []
   },
   "outputs": [],
   "source": [
    "# first neural network with keras tutorial\n",
    "from tensorflow import keras\n",
    "from tensorflow.keras import layers\n",
    "import tensorflow as tf\n",
    "\n",
    "import numpy as np\n",
    "import pandas as pd\n",
    "\n",
    "#from sklearn.model_selection import train_test_split"
   ]
  },
  {
   "cell_type": "code",
   "execution_count": 2,
   "metadata": {
    "tags": []
   },
   "outputs": [],
   "source": [
    "# let's load the mnist dataset and split it into train and test\n",
    "\n",
    "mnist = keras.datasets.mnist\n",
    "(X_train, y_train), (X_test, y_test) = mnist.load_data()\n"
   ]
  },
  {
   "cell_type": "code",
   "execution_count": 3,
   "metadata": {},
   "outputs": [],
   "source": [
    "# # creating a pre-processing image augmentation layer that plugs directly into model\n",
    "\n",
    "# data_augmentation = keras.Sequential(\n",
    "#   [\n",
    "#     keras.layers.RandomFlip(\"horizontal\", input_shape=(28,28,1)),\n",
    "#     keras.layers.RandomRotation(0.1),\n",
    "#     keras.layers.RandomZoom(0.1),\n",
    "#   ]\n",
    "# )"
   ]
  },
  {
   "cell_type": "code",
   "execution_count": 4,
   "metadata": {},
   "outputs": [],
   "source": [
    "# # Create a tf.data pipeline of augmented images (and their labels)\n",
    "# train_dataset = tf.data.Dataset.from_tensor_slices((X_train, y_train))\n",
    "# train_dataset = train_dataset.batch(16).map(lambda x, y: (data_augmentation(x), y))\n"
   ]
  },
  {
   "cell_type": "code",
   "execution_count": 5,
   "metadata": {},
   "outputs": [
    {
     "data": {
      "text/plain": [
       "(60000, 28, 28)"
      ]
     },
     "execution_count": 5,
     "metadata": {},
     "output_type": "execute_result"
    }
   ],
   "source": [
    "# confirming shape of X\n",
    "\n",
    "X_train.shape"
   ]
  },
  {
   "cell_type": "code",
   "execution_count": 6,
   "metadata": {},
   "outputs": [],
   "source": [
    "# dividing X by 255 to return a value between 0 and 1, as 255 is the max rgb value of each pixel\n",
    "\n",
    "X_train = X_train.astype('float32') / 255.\n",
    "X_test = X_test.astype('float32') / 255."
   ]
  },
  {
   "cell_type": "code",
   "execution_count": 7,
   "metadata": {},
   "outputs": [],
   "source": [
    "# making sure images have shape (28, 28, 1)\n",
    "# \n",
    "\n",
    "X_train = np.expand_dims(X_train, -1)\n",
    "X_test = np.expand_dims(X_test, -1)"
   ]
  },
  {
   "cell_type": "code",
   "execution_count": 8,
   "metadata": {},
   "outputs": [],
   "source": [
    "# converting y to one-hot encoding\n",
    "\n",
    "num_classes = 10\n",
    "\n",
    "y_train = keras.utils.to_categorical(y_train, num_classes)\n",
    "y_test = keras.utils.to_categorical(y_test, num_classes)"
   ]
  },
  {
   "cell_type": "code",
   "execution_count": 9,
   "metadata": {},
   "outputs": [
    {
     "name": "stdout",
     "output_type": "stream",
     "text": [
      "(60000, 28, 28, 1)\n",
      "(60000, 10)\n"
     ]
    }
   ],
   "source": [
    "# confirming shapes again\n",
    "\n",
    "print(X_train.shape)\n",
    "print(y_train.shape)"
   ]
  },
  {
   "cell_type": "code",
   "execution_count": 10,
   "metadata": {},
   "outputs": [],
   "source": [
    "# keras documentation network\n",
    "\n",
    "# keras.backend.clear_session()\n",
    "\n",
    "# model = keras.Sequential([\n",
    "#     keras.layers.Input(shape=(28,28,1)),\n",
    "#     keras.layers.Conv2D(32, kernel_size=(3,3), activation='relu'),\n",
    "#     keras.layers.MaxPooling2D(pool_size=(2,2)),\n",
    "    \n",
    "#     keras.layers.Conv2D(64, kernel_size=(3,3), activation='relu'),\n",
    "#     keras.layers.MaxPooling2D(pool_size=(2,2)),\n",
    "\n",
    "#     keras.layers.Flatten(),\n",
    "#     keras.layers.Dropout(0.5),\n",
    "#     keras.layers.Dense(10, activation='softmax')\n",
    "# ])"
   ]
  },
  {
   "cell_type": "code",
   "execution_count": 11,
   "metadata": {},
   "outputs": [],
   "source": [
    "# found online\n",
    "\n",
    "keras.backend.clear_session()\n",
    "\n",
    "model = keras.Sequential([\n",
    "    keras.layers.Conv2D(16, kernel_size=(3,3), activation='relu', strides=1, padding='same', data_format='channels_last', input_shape=(28,28,1)),\n",
    "    keras.layers.BatchNormalization(),\n",
    "    keras.layers.Conv2D(16, kernel_size=(3,3), activation='relu', strides=1, padding='same', data_format='channels_last'),\n",
    "    keras.layers.BatchNormalization(),\n",
    "    keras.layers.MaxPooling2D(pool_size=(2,2), strides=2, padding='valid'),\n",
    "    keras.layers.Dropout(0.25),\n",
    "\n",
    "\n",
    "    keras.layers.Conv2D(16, kernel_size=(3,3), activation='relu', strides=1, padding='same', data_format='channels_last'),\n",
    "    keras.layers.BatchNormalization(),\n",
    "    keras.layers.Conv2D(16, kernel_size=(3,3), activation='relu', strides=1, padding='same', data_format='channels_last'),\n",
    "    keras.layers.BatchNormalization(),\n",
    "    # keras.layers.MaxPooling2D(pool_size=(2,2), strides=2, padding='valid'),\n",
    "    # tinker with pool_size, also look at other parameters\n",
    "    # keras.layers.Dropout(0.25),\n",
    "\n",
    "    keras.layers.Flatten(),\n",
    "\n",
    "    keras.layers.Dense(512, activation='relu'),\n",
    "    keras.layers.BatchNormalization(),\n",
    "    keras.layers.Dropout(0.25),\n",
    "\n",
    "    keras.layers.Dense(1024, activation='relu'),\n",
    "    keras.layers.BatchNormalization(),\n",
    "    keras.layers.Dropout(0.5),\n",
    "    \n",
    "    keras.layers.Dense(10, activation='softmax')\n",
    "])"
   ]
  },
  {
   "cell_type": "code",
   "execution_count": 12,
   "metadata": {},
   "outputs": [],
   "source": [
    "# # inspired by vgg16\n",
    "\n",
    "# keras.backend.clear_session()\n",
    "\n",
    "# model = keras.Sequential([\n",
    "#     # data_augmentation,\n",
    "#     keras.layers.Conv2D(16, kernel_size=(3,3), activation='relu', input_shape=(28,28,1)),\n",
    "#     keras.layers.Conv2D(16, kernel_size=(3,3), activation='relu'),\n",
    "#     keras.layers.MaxPooling2D(pool_size=(2,2)),\n",
    "#     keras.layers.Dropout(0.2),\n",
    "\n",
    "#     keras.layers.Conv2D(32, kernel_size=(3,3), activation='relu'),\n",
    "#     keras.layers.Conv2D(32, kernel_size=(3,3), activation='relu'),\n",
    "#     keras.layers.MaxPooling2D(pool_size=(2,2)),\n",
    "#     keras.layers.Dropout(0.2),\n",
    "\n",
    "#     keras.layers.Flatten(),\n",
    "#     keras.layers.Dropout(0.2),\n",
    "\n",
    "#     keras.layers.Dense(40, activation='relu'),\n",
    "#     keras.layers.Dense(40, activation='relu'),\n",
    "#     keras.layers.Dense(10, activation='softmax')\n",
    "# ])"
   ]
  },
  {
   "cell_type": "code",
   "execution_count": 13,
   "metadata": {},
   "outputs": [],
   "source": [
    "# # building my own AlexNet\n",
    "\n",
    "# keras.backend.clear_session()\n",
    "\n",
    "# model = keras.Sequential([\n",
    "#     keras.layers.Conv2D(32, kernel_size=(3,3), activation='relu', input_shape=(28,28,1)),\n",
    "#     keras.layers.MaxPooling2D(pool_size=(2,2)),\n",
    "#     keras.layers.LayerNormalization(),\n",
    "\n",
    "#     keras.layers.Conv2D(64, kernel_size=(3,3), activation='relu'),\n",
    "#     keras.layers.MaxPooling2D(pool_size=(2,2)),\n",
    "#     keras.layers.LayerNormalization(),\n",
    "\n",
    "#     keras.layers.Flatten(),\n",
    "#     keras.layers.Dropout(0.5),\n",
    "\n",
    "#     keras.layers.Dense(50, activation='relu'),\n",
    "#     keras.layers.Dense(50, activation='relu'),\n",
    "#     keras.layers.Dense(10, activation='softmax')\n",
    "# ])"
   ]
  },
  {
   "cell_type": "code",
   "execution_count": 14,
   "metadata": {},
   "outputs": [],
   "source": [
    "# let's build a convolutional neural net, as this works best with image classifiers\n",
    "\n",
    "# keras.backend.clear_session()\n",
    "\n",
    "# model = keras.Sequential([\n",
    "#     keras.layers.Conv2D(32, kernel_size=(3,3), activation='relu', input_shape=(28,28,1)),\n",
    "#     keras.layers.BatchNormalization(),\n",
    "#     keras.layers.MaxPooling2D(pool_size=(2,2)),\n",
    "#     keras.layers.Dropout(0.25),\n",
    "\n",
    "#     keras.layers.Conv2D(32, kernel_size=(3,3), activation='relu', input_shape=(28,28,1)),\n",
    "#     keras.layers.BatchNormalization(),\n",
    "#     keras.layers.MaxPooling2D(pool_size=(2,2)),\n",
    "#     keras.layers.Dropout(0.25),\n",
    "\n",
    "#     keras.layers.Flatten(),\n",
    "#     keras.layers.Dense(10, activation='softmax')\n",
    "# ])"
   ]
  },
  {
   "cell_type": "code",
   "execution_count": 15,
   "metadata": {},
   "outputs": [
    {
     "name": "stdout",
     "output_type": "stream",
     "text": [
      "Model: \"sequential\"\n",
      "_________________________________________________________________\n",
      " Layer (type)                Output Shape              Param #   \n",
      "=================================================================\n",
      " conv2d (Conv2D)             (None, 28, 28, 16)        160       \n",
      "                                                                 \n",
      " batch_normalization (Batch  (None, 28, 28, 16)        64        \n",
      " Normalization)                                                  \n",
      "                                                                 \n",
      " conv2d_1 (Conv2D)           (None, 28, 28, 16)        2320      \n",
      "                                                                 \n",
      " batch_normalization_1 (Bat  (None, 28, 28, 16)        64        \n",
      " chNormalization)                                                \n",
      "                                                                 \n",
      " max_pooling2d (MaxPooling2  (None, 14, 14, 16)        0         \n",
      " D)                                                              \n",
      "                                                                 \n",
      " dropout (Dropout)           (None, 14, 14, 16)        0         \n",
      "                                                                 \n",
      " conv2d_2 (Conv2D)           (None, 14, 14, 16)        2320      \n",
      "                                                                 \n",
      " batch_normalization_2 (Bat  (None, 14, 14, 16)        64        \n",
      " chNormalization)                                                \n",
      "                                                                 \n",
      " conv2d_3 (Conv2D)           (None, 14, 14, 16)        2320      \n",
      "                                                                 \n",
      " batch_normalization_3 (Bat  (None, 14, 14, 16)        64        \n",
      " chNormalization)                                                \n",
      "                                                                 \n",
      " flatten (Flatten)           (None, 3136)              0         \n",
      "                                                                 \n",
      " dense (Dense)               (None, 512)               1606144   \n",
      "                                                                 \n",
      " batch_normalization_4 (Bat  (None, 512)               2048      \n",
      " chNormalization)                                                \n",
      "                                                                 \n",
      " dropout_1 (Dropout)         (None, 512)               0         \n",
      "                                                                 \n",
      " dense_1 (Dense)             (None, 1024)              525312    \n",
      "                                                                 \n",
      " batch_normalization_5 (Bat  (None, 1024)              4096      \n",
      " chNormalization)                                                \n",
      "                                                                 \n",
      " dropout_2 (Dropout)         (None, 1024)              0         \n",
      "                                                                 \n",
      " dense_2 (Dense)             (None, 10)                10250     \n",
      "                                                                 \n",
      "=================================================================\n",
      "Total params: 2155226 (8.22 MB)\n",
      "Trainable params: 2152026 (8.21 MB)\n",
      "Non-trainable params: 3200 (12.50 KB)\n",
      "_________________________________________________________________\n"
     ]
    }
   ],
   "source": [
    "model.summary()"
   ]
  },
  {
   "cell_type": "code",
   "execution_count": 16,
   "metadata": {},
   "outputs": [
    {
     "name": "stderr",
     "output_type": "stream",
     "text": [
      "WARNING:absl:At this time, the v2.11+ optimizer `tf.keras.optimizers.Adam` runs slowly on M1/M2 Macs, please use the legacy Keras optimizer instead, located at `tf.keras.optimizers.legacy.Adam`.\n",
      "WARNING:absl:`lr` is deprecated in Keras optimizer, please use `learning_rate` or use the legacy optimizer, e.g.,tf.keras.optimizers.legacy.Adam.\n"
     ]
    }
   ],
   "source": [
    "optimizer = keras.optimizers.Adam(lr=0.003)\n",
    "\n",
    "model.compile(loss='categorical_crossentropy',\n",
    "              optimizer=optimizer,\n",
    "              metrics=['accuracy'])"
   ]
  },
  {
   "cell_type": "code",
   "execution_count": 17,
   "metadata": {},
   "outputs": [],
   "source": [
    "# adding callback to stop training after validation_loss or validation_accuracy stop increasing with patience = 6\n",
    "\n",
    "callback_val_loss = keras.callbacks.EarlyStopping(\n",
    "    monitor=\"val_loss\",\n",
    "    patience=10,\n",
    ")\n",
    "\n",
    "callback_val_accuracy = keras.callbacks.EarlyStopping(\n",
    "    monitor=\"vall_accuracy\",\n",
    "    patience=6,\n",
    ")\n",
    "\n",
    "reduce_lr = keras.callbacks.ReduceLROnPlateau(\n",
    "    monitor='val_loss',\n",
    "    factor=0.2,\n",
    "    patience=3,\n",
    "    min_lr=0.00001\n",
    ")"
   ]
  },
  {
   "cell_type": "code",
   "execution_count": 18,
   "metadata": {},
   "outputs": [
    {
     "name": "stdout",
     "output_type": "stream",
     "text": [
      "Epoch 1/100\n",
      "422/422 [==============================] - 14s 32ms/step - loss: 0.2155 - accuracy: 0.9389 - val_loss: 0.3344 - val_accuracy: 0.8950 - lr: 0.0010\n",
      "Epoch 2/100\n",
      "422/422 [==============================] - 15s 36ms/step - loss: 0.0782 - accuracy: 0.9761 - val_loss: 0.0476 - val_accuracy: 0.9875 - lr: 0.0010\n",
      "Epoch 3/100\n",
      "422/422 [==============================] - 15s 36ms/step - loss: 0.0539 - accuracy: 0.9831 - val_loss: 0.0560 - val_accuracy: 0.9873 - lr: 0.0010\n",
      "Epoch 4/100\n",
      "422/422 [==============================] - 15s 36ms/step - loss: 0.0471 - accuracy: 0.9856 - val_loss: 0.0444 - val_accuracy: 0.9907 - lr: 0.0010\n",
      "Epoch 5/100\n",
      "422/422 [==============================] - 16s 37ms/step - loss: 0.0385 - accuracy: 0.9880 - val_loss: 0.0412 - val_accuracy: 0.9913 - lr: 0.0010\n",
      "Epoch 6/100\n",
      "422/422 [==============================] - 16s 37ms/step - loss: 0.0367 - accuracy: 0.9888 - val_loss: 0.0347 - val_accuracy: 0.9912 - lr: 0.0010\n",
      "Epoch 7/100\n",
      "422/422 [==============================] - 16s 38ms/step - loss: 0.0303 - accuracy: 0.9906 - val_loss: 0.0412 - val_accuracy: 0.9895 - lr: 0.0010\n",
      "Epoch 8/100\n",
      "422/422 [==============================] - 1048s 2s/step - loss: 0.0287 - accuracy: 0.9909 - val_loss: 0.0399 - val_accuracy: 0.9908 - lr: 0.0010\n",
      "Epoch 9/100\n",
      "422/422 [==============================] - 2187s 5s/step - loss: 0.0287 - accuracy: 0.9906 - val_loss: 0.0487 - val_accuracy: 0.9897 - lr: 0.0010\n",
      "Epoch 10/100\n",
      "422/422 [==============================] - 49s 117ms/step - loss: 0.0148 - accuracy: 0.9953 - val_loss: 0.0285 - val_accuracy: 0.9942 - lr: 2.0000e-04\n",
      "Epoch 11/100\n",
      "422/422 [==============================] - 963s 2s/step - loss: 0.0102 - accuracy: 0.9965 - val_loss: 0.0287 - val_accuracy: 0.9938 - lr: 2.0000e-04\n",
      "Epoch 12/100\n",
      "422/422 [==============================] - 2273s 5s/step - loss: 0.0090 - accuracy: 0.9970 - val_loss: 0.0269 - val_accuracy: 0.9943 - lr: 2.0000e-04\n",
      "Epoch 13/100\n",
      "422/422 [==============================] - 760s 2s/step - loss: 0.0081 - accuracy: 0.9974 - val_loss: 0.0275 - val_accuracy: 0.9942 - lr: 2.0000e-04\n",
      "Epoch 14/100\n",
      "422/422 [==============================] - 842s 2s/step - loss: 0.0065 - accuracy: 0.9980 - val_loss: 0.0287 - val_accuracy: 0.9943 - lr: 2.0000e-04\n",
      "Epoch 15/100\n",
      "422/422 [==============================] - 1026s 2s/step - loss: 0.0062 - accuracy: 0.9980 - val_loss: 0.0284 - val_accuracy: 0.9943 - lr: 2.0000e-04\n",
      "Epoch 16/100\n",
      "422/422 [==============================] - 2059s 5s/step - loss: 0.0045 - accuracy: 0.9984 - val_loss: 0.0266 - val_accuracy: 0.9952 - lr: 4.0000e-05\n",
      "Epoch 17/100\n",
      "422/422 [==============================] - 3092s 7s/step - loss: 0.0046 - accuracy: 0.9985 - val_loss: 0.0270 - val_accuracy: 0.9950 - lr: 4.0000e-05\n",
      "Epoch 18/100\n",
      "422/422 [==============================] - 1199s 3s/step - loss: 0.0041 - accuracy: 0.9986 - val_loss: 0.0265 - val_accuracy: 0.9952 - lr: 4.0000e-05\n",
      "Epoch 19/100\n",
      "422/422 [==============================] - 1020s 2s/step - loss: 0.0036 - accuracy: 0.9989 - val_loss: 0.0279 - val_accuracy: 0.9952 - lr: 4.0000e-05\n",
      "Epoch 20/100\n",
      "422/422 [==============================] - 243s 577ms/step - loss: 0.0033 - accuracy: 0.9989 - val_loss: 0.0280 - val_accuracy: 0.9950 - lr: 4.0000e-05\n",
      "Epoch 21/100\n",
      "422/422 [==============================] - 17s 40ms/step - loss: 0.0031 - accuracy: 0.9990 - val_loss: 0.0281 - val_accuracy: 0.9947 - lr: 4.0000e-05\n",
      "Epoch 22/100\n",
      "422/422 [==============================] - 17s 39ms/step - loss: 0.0027 - accuracy: 0.9991 - val_loss: 0.0287 - val_accuracy: 0.9948 - lr: 1.0000e-05\n",
      "Epoch 23/100\n",
      "422/422 [==============================] - 17s 41ms/step - loss: 0.0030 - accuracy: 0.9991 - val_loss: 0.0282 - val_accuracy: 0.9948 - lr: 1.0000e-05\n",
      "Epoch 24/100\n",
      "422/422 [==============================] - 17s 40ms/step - loss: 0.0030 - accuracy: 0.9991 - val_loss: 0.0285 - val_accuracy: 0.9952 - lr: 1.0000e-05\n",
      "Epoch 25/100\n",
      "422/422 [==============================] - 17s 41ms/step - loss: 0.0027 - accuracy: 0.9991 - val_loss: 0.0285 - val_accuracy: 0.9952 - lr: 1.0000e-05\n",
      "Epoch 26/100\n",
      "422/422 [==============================] - 17s 40ms/step - loss: 0.0029 - accuracy: 0.9991 - val_loss: 0.0292 - val_accuracy: 0.9950 - lr: 1.0000e-05\n",
      "Epoch 27/100\n",
      "422/422 [==============================] - 17s 41ms/step - loss: 0.0027 - accuracy: 0.9993 - val_loss: 0.0290 - val_accuracy: 0.9950 - lr: 1.0000e-05\n",
      "Epoch 28/100\n",
      "422/422 [==============================] - 18s 44ms/step - loss: 0.0025 - accuracy: 0.9990 - val_loss: 0.0289 - val_accuracy: 0.9953 - lr: 1.0000e-05\n"
     ]
    }
   ],
   "source": [
    "batch_size = 128\n",
    "epochs = 100\n",
    "\n",
    "\n",
    "history = model.fit(X_train,\n",
    "                    y_train,\n",
    "                    epochs=epochs,\n",
    "                    batch_size=batch_size,\n",
    "                    callbacks=[callback_val_loss, reduce_lr],\n",
    "                    validation_split=0.1\n",
    "                    )"
   ]
  },
  {
   "cell_type": "code",
   "execution_count": 19,
   "metadata": {},
   "outputs": [
    {
     "data": {
      "image/png": "[encoded data removed]",
      "text/plain": [
       "<Figure size 640x480 with 1 Axes>"
      ]
     },
     "metadata": {},
     "output_type": "display_data"
    }
   ],
   "source": [
    "import matplotlib.pyplot as plt\n",
    "\n",
    "plt.plot(history.history['loss'])\n",
    "plt.plot(history.history['val_loss'])\n",
    "plt.title(\"Model Loss\")\n",
    "plt.xlabel('Epochs')\n",
    "plt.ylabel('Loss')\n",
    "plt.legend(['Train', 'Test'])\n",
    "plt.show()"
   ]
  },
  {
   "cell_type": "code",
   "execution_count": 20,
   "metadata": {},
   "outputs": [
    {
     "data": {
      "image/png": "[encoded data removed]",
      "text/plain": [
       "<Figure size 640x480 with 1 Axes>"
      ]
     },
     "metadata": {},
     "output_type": "display_data"
    }
   ],
   "source": [
    "plt.plot(history.history['accuracy'])\n",
    "plt.plot(history.history['val_accuracy'])\n",
    "plt.title('Model Accuracy')\n",
    "plt.xlabel('Epochs')\n",
    "plt.ylabel('Accuracy')\n",
    "plt.legend(['Train','Test'])\n",
    "plt.show()"
   ]
  },
  {
   "cell_type": "code",
   "execution_count": 21,
   "metadata": {},
   "outputs": [
    {
     "name": "stdout",
     "output_type": "stream",
     "text": [
      "Test loss: 0.017945006489753723\n",
      "Test accuracy: 0.9954000115394592\n"
     ]
    }
   ],
   "source": [
    "score = model.evaluate(X_test, y_test, verbose=0)\n",
    "print(\"Test loss:\", score[0])\n",
    "print(\"Test accuracy:\", score[1])"
   ]
  },
  {
   "cell_type": "code",
   "execution_count": 22,
   "metadata": {},
   "outputs": [
    {
     "name": "stdout",
     "output_type": "stream",
     "text": [
      "313/313 [==============================] - 3s 10ms/step\n"
     ]
    },
    {
     "data": {
      "image/png": "[encoded data removed]",
      "text/plain": [
       "<Figure size 640x480 with 2 Axes>"
      ]
     },
     "metadata": {},
     "output_type": "display_data"
    }
   ],
   "source": [
    "import matplotlib as mpl\n",
    "import matplotlib.pyplot as plt\n",
    "import matplotlib.pylab as pylab\n",
    "import seaborn as sns\n",
    "import itertools\n",
    "from sklearn.metrics import confusion_matrix\n",
    "\n",
    "def plot_confusion_matrix(cm, classes,\n",
    "                          normalize=False,\n",
    "                          title='Confusion matrix',\n",
    "                          cmap=plt.cm.Blues):\n",
    "    \"\"\"\n",
    "    This function prints and plots the confusion matrix.\n",
    "    Normalization can be applied by setting `normalize=True`.\n",
    "    \"\"\"\n",
    "    plt.imshow(cm, interpolation='nearest', cmap=cmap)\n",
    "    plt.title(title)\n",
    "    plt.colorbar()\n",
    "    tick_marks = np.arange(len(classes))\n",
    "    plt.xticks(tick_marks, classes, rotation=45)\n",
    "    plt.yticks(tick_marks, classes)\n",
    "\n",
    "    if normalize:\n",
    "        cm = cm.astype('float') / cm.sum(axis=1)[:, np.newaxis]\n",
    "\n",
    "    thresh = cm.max() / 2.\n",
    "    for i, j in itertools.product(range(cm.shape[0]), range(cm.shape[1])):\n",
    "        plt.text(j, i, cm[i, j],\n",
    "                 horizontalalignment=\"center\",\n",
    "                 color=\"white\" if cm[i, j] > thresh else \"black\")\n",
    "\n",
    "    plt.tight_layout()\n",
    "    plt.ylabel('True label')\n",
    "    plt.xlabel('Predicted label')\n",
    "\n",
    "# Predict the values from the validation dataset\n",
    "Y_pred = model.predict(X_test)\n",
    "# Convert predictions classes to one hot vectors \n",
    "Y_pred_classes = np.argmax(Y_pred,axis = 1) \n",
    "# Convert validation observations to one hot vectors\n",
    "Y_true = np.argmax(y_test,axis = 1) \n",
    "# compute the confusion matrix\n",
    "confusion_mtx = confusion_matrix(Y_true, Y_pred_classes) \n",
    "# plot the confusion matrix\n",
    "plot_confusion_matrix(confusion_mtx, classes = range(10))"
   ]
  },
  {
   "cell_type": "code",
   "execution_count": 23,
   "metadata": {},
   "outputs": [],
   "source": [
    "# reults with keras documentation network: 99.2\n",
    "# results with AlexNet v1 (50x50 dense): 99.0\n",
    "# results with AlexNet v1 (100x100 dense): 98.9\n",
    "# results with AlexNet v1 (25x25 dense): 98.6\n",
    "# results with VGG16 style: 99.41 (loss 0.018311500549316406)\n",
    "\n",
    "# VGG16 style after adding callbacks (99.55)\n",
    "# random online person (99.6)"
   ]
  }
 ],
 "metadata": {
  "kernelspec": {
   "display_name": "Python 3 (ipykernel)",
   "language": "python",
   "name": "python3"
  },
  "language_info": {
   "codemirror_mode": {
    "name": "ipython",
    "version": 3
   },
   "file_extension": ".py",
   "mimetype": "text/x-python",
   "name": "python",
   "nbconvert_exporter": "python",
   "pygments_lexer": "ipython3",
   "version": "3.11.5"
  }
 },
 "nbformat": 4,
 "nbformat_minor": 4
}
