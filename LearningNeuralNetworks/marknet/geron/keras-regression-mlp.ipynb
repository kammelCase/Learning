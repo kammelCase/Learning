{
 "cells": [
  {
   "cell_type": "code",
   "execution_count": 1,
   "metadata": {},
   "outputs": [],
   "source": [
    "import tensorflow as tf\n",
    "import numpy as np\n",
    "\n",
    "from sklearn.datasets import fetch_california_housing\n",
    "from sklearn.model_selection import train_test_split\n",
    "from sklearn.preprocessing import StandardScaler"
   ]
  },
  {
   "cell_type": "code",
   "execution_count": 2,
   "metadata": {},
   "outputs": [],
   "source": [
    "housing = fetch_california_housing()"
   ]
  },
  {
   "cell_type": "code",
   "execution_count": 3,
   "metadata": {},
   "outputs": [],
   "source": [
    "X_train_full, X_test, y_train_full, y_test = train_test_split(\n",
    "    housing.data, housing.target)\n",
    "X_train, X_valid, y_train, y_valid = train_test_split(\n",
    "    X_train_full, y_train_full)\n",
    "\n",
    "# what the heck is train_test_split?\n",
    "# if this does what i think it does, then i love it.\n",
    "\n",
    "# what is the train_test_split function?\n",
    "# it splits the data into training and testing sets.\n",
    "# thanks github copilot!"
   ]
  },
  {
   "cell_type": "code",
   "execution_count": 4,
   "metadata": {},
   "outputs": [
    {
     "data": {
      "text/plain": [
       "(11610, 8)"
      ]
     },
     "execution_count": 4,
     "metadata": {},
     "output_type": "execute_result"
    }
   ],
   "source": [
    "X_train.shape"
   ]
  },
  {
   "cell_type": "code",
   "execution_count": 5,
   "metadata": {},
   "outputs": [],
   "source": [
    "scaler = StandardScaler()\n",
    "X_train = scaler.fit_transform(X_train)\n",
    "X_valid = scaler.transform(X_valid)\n",
    "X_test = scaler.transform(X_test)\n",
    "\n",
    "# why are we using fit_transform on the training set and not the validation set?\n",
    "# because we want to fit the scaler to the training set, and then use that scaler to transform the validation set."
   ]
  },
  {
   "cell_type": "code",
   "execution_count": 6,
   "metadata": {},
   "outputs": [],
   "source": [
    "model = tf.keras.Sequential([\n",
    "    tf.keras.layers.Dense(30, activation=\"relu\", input_shape=X_train.shape[1:]),\n",
    "    tf.keras.layers.Dense(1)\n",
    "])"
   ]
  },
  {
   "cell_type": "code",
   "execution_count": 7,
   "metadata": {},
   "outputs": [],
   "source": [
    "model.compile(loss=\"mean_squared_error\", optimizer=\"sgd\")"
   ]
  },
  {
   "cell_type": "code",
   "execution_count": 8,
   "metadata": {},
   "outputs": [
    {
     "name": "stdout",
     "output_type": "stream",
     "text": [
      "Epoch 1/20\n",
      "363/363 [==============================] - 0s 550us/step - loss: 0.8549 - val_loss: 0.4820\n",
      "Epoch 2/20\n",
      "363/363 [==============================] - 0s 390us/step - loss: 0.5742 - val_loss: 0.4497\n",
      "Epoch 3/20\n",
      "363/363 [==============================] - 0s 408us/step - loss: 0.4714 - val_loss: 0.4358\n",
      "Epoch 4/20\n",
      "363/363 [==============================] - 0s 388us/step - loss: 0.4555 - val_loss: 0.4244\n",
      "Epoch 5/20\n",
      "363/363 [==============================] - 0s 402us/step - loss: 0.4464 - val_loss: 0.4183\n",
      "Epoch 6/20\n",
      "363/363 [==============================] - 0s 451us/step - loss: 0.4371 - val_loss: 0.4112\n",
      "Epoch 7/20\n",
      "363/363 [==============================] - 0s 425us/step - loss: 0.4307 - val_loss: 0.4048\n",
      "Epoch 8/20\n",
      "363/363 [==============================] - 0s 404us/step - loss: 0.4228 - val_loss: 0.3971\n",
      "Epoch 9/20\n",
      "363/363 [==============================] - 0s 390us/step - loss: 0.4170 - val_loss: 0.3927\n",
      "Epoch 10/20\n",
      "363/363 [==============================] - 0s 380us/step - loss: 0.4115 - val_loss: 0.3852\n",
      "Epoch 11/20\n",
      "363/363 [==============================] - 0s 387us/step - loss: 0.4065 - val_loss: 0.3843\n",
      "Epoch 12/20\n",
      "363/363 [==============================] - 0s 395us/step - loss: 0.4032 - val_loss: 0.3861\n",
      "Epoch 13/20\n",
      "363/363 [==============================] - 0s 388us/step - loss: 0.3985 - val_loss: 0.3748\n",
      "Epoch 14/20\n",
      "363/363 [==============================] - 0s 393us/step - loss: 0.3952 - val_loss: 0.3743\n",
      "Epoch 15/20\n",
      "363/363 [==============================] - 0s 468us/step - loss: 0.3912 - val_loss: 0.3813\n",
      "Epoch 16/20\n",
      "363/363 [==============================] - 0s 451us/step - loss: 0.3876 - val_loss: 0.3695\n",
      "Epoch 17/20\n",
      "363/363 [==============================] - 0s 414us/step - loss: 0.3863 - val_loss: 0.3683\n",
      "Epoch 18/20\n",
      "363/363 [==============================] - 0s 393us/step - loss: 0.3812 - val_loss: 0.3650\n",
      "Epoch 19/20\n",
      "363/363 [==============================] - 0s 408us/step - loss: 0.3824 - val_loss: 0.3669\n",
      "Epoch 20/20\n",
      "363/363 [==============================] - 0s 414us/step - loss: 0.3776 - val_loss: 0.3675\n"
     ]
    }
   ],
   "source": [
    "history = model.fit(X_train, y_train, epochs=20,\n",
    "                    validation_data=(X_valid, y_valid))"
   ]
  },
  {
   "cell_type": "code",
   "execution_count": 9,
   "metadata": {},
   "outputs": [
    {
     "name": "stdout",
     "output_type": "stream",
     "text": [
      "162/162 [==============================] - 0s 280us/step - loss: 0.3879\n"
     ]
    }
   ],
   "source": [
    "mse_test = model.evaluate(X_test, y_test)"
   ]
  },
  {
   "cell_type": "code",
   "execution_count": 10,
   "metadata": {},
   "outputs": [],
   "source": [
    "X_new = X_test[:3] # pretend these are new instances\n"
   ]
  },
  {
   "cell_type": "code",
   "execution_count": 11,
   "metadata": {},
   "outputs": [
    {
     "name": "stdout",
     "output_type": "stream",
     "text": [
      "1/1 [==============================] - 0s 29ms/step\n"
     ]
    }
   ],
   "source": [
    "y_pred = model.predict(X_new)\n"
   ]
  },
  {
   "cell_type": "code",
   "execution_count": 17,
   "metadata": {},
   "outputs": [
    {
     "data": {
      "text/plain": [
       "array([[2.],\n",
       "       [1.],\n",
       "       [2.]], dtype=float32)"
      ]
     },
     "execution_count": 17,
     "metadata": {},
     "output_type": "execute_result"
    }
   ],
   "source": [
    "y_pred.round()"
   ]
  },
  {
   "cell_type": "code",
   "execution_count": null,
   "metadata": {},
   "outputs": [],
   "source": []
  }
 ],
 "metadata": {
  "kernelspec": {
   "display_name": "Python 3",
   "language": "python",
   "name": "python3"
  },
  "language_info": {
   "codemirror_mode": {
    "name": "ipython",
    "version": 3
   },
   "file_extension": ".py",
   "mimetype": "text/x-python",
   "name": "python",
   "nbconvert_exporter": "python",
   "pygments_lexer": "ipython3",
   "version": "3.11.5"
  },
  "nav_menu": {
   "height": "264px",
   "width": "369px"
  },
  "toc": {
   "navigate_menu": true,
   "number_sections": true,
   "sideBar": true,
   "threshold": 6,
   "toc_cell": false,
   "toc_section_display": "block",
   "toc_window_display": false
  }
 },
 "nbformat": 4,
 "nbformat_minor": 4
}
