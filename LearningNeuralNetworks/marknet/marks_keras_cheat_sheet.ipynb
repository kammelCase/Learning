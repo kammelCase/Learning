{
 "cells": [
  {
   "cell_type": "code",
   "execution_count": 1,
   "metadata": {},
   "outputs": [],
   "source": [
    "# my own cheat sheet for all-things-keras\n",
    "\n",
    "import numpy as np\n",
    "import pandas as pd\n",
    "import tensorflow as tf\n",
    "from sklearn.preprocessing import StandardScaler"
   ]
  },
  {
   "cell_type": "code",
   "execution_count": 2,
   "metadata": {},
   "outputs": [],
   "source": [
    "# import and organize data\n",
    "\n",
    "fashion_mnist = tf.keras.datasets.fashion_mnist.load_data()\n",
    "\n",
    "(X_train_full, y_train_full), (X_test, y_test) = fashion_mnist\n",
    "\n",
    "X_train, y_train = X_train_full[:-5000], y_train_full[:-5000]\n",
    "X_valid, y_valid = X_train_full[-5000:], y_train_full[-5000:]"
   ]
  },
  {
   "cell_type": "code",
   "execution_count": 3,
   "metadata": {},
   "outputs": [
    {
     "name": "stdout",
     "output_type": "stream",
     "text": [
      "(55000, 28, 28)\n",
      "uint8\n"
     ]
    }
   ],
   "source": [
    "# verify data shape and type\n",
    "\n",
    "print(X_train.shape)\n",
    "print(X_train.dtype)"
   ]
  },
  {
   "cell_type": "code",
   "execution_count": 4,
   "metadata": {},
   "outputs": [],
   "source": [
    "# scale the data if needed\n",
    "\n",
    "# scaler = StandardScaler()\n",
    "# X_train = scaler.fit_transform(X_train)\n",
    "\n",
    "X_train, X_valid, X_test = X_train / 255., X_valid / 255., X_test / 255. # example of scaling images down"
   ]
  },
  {
   "cell_type": "code",
   "execution_count": 5,
   "metadata": {},
   "outputs": [],
   "source": [
    "# initializing\n",
    "\n",
    "init = tf.keras.initializers.RandomNormal(mean=0, stddev=1.)"
   ]
  },
  {
   "cell_type": "markdown",
   "metadata": {},
   "source": [
    "https://keras.io/api/layers/initializers/"
   ]
  },
  {
   "cell_type": "code",
   "execution_count": 6,
   "metadata": {},
   "outputs": [],
   "source": [
    "# modeling using Sequenial API\n",
    "\n",
    "model = tf.keras.Sequential([\n",
    "    tf.keras.layers.Flatten(input_shape=[28, 28]),\n",
    "    tf.keras.layers.Dense(30, activation=\"relu\"),\n",
    "    tf.keras.layers.Dense(30, activation=\"relu\"),\n",
    "    tf.keras.layers.Dense(10, activation=\"softmax\")\n",
    "])"
   ]
  },
  {
   "cell_type": "markdown",
   "metadata": {},
   "source": [
    "https://keras.io/guides/sequential_model/"
   ]
  },
  {
   "cell_type": "code",
   "execution_count": 7,
   "metadata": {},
   "outputs": [
    {
     "name": "stdout",
     "output_type": "stream",
     "text": [
      "Model: \"sequential\"\n",
      "_________________________________________________________________\n",
      " Layer (type)                Output Shape              Param #   \n",
      "=================================================================\n",
      " flatten (Flatten)           (None, 784)               0         \n",
      "                                                                 \n",
      " dense (Dense)               (None, 30)                23550     \n",
      "                                                                 \n",
      " dense_1 (Dense)             (None, 30)                930       \n",
      "                                                                 \n",
      " dense_2 (Dense)             (None, 10)                310       \n",
      "                                                                 \n",
      "=================================================================\n",
      "Total params: 24790 (96.84 KB)\n",
      "Trainable params: 24790 (96.84 KB)\n",
      "Non-trainable params: 0 (0.00 Byte)\n",
      "_________________________________________________________________\n"
     ]
    }
   ],
   "source": [
    "# model summary\n",
    "\n",
    "model.summary()"
   ]
  },
  {
   "cell_type": "code",
   "execution_count": 8,
   "metadata": {},
   "outputs": [],
   "source": [
    "# model compiling\n",
    "\n",
    "model.compile(loss=\"sparse_categorical_crossentropy\",\n",
    "              optimizer=\"sgd\",\n",
    "              metrics=['accuracy'])"
   ]
  },
  {
   "cell_type": "markdown",
   "metadata": {},
   "source": [
    "see https://keras.io/losses, https://keras.io/optimizers, and https://keras.io/metrics."
   ]
  },
  {
   "cell_type": "code",
   "execution_count": 9,
   "metadata": {},
   "outputs": [
    {
     "name": "stdout",
     "output_type": "stream",
     "text": [
      "Epoch 1/30\n",
      "1719/1719 [==============================] - 1s 466us/step - loss: 0.9007 - accuracy: 0.6953 - val_loss: 0.5680 - val_accuracy: 0.8066\n",
      "Epoch 2/30\n",
      "1719/1719 [==============================] - 1s 418us/step - loss: 0.5409 - accuracy: 0.8136 - val_loss: 0.5010 - val_accuracy: 0.8210\n",
      "Epoch 3/30\n",
      "1719/1719 [==============================] - 1s 418us/step - loss: 0.4832 - accuracy: 0.8315 - val_loss: 0.4559 - val_accuracy: 0.8400\n",
      "Epoch 4/30\n",
      "1719/1719 [==============================] - 1s 417us/step - loss: 0.4534 - accuracy: 0.8417 - val_loss: 0.4449 - val_accuracy: 0.8412\n",
      "Epoch 5/30\n",
      "1719/1719 [==============================] - 1s 434us/step - loss: 0.4334 - accuracy: 0.8494 - val_loss: 0.4473 - val_accuracy: 0.8478\n",
      "Epoch 6/30\n",
      "1719/1719 [==============================] - 1s 418us/step - loss: 0.4201 - accuracy: 0.8540 - val_loss: 0.4214 - val_accuracy: 0.8550\n",
      "Epoch 7/30\n",
      "1719/1719 [==============================] - 1s 422us/step - loss: 0.4069 - accuracy: 0.8583 - val_loss: 0.4309 - val_accuracy: 0.8496\n",
      "Epoch 8/30\n",
      "1719/1719 [==============================] - 1s 420us/step - loss: 0.3970 - accuracy: 0.8618 - val_loss: 0.4153 - val_accuracy: 0.8522\n",
      "Epoch 9/30\n",
      "1719/1719 [==============================] - 1s 427us/step - loss: 0.3876 - accuracy: 0.8654 - val_loss: 0.4015 - val_accuracy: 0.8580\n",
      "Epoch 10/30\n",
      "1719/1719 [==============================] - 1s 422us/step - loss: 0.3800 - accuracy: 0.8663 - val_loss: 0.3966 - val_accuracy: 0.8602\n",
      "Epoch 11/30\n",
      "1719/1719 [==============================] - 1s 421us/step - loss: 0.3731 - accuracy: 0.8689 - val_loss: 0.3899 - val_accuracy: 0.8582\n",
      "Epoch 12/30\n",
      "1719/1719 [==============================] - 1s 421us/step - loss: 0.3663 - accuracy: 0.8704 - val_loss: 0.3896 - val_accuracy: 0.8608\n",
      "Epoch 13/30\n",
      "1719/1719 [==============================] - 1s 435us/step - loss: 0.3612 - accuracy: 0.8732 - val_loss: 0.3781 - val_accuracy: 0.8656\n",
      "Epoch 14/30\n",
      "1719/1719 [==============================] - 1s 421us/step - loss: 0.3559 - accuracy: 0.8749 - val_loss: 0.3911 - val_accuracy: 0.8554\n",
      "Epoch 15/30\n",
      "1719/1719 [==============================] - 1s 418us/step - loss: 0.3504 - accuracy: 0.8765 - val_loss: 0.3744 - val_accuracy: 0.8676\n",
      "Epoch 16/30\n",
      "1719/1719 [==============================] - 1s 417us/step - loss: 0.3461 - accuracy: 0.8784 - val_loss: 0.3912 - val_accuracy: 0.8682\n",
      "Epoch 17/30\n",
      "1719/1719 [==============================] - 1s 416us/step - loss: 0.3416 - accuracy: 0.8791 - val_loss: 0.3649 - val_accuracy: 0.8664\n",
      "Epoch 18/30\n",
      "1719/1719 [==============================] - 1s 420us/step - loss: 0.3375 - accuracy: 0.8812 - val_loss: 0.3555 - val_accuracy: 0.8702\n",
      "Epoch 19/30\n",
      "1719/1719 [==============================] - 1s 420us/step - loss: 0.3328 - accuracy: 0.8818 - val_loss: 0.3720 - val_accuracy: 0.8698\n",
      "Epoch 20/30\n",
      "1719/1719 [==============================] - 1s 423us/step - loss: 0.3291 - accuracy: 0.8838 - val_loss: 0.3614 - val_accuracy: 0.8694\n",
      "Epoch 21/30\n",
      "1719/1719 [==============================] - 1s 437us/step - loss: 0.3257 - accuracy: 0.8851 - val_loss: 0.3716 - val_accuracy: 0.8638\n",
      "Epoch 22/30\n",
      "1719/1719 [==============================] - 1s 419us/step - loss: 0.3216 - accuracy: 0.8863 - val_loss: 0.3847 - val_accuracy: 0.8614\n",
      "Epoch 23/30\n",
      "1719/1719 [==============================] - 1s 419us/step - loss: 0.3173 - accuracy: 0.8865 - val_loss: 0.3682 - val_accuracy: 0.8660\n",
      "Epoch 24/30\n",
      "1719/1719 [==============================] - 1s 415us/step - loss: 0.3154 - accuracy: 0.8869 - val_loss: 0.3503 - val_accuracy: 0.8724\n",
      "Epoch 25/30\n",
      "1719/1719 [==============================] - 1s 415us/step - loss: 0.3108 - accuracy: 0.8899 - val_loss: 0.3697 - val_accuracy: 0.8658\n",
      "Epoch 26/30\n",
      "1719/1719 [==============================] - 1s 415us/step - loss: 0.3079 - accuracy: 0.8912 - val_loss: 0.3472 - val_accuracy: 0.8730\n",
      "Epoch 27/30\n",
      "1719/1719 [==============================] - 1s 416us/step - loss: 0.3058 - accuracy: 0.8904 - val_loss: 0.3626 - val_accuracy: 0.8690\n",
      "Epoch 28/30\n",
      "1719/1719 [==============================] - 1s 431us/step - loss: 0.3022 - accuracy: 0.8913 - val_loss: 0.3393 - val_accuracy: 0.8754\n",
      "Epoch 29/30\n",
      "1719/1719 [==============================] - 1s 421us/step - loss: 0.2995 - accuracy: 0.8931 - val_loss: 0.3607 - val_accuracy: 0.8688\n",
      "Epoch 30/30\n",
      "1719/1719 [==============================] - 1s 429us/step - loss: 0.2965 - accuracy: 0.8939 - val_loss: 0.3494 - val_accuracy: 0.8744\n"
     ]
    }
   ],
   "source": [
    "# training the model\n",
    "\n",
    "history = model.fit(X_train, y_train,\n",
    "                    epochs=30,\n",
    "                    validation_data=(X_valid, y_valid))"
   ]
  },
  {
   "cell_type": "markdown",
   "metadata": {},
   "source": [
    "https://keras.io/guides/training_with_built_in_methods/"
   ]
  },
  {
   "cell_type": "code",
   "execution_count": 11,
   "metadata": {},
   "outputs": [
    {
     "data": {
      "text/plain": [
       "{'verbose': 1, 'epochs': 30, 'steps': 1719}"
      ]
     },
     "execution_count": 11,
     "metadata": {},
     "output_type": "execute_result"
    }
   ],
   "source": [
    "history.history # holds a record of the metrics during training\n",
    "history.epoch   # list of completed epochs\n",
    "history.params  # shows training parameters"
   ]
  },
  {
   "cell_type": "code",
   "execution_count": 14,
   "metadata": {},
   "outputs": [
    {
     "data": {
      "text/plain": [
       "<Axes: xlabel='Epoch'>"
      ]
     },
     "execution_count": 14,
     "metadata": {},
     "output_type": "execute_result"
    },
    {
     "data": {
      "image/png": "[encoded data removed]",
      "text/plain": [
       "<Figure size 800x500 with 1 Axes>"
      ]
     },
     "metadata": {},
     "output_type": "display_data"
    }
   ],
   "source": [
    "# graphing training\n",
    "\n",
    "import matplotlib.pyplot as plt\n",
    "\n",
    "pd.DataFrame(history.history).plot(\n",
    "    figsize=(8,5), xlim=[0,29], ylim=[0,1], grid=True, xlabel='Epoch',\n",
    ")"
   ]
  },
  {
   "cell_type": "code",
   "execution_count": null,
   "metadata": {},
   "outputs": [],
   "source": []
  }
 ],
 "metadata": {
  "kernelspec": {
   "display_name": "ds",
   "language": "python",
   "name": "python3"
  },
  "language_info": {
   "codemirror_mode": {
    "name": "ipython",
    "version": 3
   },
   "file_extension": ".py",
   "mimetype": "text/x-python",
   "name": "python",
   "nbconvert_exporter": "python",
   "pygments_lexer": "ipython3",
   "version": "3.11.5"
  }
 },
 "nbformat": 4,
 "nbformat_minor": 2
}
